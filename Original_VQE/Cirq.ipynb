{
 "cells": [
  {
   "cell_type": "markdown",
   "metadata": {},
   "source": [
    "# Import"
   ]
  },
  {
   "cell_type": "code",
   "execution_count": 1,
   "metadata": {},
   "outputs": [],
   "source": [
    "import numpy as np\n",
    "import scipy\n",
    "from collections import OrderedDict\n",
    "from typing import List, Tuple\n",
    "import matplotlib.pyplot as plt\n",
    "import pandas as pd\n",
    "import tqdm\n",
    "\n",
    "import cirq\n",
    "import pyscf\n",
    "import openfermion\n",
    "import openfermionpyscf \n",
    "import itertools\n",
    "\n",
    "from pyscf import gto, scf, fci\n",
    "from openfermion.transforms import jordan_wigner, get_fermion_operator\n",
    "from openfermionpyscf import run_pyscf\n",
    "from openfermion.utils import count_qubits\n",
    "from openfermion.linalg import jw_hartree_fock_state\n",
    "from openfermion.circuits import simulate_trotter\n",
    "from openfermion import (\n",
    "    MolecularData, get_sparse_operator, get_ground_state, FermionOperator,\n",
    "    jw_get_ground_state_at_particle_number,\n",
    "    expectation, uccsd_convert_amplitude_format,\n",
    "    get_interaction_operator, QubitOperator, eigenspectrum,\n",
    "    InteractionOperator\n",
    ")"
   ]
  },
  {
   "cell_type": "markdown",
   "metadata": {},
   "source": [
    "# Load Hamiltonian for HeH+\n",
    "\n",
    "- The full configuration interaction Hamiltonian for this system has dimension 4 , and can be written compactly as\n",
    "    $$\n",
    "    \\mathcal{H}(R)=\\sum_{i \\alpha} h_{\\alpha}^{i}(R) \\sigma_{\\alpha}^{i}+\\sum_{i j \\alpha \\beta} h_{\\alpha \\beta}^{i j}(R) \\sigma_{\\alpha}^{i} \\sigma_{\\beta}^{j}\n",
    "    $$\n",
    "    The coefficients $h_{\\alpha}^{i}(R)$ and $h_{\\alpha \\beta}^{i j}(R)$ were determined using the PSI3 computational package ${ }^{32}$ and are tabulated in Supplementary Table 2 ."
   ]
  },
  {
   "cell_type": "code",
   "execution_count": 2,
   "metadata": {},
   "outputs": [
    {
     "data": {
      "text/html": [
       "<div>\n",
       "<style scoped>\n",
       "    .dataframe tbody tr th:only-of-type {\n",
       "        vertical-align: middle;\n",
       "    }\n",
       "\n",
       "    .dataframe tbody tr th {\n",
       "        vertical-align: top;\n",
       "    }\n",
       "\n",
       "    .dataframe thead th {\n",
       "        text-align: right;\n",
       "    }\n",
       "</style>\n",
       "<table border=\"1\" class=\"dataframe\">\n",
       "  <thead>\n",
       "    <tr style=\"text-align: right;\">\n",
       "      <th></th>\n",
       "      <th>R</th>\n",
       "      <th>II</th>\n",
       "      <th>IX</th>\n",
       "      <th>IZ</th>\n",
       "      <th>XI</th>\n",
       "      <th>XX</th>\n",
       "      <th>XZ</th>\n",
       "      <th>ZI</th>\n",
       "      <th>ZX</th>\n",
       "      <th>ZZ</th>\n",
       "    </tr>\n",
       "  </thead>\n",
       "  <tbody>\n",
       "    <tr>\n",
       "      <th>0</th>\n",
       "      <td>0.05</td>\n",
       "      <td>16.97785</td>\n",
       "      <td>-0.07575</td>\n",
       "      <td>-1.23920</td>\n",
       "      <td>-0.07575</td>\n",
       "      <td>0.07060</td>\n",
       "      <td>0.07575</td>\n",
       "      <td>-1.23920</td>\n",
       "      <td>0.07575</td>\n",
       "      <td>0.13730</td>\n",
       "    </tr>\n",
       "    <tr>\n",
       "      <th>1</th>\n",
       "      <td>0.10</td>\n",
       "      <td>6.68025</td>\n",
       "      <td>-0.08130</td>\n",
       "      <td>-1.21840</td>\n",
       "      <td>-0.08130</td>\n",
       "      <td>0.10485</td>\n",
       "      <td>0.08130</td>\n",
       "      <td>-1.21840</td>\n",
       "      <td>0.08130</td>\n",
       "      <td>0.10405</td>\n",
       "    </tr>\n",
       "    <tr>\n",
       "      <th>2</th>\n",
       "      <td>0.15</td>\n",
       "      <td>3.41160</td>\n",
       "      <td>-0.07685</td>\n",
       "      <td>-1.19005</td>\n",
       "      <td>-0.07685</td>\n",
       "      <td>0.13400</td>\n",
       "      <td>0.07685</td>\n",
       "      <td>-1.19005</td>\n",
       "      <td>0.07685</td>\n",
       "      <td>0.07560</td>\n",
       "    </tr>\n",
       "  </tbody>\n",
       "</table>\n",
       "</div>"
      ],
      "text/plain": [
       "      R        II       IX       IZ       XI       XX       XZ       ZI  \\\n",
       "0  0.05  16.97785 -0.07575 -1.23920 -0.07575  0.07060  0.07575 -1.23920   \n",
       "1  0.10   6.68025 -0.08130 -1.21840 -0.08130  0.10485  0.08130 -1.21840   \n",
       "2  0.15   3.41160 -0.07685 -1.19005 -0.07685  0.13400  0.07685 -1.19005   \n",
       "\n",
       "        ZX       ZZ  \n",
       "0  0.07575  0.13730  \n",
       "1  0.08130  0.10405  \n",
       "2  0.07685  0.07560  "
      ]
     },
     "execution_count": 2,
     "metadata": {},
     "output_type": "execute_result"
    }
   ],
   "source": [
    "H_df = pd.read_csv(\"/VQE/Original_VQE/H_R.txt\", delimiter=' ')\n",
    "H_df[H_df.columns[H_df.columns != 'R']]/=2.0  # divided by 2 is the real value\n",
    "H_df.head(3)"
   ]
  },
  {
   "cell_type": "markdown",
   "metadata": {},
   "source": [
    "- Define the operator corresponding to the Hamiltonian term. Then combing the operators and the coefficients, we can reconstruct the Hamiltonian."
   ]
  },
  {
   "cell_type": "code",
   "execution_count": 3,
   "metadata": {},
   "outputs": [],
   "source": [
    "pauliX=np.array([[0,1],\n",
    "                 [1,0]],\n",
    "                dtype=complex)\n",
    "pauliZ=np.array([[1,0],\n",
    "                 [0,-1]],\n",
    "                dtype=complex)\n",
    "\n",
    "# Define dictionary of necessary Pauli operators (four-dimensional) as matrices.\n",
    "\n",
    "operator_list={\n",
    "    \"II\": np.kron(np.identity(2),np.identity(2)).astype(complex),\n",
    "    \"IX\": np.kron(np.identity(2),pauliX).astype(complex),\n",
    "    \"IZ\": np.kron(np.identity(2),pauliZ).astype(complex),\n",
    "    \"XI\": np.kron(pauliX,np.identity(2)).astype(complex), \n",
    "    \"XX\": np.kron(pauliX,pauliX).astype(complex),\n",
    "    \"XZ\": np.kron(pauliX,pauliZ).astype(complex),\n",
    "    \"ZI\": np.kron(pauliZ,np.identity(2)).astype(complex),\n",
    "    \"ZX\": np.kron(pauliZ,pauliX).astype(complex),\n",
    "    \"ZZ\": np.kron(pauliZ,pauliZ).astype(complex)\n",
    "    }"
   ]
  },
  {
   "cell_type": "markdown",
   "metadata": {},
   "source": [
    "# Original VQE method:\n",
    "\n",
    "- Algorithm:\n",
    "  - Prepare the state according to the given parameters.\n",
    "  - Calculate the Hamiltonian matrix according to the given Hamiltonian information.\n",
    "  - Calculate the expectation energy value according to the state and the Hamiltonian.\n",
    "  - Optimized the parameters to given the lowest energy with Nelder-Mead algorithm."
   ]
  },
  {
   "cell_type": "markdown",
   "metadata": {},
   "source": [
    "## Prepare the state from the parameters\n",
    "\n",
    "- An arbitrary 2-qubit pure state can be parametrized in the following form\n",
    "    $$\n",
    "    \\begin{aligned}\n",
    "    |\\psi\\rangle=& \\cos \\left(\\frac{\\theta_{0}}{2}\\right) \\cos \\left(\\frac{\\theta_{1}}{2}\\right)\\left|0_{1} 0_{2}\\right\\rangle \\\\\n",
    "    &+\\cos \\left(\\frac{\\theta_{0}}{2}\\right) \\sin \\left(\\frac{\\theta_{1}}{2}\\right) e^{i \\omega_{1}}\\left|0_{1} 1_{2}\\right\\rangle \\\\\n",
    "    &+\\sin \\left(\\frac{\\theta_{0}}{2}\\right) e^{i \\omega_{0}} \\cos \\left(\\frac{\\theta_{2}}{2}\\right)\\left|1_{1} 0_{2}\\right\\rangle \\\\\n",
    "    &+\\sin \\left(\\frac{\\theta_{0}}{2}\\right) e^{i \\omega_{0}} \\sin \\left(\\frac{\\theta_{2}}{2}\\right) e^{i \\omega_{2}}\\left|1_{1} 1_{2}\\right\\rangle, \\\\\n",
    "    & \\theta_{i} \\in[0, \\pi], \\omega_{i} \\in[0,2 \\pi] .\n",
    "    \\end{aligned}\n",
    "    $$\n",
    "    - So here it use 6 parameters to form the $\\left\\{\\theta_{i}\\right\\} = \\left\\{\\theta_{0}, \\theta_{1}, \\theta_{2}, \\omega_{0}, \\omega_{1}, \\omega_{2}\\right\\}$."
   ]
  },
  {
   "cell_type": "code",
   "execution_count": 4,
   "metadata": {},
   "outputs": [],
   "source": [
    "def get_state_from_parameters(parameters: List[float]) -> List[complex]:\n",
    "    \"\"\"\n",
    "    Get the state from the parameters.\n",
    "    \n",
    "    Args:\n",
    "        parameters: List of six parameters\n",
    "    \n",
    "    returns:\n",
    "        state: product vector of the state\n",
    "    \"\"\"\n",
    "\n",
    "    # Get the parameters from the input list\n",
    "    theta0=parameters[0]\n",
    "    theta1=parameters[1]\n",
    "    theta2=parameters[2]\n",
    "    w0=parameters[3]\n",
    "    w1=parameters[4]\n",
    "    w2=parameters[5]\n",
    "    \n",
    "    # Calculate complex coordinates from parameters\n",
    "    a=np.cos(theta0/2)*np.cos(theta1/2)\n",
    "    b=np.cos(theta0/2)*np.sin(theta1/2)*np.exp(w1*1j)\n",
    "    c=np.sin(theta0/2)*np.exp(w0*1j)*np.cos(theta2/2)\n",
    "    d=np.sin(theta0/2)*np.exp(w0*1j)*np.sin(theta2/2)*np.exp(w2*1j)\n",
    "\n",
    "    # construct the state\n",
    "    zero_v = np.array([1, 0])\n",
    "    one_v = np.array([0, 1])\n",
    "    phi_vector = a*np.kron(zero_v, zero_v) + b*np.kron(zero_v, one_v) +\\\n",
    "                 c*np.kron(one_v, zero_v) + d*np.kron(one_v, one_v)\n",
    "    return phi_vector"
   ]
  },
  {
   "cell_type": "markdown",
   "metadata": {},
   "source": [
    "## Get energy from direct matrix operation"
   ]
  },
  {
   "cell_type": "code",
   "execution_count": 5,
   "metadata": {},
   "outputs": [],
   "source": [
    "def get_Hamiltonian_matrix(H_pd: pd.Series) -> np.array:\n",
    "    \"\"\"\n",
    "    Get the Hamiltonian from the pd.series.\n",
    "    \n",
    "    Args:\n",
    "        H_pd: contain the Pauli operator and its coefficients\n",
    "    \n",
    "    returns:\n",
    "        H_matrix: matrix presentation of the Hamiltonian\n",
    "    \"\"\"\n",
    "    \n",
    "    H_matrix = np.complex128(0)\n",
    "    for key in H_pd.keys():\n",
    "        coeff = complex(H_pd[key])\n",
    "        hm = operator_list.get(key, 0+0j)\n",
    "        H_matrix += coeff * hm  # Hamiltonian = coefficients * operator\n",
    "    return H_matrix\n"
   ]
  },
  {
   "cell_type": "code",
   "execution_count": 6,
   "metadata": {},
   "outputs": [],
   "source": [
    "def get_expectation_from_matrix_operation(parameters: List[float], H_df: pd.Series, repetitions: int = 100) -> float:\n",
    "    \"\"\"\n",
    "    Get the expected value of the energy from : <bra|H|ket>\n",
    "\n",
    "    Args:\n",
    "        parameters: List of six parameters used to prepare the state\n",
    "        H_df: contain the Hamiltonian information to prepare the Hamiltonian\n",
    "        repetitions: redundant, no use here\n",
    "\n",
    "    Returns:\n",
    "        energy: The expected value of the energy from : <bra|H|ket>\n",
    "    \"\"\"\n",
    "\n",
    "    bra = get_state_from_parameters(parameters)\n",
    "    H_matrix = get_Hamiltonian_matrix(H_df)\n",
    "    ket = np.array(bra).conj().T\n",
    "    return np.real(np.dot(np.dot(bra, H_matrix),ket))"
   ]
  },
  {
   "cell_type": "code",
   "execution_count": 7,
   "metadata": {},
   "outputs": [],
   "source": [
    "def get_expectation_from_operation(parameters: List[float], operator: str, repetitions: int = 100) -> float:\n",
    "    \"\"\"\n",
    "    Get the expected value of the energy from : <bra|H|ket>\n",
    "\n",
    "    Args:\n",
    "        parameters: List of six parameters used to prepare the state\n",
    "        H_df: contain the Hamiltonian information to prepare the Hamiltonian\n",
    "        repetitions: redundant, no use here\n",
    "\n",
    "    Returns:\n",
    "        energy: The expected value of the energy from : <bra|H|ket>\n",
    "    \"\"\"\n",
    "    \n",
    "    bra = get_state_from_parameters(parameters)\n",
    "    H_matrix = operator_list[operator]\n",
    "    ket = np.array(bra).conj().T\n",
    "    return np.real(np.dot(np.dot(bra, H_matrix),ket))"
   ]
  },
  {
   "cell_type": "markdown",
   "metadata": {},
   "source": [
    "## Get energy from Cirq simulation"
   ]
  },
  {
   "cell_type": "markdown",
   "metadata": {},
   "source": [
    "### Prepare the initial two qubits state with [Schmidt decomposition](https://arxiv.org/pdf/2107.09155.pdf)\n",
    "\n",
    "1. Any pure state $|\\psi\\rangle \\in \\mathbb{C}^{(m\\times n)}$ can be represented as\n",
    "    $$\n",
    "    |\\psi\\rangle=\\sum_{i=1}^{k} \\lambda_{i}\\left|\\alpha_{i}\\right\\rangle \\otimes\\left|\\beta_{i}\\right\\rangle  \\tag{1}\n",
    "    $$\n",
    "    with $k=\\min (m, n)$. The set of bases vectors $\\left\\{\\left|\\alpha_{i}\\right\\rangle\\right\\} \\in \\mathbb{C}^{m}$ and $\\left\\{\\left|\\beta_{i}\\right\\rangle\\right\\} \\in \\mathbb{C}^{n}$ are called Schmidt bases which are orthogonal in respective Hilbert spaces. The coefficients $\\lambda_{i}$ in equation (1) are called Schmidt coefficients.\n",
    "2. We can always represent the pure state $|\\psi\\rangle \\in \\mathbb{C}^{m\\times n}$ using computational bases as\n",
    "   $$\n",
    "   |\\psi\\rangle=\\sum_{i=1}^{m} \\sum_{j=1}^{n} C_{i j}\\left|e_{i}\\right\\rangle \\otimes\\left|f_{j}\\right\\rangle, \\tag{2}\n",
    "   $$\n",
    "   where $\\left|e_{i}\\right\\rangle \\in \\mathbb{C}^{m}$ and $\\left|f_{j}\\right\\rangle \\in \\mathbb{C}^{n}$.\n",
    "   If we do the SVD of the matrix $C$ in (2) and write\n",
    "   $$\n",
    "   C=U \\Sigma V^{\\dagger}\\tag{3}\n",
    "   $$\n",
    "   then without going into the mathematical details, from the three equations (1), (2), and (3) we can show that\n",
    "   $$\n",
    "   \\sigma_{i i}=\\lambda_{i},\\left|\\alpha_{i}\\right\\rangle=\\sum_k U_{ki}\\left|e_{k}\\right\\rangle, \\text { and }\\left|\\beta_{i}\\right\\rangle=\\sum_k V^{\\dagger}_{ik}\\left|f_{k}\\right\\rangle=\\sum_k V^{*}_{ki}\\left|f_{k}\\right\\rangle\n",
    "   $$\n",
    "   where $\\sigma_{i i} = 0 \\in {\\Sigma = \\{\\sigma_{ij}\\}}$ for $i\\neq j$. The Unitary $U$ (and $V^{\\dagger}$) can be decomposed to [single qubit rotation gate](https://www.osti.gov/servlets/purl/889415):\n",
    "   $$\n",
    "   \\begin{aligned}\n",
    "    U&=e^{i \\theta_{0}} e^{-i \\theta_{1} \\sigma_{z} / 2} e^{-i \\theta_{2} \\sigma_{y} / 2} e^{-i \\theta_{3} \\sigma_{z} / 2}\\\\\n",
    "    &=e^{i \\theta_{0}}\\left[\\begin{array}{cc}\n",
    "    e^{-i \\theta_{1} / 2} & 0 \\\\\n",
    "    0 & e^{i \\theta_{1} / 2}\n",
    "    \\end{array}\\right]\\left[\\begin{array}{cc}\n",
    "    \\cos \\left(\\frac{\\theta_{2}}{2}\\right) & -\\sin \\left(\\frac{\\theta_{2}}{2}\\right) \\\\\n",
    "    \\sin \\left(\\frac{\\theta_{2}}{2}\\right) & \\cos \\left(\\frac{\\theta_{2}}{2}\\right)\n",
    "    \\end{array}\\right]\\left[\\begin{array}{cc}\n",
    "    e^{-i \\theta_{3} / 2} & 0 \\\\\n",
    "    0 & e^{i \\theta_{3} / 2}\n",
    "    \\end{array}\\right]\\\\\n",
    "    &=e^{i \\theta_{0}}\\left[\\begin{array}{cc}\n",
    "    e^{-i (\\theta_{1}+\\theta_{3}) / 2}\\cos \\left(\\frac{\\theta_{2}}{2}\\right) & -e^{-i (\\theta_{1}-\\theta_{3}) / 2}\\sin \\left(\\frac{\\theta_{2}}{2}\\right) \\\\\n",
    "    e^{i (\\theta_{1}-\\theta_{3}) / 2}\\sin \\left(\\frac{\\theta_{2}}{2}\\right) & e^{i (\\theta_{1}+\\theta_{3}) / 2}\\cos \\left(\\frac{\\theta_{2}}{2}\\right)\n",
    "    \\end{array}\\right]\n",
    "    \\end{aligned}\n",
    "    $$\n",
    "3. Example of two qubit state:\n",
    "   1. First prepare the two qubit entanglement states with single and CNOT gate: \n",
    "        $$\n",
    "        |00\\rangle \\to \\left(\\sigma_{00}|0\\rangle + \\sigma_{11}|1\\rangle\\right)|1\\rangle \\to \\sigma_{00}|00\\rangle + \\sigma_{11}|11\\rangle\n",
    "        $$.\n",
    "   2. Apply the single qubit unitary gate on each qubit:\n",
    "        $$\n",
    "        U \\otimes V^{*}\\left(\\sigma_{00}|00\\rangle + \\sigma_{11}|11\\rangle\\right) = \\sigma_{00}|\\alpha_0\\rangle | \\beta_0\\rangle + \\sigma_{11}|\\alpha_1\\rangle | \\beta_1\\rangle\n",
    "        $$\n",
    "        which is the target two qubit state we need."
   ]
  },
  {
   "cell_type": "code",
   "execution_count": 8,
   "metadata": {},
   "outputs": [],
   "source": [
    "def unitary_to_gate(u: np.matrix, vh: np.matrix, q0: cirq.LineQubit, q1: cirq.LineQubit) -> List[cirq.Gate]:\n",
    "    \"\"\" \n",
    "    Transform the unitary matrix u and vh, which is get from schmidt_decomposition, to the single qubit gate applied on the circuit with q0 and q1 respectively.\n",
    "\n",
    "    Args:\n",
    "        u (np.matrix): The unitary matrix to transform.\n",
    "        vh (np.matrix): The unitary matrix to transform\n",
    "        q0 (cirq.LineQubit): The first qubit\n",
    "        q1 (cirq.LineQubit): The second qubit\n",
    "\n",
    "    Returns:\n",
    "        List[cirq.Gate]: A series gate that used to prepare the state in the circuit.\n",
    "\n",
    "    \"\"\"\n",
    "    # Compute the angles of each rotation from the entries of the matrix\n",
    "    q0_theta3 = - np.angle(u[0][0]) + np.angle(-u[0][1])\n",
    "    q0_theta2 = 2*np.arccos(np.abs(u[0][0]))\n",
    "    q0_theta1 = np.angle(u[1][0]) - np.angle(u[0][0])\n",
    "    q0_theta0 = np.angle(u[0][0]) + (q0_theta1 + q0_theta3)/2.0\n",
    "\n",
    "    q1_theta3 = - np.angle(vh[0][0]) + np.angle(-vh[0][1])\n",
    "    q1_theta2 = 2*np.arccos(np.abs(vh[0][0]))\n",
    "    q1_theta1 = np.angle(vh[1][0]) - np.angle(vh[0][0])\n",
    "    q1_theta0 = np.angle(vh[0][0]) + (q1_theta1 + q1_theta3)/2.0\n",
    "\n",
    "    ## Verify the decomposition\n",
    "\n",
    "    # z = np.matrix([[1.0, 0.0],[0.0, -1.0]], dtype=complex)\n",
    "    # y = np.matrix([[0.0,  -1j],[1j, 0.0]], dtype=complex)\n",
    "    # ru = scipy.linalg.expm(1j*np.identity(2)*q0_theta0)@scipy.linalg.expm(-1j*q0_theta1/2.0*z)@\\\n",
    "    #         scipy.linalg.expm(-1j*q0_theta2/2.0*y)@scipy.linalg.expm(-1j*q0_theta3/2.0*z)\n",
    "    # print(f\"ru = {ru}\\n, u={u}\")\n",
    "\n",
    "    # rv = scipy.linalg.expm(1j*np.identity(2)*q1_theta0)@scipy.linalg.expm(-1j*q1_theta1/2.0*z)@\\\n",
    "    #         scipy.linalg.expm(-1j*q1_theta2/2.0*y)@scipy.linalg.expm(-1j*q1_theta3/2.0*z)\n",
    "    # print(f\"rv = {rv}\\n, vh={vh}\")\n",
    "    \n",
    "    # Create the necessary rotation gates\n",
    "    R0_q0 = cirq.MatrixGate(np.identity(2)*np.exp(1j*q0_theta0)).on(q0)\n",
    "    R1_q0=cirq.rz(q0_theta1)(q0)\n",
    "    R2_q0=cirq.ry(q0_theta2)(q0)\n",
    "    R3_q0=cirq.rz(q0_theta3)(q0)\n",
    "    \n",
    "    R0_q1 = cirq.MatrixGate(np.identity(2)*np.exp(1j*q1_theta0)).on(q1)\n",
    "    R1_q1=cirq.rz(q1_theta1)(q1)\n",
    "    R2_q1=cirq.ry(q1_theta2)(q1)\n",
    "    R3_q1=cirq.rz(q1_theta3)(q1)\n",
    "\n",
    "\n",
    "    yield [R3_q0, R3_q1]\n",
    "    yield [R2_q0, R2_q1]\n",
    "    yield [R1_q0, R1_q1]\n",
    "    yield [R0_q0, R0_q1]\n",
    "    \n",
    "def schmidt_decomposition(state_matrix: np.ndarray, qubits: cirq.LineQubit) -> List[cirq.Gate]:\n",
    "    ''' \n",
    "    Using Schmidt decomposition to decompose the state matrix to a series of qubit gate that could be used to prepare the state in the circuit.all_measurement_key_names\n",
    "\n",
    "    Args:\n",
    "        state_matrix (np.ndarray): 2x2 matrix that represent the coefficients of the [[|00>, |01>], \n",
    "                                                                                      [|10>, |11>]].\n",
    "        qubits (cirq.LineQubit): 2 qubits here.\n",
    "    \n",
    "    Returns:\n",
    "        gates (List[cirq.Gate]): A series gate that used to prepare the state in the circuit.\n",
    "        u, vh (np.matrix): 2x2 matrix that represent the SVD decomposition matrix\n",
    "    ''' \n",
    "    \n",
    "    # Get the SVD decomposition\n",
    "    u, s, vh = np.linalg.svd(state_matrix)\n",
    "\n",
    "    ## Verify the decomposition\n",
    "    # print(f\"state reconstruction = {u@np.diag(s)@vh}\")\n",
    "    # print(f\"state reconstruction = {np.dot(np.kron(u, vh.T), np.array([s[0], 0, 0, s[1]]))}\")\n",
    "    # print(f\"svd s = {np.diag(s)}, s_norm = {np.linalg.norm(s)}\")\n",
    "\n",
    "    # Create operations to get s[0]|00>+s[1]|11> from |00>\n",
    "    rotation = cirq.ry(2*np.arccos(np.abs(s[0])))\n",
    "    gates = [rotation(qubits[0]), cirq.CNOT(qubits[0],qubits[1])]\n",
    "    \n",
    "    return (gates, u, vh.T)\n",
    "\n",
    "def state_preparation_gates(init_parameters: List[float], qubits: cirq.LineQubit) -> List[cirq.Gate]:\n",
    "    ''' \n",
    "    The init_parameters are used to calculate the prepared state matrix, and then use the Schmidt decomposition to calculate the series circuit gate, which is used to prepare the state.\n",
    "\n",
    "    Args:\n",
    "        init_parameters (List[float]): The parameters used to prepare the state according to the paper.\n",
    "        qubits (cirq.LineQubit): 2 qubit here.\n",
    "    \n",
    "    Returns:\n",
    "        gates (List[cirq.Gate]): A series gate that used to prepare the state in the circuit.\n",
    "    ''' \n",
    "    \n",
    "    # Get the state coordinates and reshape as a 2x2 matrix\n",
    "    state_vector = get_state_from_parameters(parameters = init_parameters)\n",
    "    state_matrix = np.reshape(state_vector, (2,2)).astype(complex)\n",
    "    # print(f\"state_vector = {state_vector}\")\n",
    "    # Get the gates to be applied first, and the unitary single qubit matrices\n",
    "    #to be applied second to prepare the state\n",
    "    gates, u, vh = schmidt_decomposition(state_matrix, qubits)\n",
    "    \n",
    "    yield gates\n",
    "    yield unitary_to_gate(u, vh, qubits[0], qubits[1])\n",
    "\n"
   ]
  },
  {
   "cell_type": "markdown",
   "metadata": {},
   "source": [
    "### Get expectation from state measurement.\n",
    "1. Get expectation values of Pauli matrix, such as X, Z used here, from a given state $|\\phi\\rangle = \\alpha |0\\rangle + \\beta |1\\rangle$. (The Cirq measure the $|\\langle 1|\\phi\\rangle|^2$ ). To simulate the real quantum computer, we here only use the measurement of the qubit to give the expectation values.\n",
    "   1. For Z:\n",
    "      $$\n",
    "      \\begin{aligned}\n",
    "      \\langle \\phi|Z| \\phi\\rangle &= \\alpha^*\\alpha - \\beta^*\\beta\\\\\n",
    "      &= 1- 2\\beta^*\\beta\\\\\n",
    "      & = 1 - 2|\\langle 1| \\phi\\rangle|^2\n",
    "      \\end{aligned}\n",
    "      $$\n",
    "   2. For X:\n",
    "      $$\n",
    "      \\begin{aligned}\n",
    "      \\langle \\phi|X| \\phi\\rangle &= \\alpha^*\\beta + \\beta^*\\alpha\\\\\n",
    "      &= 1- (\\alpha^*\\alpha + \\beta^*\\beta - \\alpha^*\\beta - \\beta^*\\alpha)\\\\\n",
    "      & = 1 - 2\\frac{(\\alpha - \\beta)}{\\sqrt{2}}\\frac{(\\alpha^* - \\beta^*)}{\\sqrt{2}}\\\\\n",
    "      & = 1 - 2|\\langle 1|H| \\phi\\rangle|^2\n",
    "      \\end{aligned}\n",
    "      $$\n",
    "   3. For Y:\n",
    "      $$\n",
    "      \\begin{aligned}\n",
    "      \\langle \\phi|Y| \\phi\\rangle &= -i(\\alpha^*\\beta - \\beta^*\\alpha)\\\\\n",
    "      &= 1- (\\alpha^*\\alpha + \\beta^*\\beta + i\\alpha^*\\beta - i\\beta^*\\alpha)\\\\\n",
    "      & = 1 - 2\\frac{(\\alpha + i\\beta)}{\\sqrt{2}}\\frac{(\\alpha^* - i\\beta^*)}{\\sqrt{2}}\\\\\n",
    "      & = 1 - 2|\\langle 1|\\text{Rx}(-\\frac{\\pi}{2})| \\phi\\rangle|^2\n",
    "      \\end{aligned}\n",
    "      $$\n",
    "      where $\\text{Rx}(-\\frac{\\pi}{2}) = \\exp{(i\\frac{\\pi}{2}\\sigma_X)}$\n",
    "   4. For I: return 1"
   ]
  },
  {
   "cell_type": "code",
   "execution_count": 9,
   "metadata": {},
   "outputs": [],
   "source": [
    "def measure_expectation_from_Cirq(init_parameters: List[float], operators: str, repetitions: int = 100) -> float:\n",
    "    \"\"\"\n",
    "    Calculate the expectation for a given state initial parameters and operator.\n",
    "\n",
    "    Args:\n",
    "        init_parameters (List[float]): Initial parameters used to prepare the state.\n",
    "        operators (str): Operator, such as \"XZ\" for two qubit respectively, used to calculate the expectation.\n",
    "        repetitions (int): The number of times to repeat the simulation.\n",
    "\n",
    "    Returns:\n",
    "        energy (float): Expectation energy.\n",
    "\n",
    "    \"\"\"\n",
    "    \n",
    "    # return 1.0 directly for totally identity operator\n",
    "    if operators == \"II\":\n",
    "        return 1.0\n",
    "\n",
    "    # Initialize qubits and circuit.\n",
    "    n=2\n",
    "    qubits=cirq.LineQubit.range(n)\n",
    "    circuit=cirq.Circuit()\n",
    "    \n",
    "    # Add gates to the circuit that prepare the state corresponding to the initial parameters.\n",
    "    circuit.append(state_preparation_gates(init_parameters, qubits))\n",
    "\n",
    "    ## Get prepared state of the circuit, verify the expectation energy.\n",
    "\n",
    "    # final_state = cirq.final_state_vector(circuit)\n",
    "    # print(f\"final_state = {final_state}\")\n",
    "    # bra = np.array(final_state)\n",
    "    # ket = np.array(bra).conj().T\n",
    "    # H_matrix = operator_list[operators]\n",
    "    # ave =  np.real(np.dot(np.dot(bra, H_matrix),ket))\n",
    "    # print(f\"ave = {ave}, norm = {np.dot(bra, ket)}\")\n",
    "\n",
    "    # Add measurements to the circuit corresponding to the operator string\n",
    "    for i in range(n):\n",
    "        op = operators[i]\n",
    "        assert op in [\"I\", \"X\", \"Y\", \"Z\"], f\"operator {op} is not a valid Pauli matrix\"\n",
    "        if op == \"X\":\n",
    "            circuit.append(cirq.H(qubits[i]))\n",
    "        elif op == \"Y\":\n",
    "            rx90 = cirq.rx(-np.pi/2)\n",
    "            circuit.append(rx90(qubits[i]))\n",
    "        \n",
    "        if op != \"I\": \n",
    "            circuit.append(cirq.measure(qubits[i], key=str(i)))\n",
    "\n",
    "    # Sample the desired number of repetitions\n",
    "    \n",
    "    s=cirq.Simulator()\n",
    "    results=s.run(circuit, repetitions=repetitions)\n",
    "    energy_list = []\n",
    "    for rt in range(repetitions):\n",
    "        energy = 1.0\n",
    "        for i in range(n):\n",
    "            if operators[i] != \"I\": \n",
    "                energy = energy*(1.0 - 2*results.data[str(i)][rt])\n",
    "        energy_list.append(energy)\n",
    "    return np.array(energy_list).mean()\n",
    "    "
   ]
  },
  {
   "cell_type": "code",
   "execution_count": 10,
   "metadata": {},
   "outputs": [],
   "source": [
    "def get_expectation_from_Cirq(init_parameters: List[float], H_df: pd.Series, repetitions: int = 1000) -> float:\n",
    "    \"\"\"\n",
    "    Get the expected value of the energy from : <bra|H|ket>\n",
    "\n",
    "    Args:\n",
    "        init_parameters: List of six parameters used to prepare the state\n",
    "        H_df: contain the Hamiltonian information to prepare the Hamiltonian\n",
    "        repetitions (int): The number of times to repeat the simulation.\n",
    "\n",
    "\n",
    "    Returns:\n",
    "        energy: The expected value of the energy from circuit simulation\n",
    "    \"\"\"\n",
    "    \n",
    "    energy = 0\n",
    "    \n",
    "    for operators in H_df.index:\n",
    "        if operators == \"R\":\n",
    "            continue\n",
    "        energy += H_df[operators] * measure_expectation_from_Cirq(init_parameters, operators, repetitions)\n",
    "    \n",
    "    return energy"
   ]
  },
  {
   "cell_type": "markdown",
   "metadata": {},
   "source": [
    "# VQE method"
   ]
  },
  {
   "cell_type": "code",
   "execution_count": 11,
   "metadata": {},
   "outputs": [],
   "source": [
    "def VQE(parameters: List[float], H_df: pd.Series, maxiter: int = 10000, xatol: float = 1e-4, get_expectation_func: callable = get_expectation_from_matrix_operation, repeations: int = 100) -> float:\n",
    "    \"\"\"\n",
    "    Get the expected value of the energy from : <bra|H|ket>\n",
    "\n",
    "    Args:\n",
    "        parameters: List of six parameters used to prepare the state\n",
    "        H_df: contain the Hamiltonian information to prepare the Hamiltonian\n",
    "        maxiter: The maximum number of times to run the optimization\n",
    "        xatol: Absolute error in xopt between iterations that is acceptable for convergence\n",
    "        get_expectation_func: Callable that returns the expected value given the (parameters, H_df) as arguments\n",
    "        repetitions (int): The number of times to repeat the simulation.\n",
    "\n",
    "    Returns:\n",
    "        energy: The expected value of the energy from : <bra|H|ket>\n",
    "    \"\"\"\n",
    "\n",
    "    options={\n",
    "        \"maxiter\": maxiter, # Maximum iteration of optimization\n",
    "        \"xatol\": xatol, # Acceptable absolute error in xopt for convergence\n",
    "        \"adaptive\": True,\n",
    "        }\n",
    "\n",
    "    # dim=len(parameters)\n",
    "    # initialSimplex=np.array([parameters,]*(dim+1))\n",
    "    \n",
    "    # for i in range(dim):\n",
    "    #     initialSimplex[i+1][i]+=0.7\n",
    "    \n",
    "    # # Select the options for the optimization\n",
    "    # options={\n",
    "    #     #\"disp\": True,\n",
    "    #     \"maxfev\": maxiter, # Maximum function evaluations\n",
    "    #     \"xatol\": 0.13, # Acceptable absolute error in xopt for convergence\n",
    "    #     \"adaptive\": True,\n",
    "    #     \"initial_simplex\": initialSimplex\n",
    "    #     }\n",
    "        \n",
    "    # optResults=scipy.optimize.minimize(get_expectation_func, parameters, (H_df, repeations),\\\n",
    "    #                             method='Nelder-Mead', options=options)\n",
    "    optResults=scipy.optimize.minimize(get_expectation_func,\\\n",
    "                                parameters,\\\n",
    "                                (H_df, repeations),\\\n",
    "                                method='COBYLA')\n",
    "\n",
    "    return optResults"
   ]
  },
  {
   "cell_type": "code",
   "execution_count": 12,
   "metadata": {},
   "outputs": [],
   "source": [
    "def get_dissociation_curve(H_df: pd.DataFrame, scale: List[float] = None, maxiter: int = 10000, xatol: float = 1e-4, get_expectation_func: callable = get_expectation_from_matrix_operation, repetitions: int = 100) -> Tuple[np.ndarray]:\n",
    "    \"\"\"\n",
    "    Using VQE to calculate dissociation curves according to the Hamiltonian.\n",
    "\n",
    "    Args:\n",
    "        H_df (pandas.DataFrame): Hamiltonian coefficients according to the operator terms.\n",
    "        scale: The calculated atom distance\n",
    "        maxiter: The maximum number of times to run the optimization\n",
    "        xatol: Absolute error in xopt between iterations that is acceptable for convergence\n",
    "        get_expectation_func: Callable that returns the expected value given the (parameters, H_df) as arguments\n",
    "        repetitions (int): The number of times to repeat the simulation.\n",
    "    \n",
    "    return (list): the information array\n",
    "    \"\"\"\n",
    "\n",
    "    if scale is None:\n",
    "        scale = [H_df.iloc[0]['R']-1e-3, H_df.iloc[-1]['R']+1e-3]\n",
    "    R_list = []  # record the atom distance, angstrom\n",
    "    groundEnergy_list = []  # record the ground energy\n",
    "    groundState_list = [] # record the ground state\n",
    "    success_list = []  # record the optimization status\n",
    "    init_parameters = [np.pi*np.random.rand(), np.pi*np.random.rand(), np.pi*np.random.rand(), 2*np.pi*np.random.rand(), 2*np.pi*np.random.rand(), 2*np.pi*np.random.rand()]\n",
    "    for i in tqdm.tqdm(range(len(H_df))):\n",
    "        H = H_df.iloc[i]\n",
    "        if H['R'] < scale[0] or H['R'] > scale[1]:\n",
    "            continue\n",
    "        results=VQE(init_parameters, H, maxiter, xatol, get_expectation_func, repetitions)\n",
    "        R_list.append(H['R'])\n",
    "        success_list.append(results.success)\n",
    "        groundState_list.append(results.x)\n",
    "        groundEnergy_list.append(get_expectation_func(groundState_list[-1], H, repetitions = repetitions*100))\n",
    "        if success_list[-1]:\n",
    "            init_parameters = groundState_list[-1]\n",
    "    print(f\"The minimum energy = {np.min(groundEnergy_list)}, and its corresponding atomic separation = {R_list[np.argmin(groundEnergy_list)]} Angstroms.\")\n",
    "    return np.array(R_list), np.array(groundState_list), np.array(groundEnergy_list), np.array(success_list)\n",
    "     "
   ]
  },
  {
   "cell_type": "markdown",
   "metadata": {},
   "source": [
    "# Simulation"
   ]
  },
  {
   "cell_type": "markdown",
   "metadata": {},
   "source": [
    "## Direct matrix operation"
   ]
  },
  {
   "cell_type": "code",
   "execution_count": 13,
   "metadata": {},
   "outputs": [
    {
     "name": "stderr",
     "output_type": "stream",
     "text": [
      "100%|███████████████████████████████████████████████████████████████████████████████████████████████████████████████████████████████████████████████████████████████| 79/79 [00:08<00:00,  9.00it/s]"
     ]
    },
    {
     "name": "stdout",
     "output_type": "stream",
     "text": [
      "The minimum energy = -2.8621943408327444, and its corresponding atomic separation = 0.9 Angstroms.\n"
     ]
    },
    {
     "name": "stderr",
     "output_type": "stream",
     "text": [
      "\n"
     ]
    }
   ],
   "source": [
    "DM_R_list, DM_groundState_list, DM_groundEnergy_list, DM_success_list = get_dissociation_curve(H_df, get_expectation_func = get_expectation_from_matrix_operation)"
   ]
  },
  {
   "cell_type": "code",
   "execution_count": 14,
   "metadata": {},
   "outputs": [
    {
     "data": {
      "image/png": "[encoded data removed]",
      "text/plain": [
       "<Figure size 432x288 with 2 Axes>"
      ]
     },
     "metadata": {
      "needs_background": "light"
     },
     "output_type": "display_data"
    }
   ],
   "source": [
    "zoom_index = np.where(DM_groundEnergy_list < -2.6)\n",
    "fig, (ax0, ax1) = plt.subplots(2, 1)\n",
    "ax0.plot(DM_R_list, DM_groundEnergy_list)\n",
    "ax0.set_xlabel(\"Atomic separation[atomic angstrom]\")\n",
    "ax0.set_ylabel(\"Energy [Hatree]\")\n",
    "ax1.plot(DM_R_list[zoom_index], DM_groundEnergy_list[zoom_index])\n",
    "ax1.set_xlabel(\"Atomic separation[atomic angstrom]\")\n",
    "ax1.set_ylabel(\"Energy [Hatree]\")\n",
    "plt.show()  "
   ]
  },
  {
   "cell_type": "markdown",
   "metadata": {},
   "source": [
    "## From circuit simulation based on Cirq"
   ]
  },
  {
   "cell_type": "code",
   "execution_count": 15,
   "metadata": {},
   "outputs": [
    {
     "data": {
      "text/plain": [
       "(-0.0316717535044618, -0.033284, 0.010819544537548704, -0.32506743593163995)"
      ]
     },
     "execution_count": 15,
     "metadata": {},
     "output_type": "execute_result"
    }
   ],
   "source": [
    "init_parameters = [np.pi*np.random.rand(), np.pi*np.random.rand(), np.pi*np.random.rand(), 2*np.pi*np.random.rand(), 2*np.pi*np.random.rand(), 2*np.pi*np.random.rand()]\n",
    "operators = \"XZ\"\n",
    "a = get_expectation_from_operation(init_parameters, operators, repetitions = 10000)\n",
    "bl = []\n",
    "n = 50\n",
    "for _ in range(n):\n",
    "    b = measure_expectation_from_Cirq(init_parameters, operators, repetitions = 10000)\n",
    "    bl.append(b)\n",
    "a, np.array(bl).mean(), np.array(bl).std(), np.array(bl).std()/np.array(bl).mean()"
   ]
  },
  {
   "cell_type": "code",
   "execution_count": 16,
   "metadata": {},
   "outputs": [
    {
     "name": "stderr",
     "output_type": "stream",
     "text": [
      "100%|███████████████████████████████████████████████████████████████████████████████████████████████████████████████████████████████████████████████████████████████| 79/79 [22:35<00:00, 17.16s/it]"
     ]
    },
    {
     "name": "stdout",
     "output_type": "stream",
     "text": [
      "The minimum energy = -2.8554684670000006, and its corresponding atomic separation = 0.9 Angstroms.\n"
     ]
    },
    {
     "name": "stderr",
     "output_type": "stream",
     "text": [
      "\n"
     ]
    }
   ],
   "source": [
    "R_list, groundState_list, groundEnergy_list, success_list = get_dissociation_curve(H_df, scale=None, maxiter = 1000, xatol= 1e-4, get_expectation_func = get_expectation_from_Cirq, repetitions=1000)"
   ]
  },
  {
   "cell_type": "code",
   "execution_count": 17,
   "metadata": {},
   "outputs": [
    {
     "data": {
      "text/plain": [
       "array([ True,  True,  True,  True,  True,  True,  True,  True,  True,\n",
       "        True,  True,  True,  True,  True,  True,  True,  True,  True,\n",
       "        True,  True,  True,  True,  True,  True,  True,  True,  True,\n",
       "        True,  True,  True,  True,  True,  True,  True,  True,  True,\n",
       "        True,  True,  True,  True,  True,  True,  True,  True,  True,\n",
       "        True,  True,  True,  True,  True,  True,  True,  True,  True,\n",
       "        True,  True,  True,  True,  True,  True,  True,  True,  True,\n",
       "        True,  True,  True,  True,  True,  True,  True,  True,  True,\n",
       "        True,  True,  True,  True,  True,  True,  True])"
      ]
     },
     "execution_count": 17,
     "metadata": {},
     "output_type": "execute_result"
    }
   ],
   "source": [
    "success_list"
   ]
  },
  {
   "cell_type": "code",
   "execution_count": 18,
   "metadata": {},
   "outputs": [
    {
     "data": {
      "image/png": "[encoded data removed]",
      "text/plain": [
       "<Figure size 432x288 with 2 Axes>"
      ]
     },
     "metadata": {
      "needs_background": "light"
     },
     "output_type": "display_data"
    }
   ],
   "source": [
    "zoom_index = np.where(groundEnergy_list < -2.6)\n",
    "fig, (ax0, ax1) = plt.subplots(2, 1)\n",
    "ax0.plot(R_list, groundEnergy_list)\n",
    "ax0.set_xlabel(\"Atomic separation[atomic angstrom]\")\n",
    "ax0.set_ylabel(\"Energy [Hatree]\")\n",
    "ax1.plot(R_list[zoom_index], groundEnergy_list[zoom_index])\n",
    "zoom_index = np.where(DM_groundEnergy_list < -2.6)\n",
    "ax1.plot(DM_R_list[zoom_index], DM_groundEnergy_list[zoom_index])\n",
    "ax1.set_xlabel(\"Atomic separation[atomic angstrom]\")\n",
    "ax1.set_ylabel(\"Energy [Hatree]\")\n",
    "plt.show()  "
   ]
  }
 ],
 "metadata": {
  "kernelspec": {
   "display_name": "Python 3 (ipykernel)",
   "language": "python",
   "name": "python3"
  },
  "language_info": {
   "codemirror_mode": {
    "name": "ipython",
    "version": 3
   },
   "file_extension": ".py",
   "mimetype": "text/x-python",
   "name": "python",
   "nbconvert_exporter": "python",
   "pygments_lexer": "ipython3",
   "version": "3.10.4"
  },
  "orig_nbformat": 4
 },
 "nbformat": 4,
 "nbformat_minor": 2
}

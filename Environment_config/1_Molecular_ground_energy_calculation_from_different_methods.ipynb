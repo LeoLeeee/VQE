{
 "cells": [
  {
   "cell_type": "markdown",
   "metadata": {},
   "source": [
    "# Introduction\n",
    "\n",
    "1. I will introduce the calculation of the molecular energy based on the different python library.\n",
    "2. I will also generate my own calculations for the comparision"
   ]
  },
  {
   "cell_type": "markdown",
   "metadata": {},
   "source": [
    "# Import"
   ]
  },
  {
   "cell_type": "code",
   "execution_count": 1,
   "metadata": {},
   "outputs": [],
   "source": [
    "import numpy as np\n",
    "import scipy\n",
    "from collections import OrderedDict\n",
    "from typing import List\n",
    "import matplotlib.pyplot as plt\n",
    "\n",
    "import cirq\n",
    "import pyscf\n",
    "import openfermion\n",
    "import openfermionpyscf \n",
    "import itertools\n",
    "\n",
    "from pyscf import gto, scf, fci\n",
    "from openfermion.transforms import jordan_wigner, get_fermion_operator\n",
    "from openfermionpyscf import run_pyscf\n",
    "from openfermion.utils import count_qubits\n",
    "from openfermion.linalg import jw_hartree_fock_state\n",
    "from openfermion.circuits import simulate_trotter\n",
    "from openfermion import (\n",
    "    MolecularData, get_sparse_operator, get_ground_state, FermionOperator,\n",
    "    jw_get_ground_state_at_particle_number,\n",
    "    expectation, uccsd_convert_amplitude_format,\n",
    "    get_interaction_operator, QubitOperator, eigenspectrum,\n",
    "    InteractionOperator\n",
    ")"
   ]
  },
  {
   "cell_type": "markdown",
   "metadata": {},
   "source": [
    "# Ground energy"
   ]
  },
  {
   "cell_type": "markdown",
   "metadata": {},
   "source": [
    "1. The energy unit used for computational chemical regime is Hatree (symbol: $E_{\\mathrm{h}}$ or Ha). The [relationship](https://en.wikipedia.org/wiki/Hartree) to other physical units\n",
    "    $$\n",
    "    \\begin{aligned}\n",
    "    E_{\\mathrm{h}} &=\\frac{\\hbar^{2}}{m_{\\mathrm{e}} a_{0}^{2}}=m_{\\mathrm{e}}\\left(\\frac{e^{2}}{4 \\pi \\varepsilon_{0} \\hbar}\\right)^{2}=m_{\\mathrm{e}} c^{2} \\alpha^{2}=\\frac{\\hbar c \\alpha}{a_{0}} \\\\\n",
    "    &=2 \\mathrm{Ry}=2 R_{\\infty} h c \\\\\n",
    "    & \\triangleq 27.211386245988(53) \\mathrm{eV} \\\\\n",
    "    & \\triangleq 4.3597447222071(85) \\times 10^{-18} \\mathrm{~J} \\\\\n",
    "    & \\triangleq 4.3597447222071(85) \\times 10^{-11} \\mathrm{erg} \\\\\n",
    "    & \\triangleq 2625.4996394799(50) \\mathrm{kJ} / \\mathrm{mol} \\\\\n",
    "    & \\triangleq 627.5094740631(12) \\mathrm{kcal} / \\mathrm{mol} \\\\\n",
    "    & \\triangleq 219474.63136320(43) \\mathrm{cm}{ }^{-1} \\\\\n",
    "    & \\triangleq 6579.683920502(13) \\mathrm{THz} \\\\\n",
    "    & \\triangleq 315775.02480407(61) \\mathrm{K}\n",
    "    \\end{aligned}\n",
    "    $$\n",
    "2. Chemical accuracy: the chemical rates is given as:\n",
    "        $$\n",
    "        \\text { rate } \\propto \\frac{e^{-\\beta \\Delta G^{\\ddagger}}}{\\beta}\\propto \\frac{e^{- \\Delta G^{\\ddagger} /(RT)}}{\\beta}\n",
    "        $$\n",
    "        where R = 1.987 cal/(K mol). an error $\\epsilon$ in $\\Delta G^{\\ddagger}$ of 1.4 kcal/mol translate to a chemical rate error of a factor of 10. This leads to the definition of chemical accuracy which sets $\\epsilon$ to the order of 1 kcal/mol.\n",
    "3. The chemical accuracy given in the Hatree energy unit is given as $1/627.51 = 1.5936 \\times 10^{-3}$。\n",
    "   "
   ]
  },
  {
   "cell_type": "code",
   "execution_count": 2,
   "metadata": {},
   "outputs": [],
   "source": [
    "CHEMICAL_ACCURACY = 1.5936e-3"
   ]
  },
  {
   "cell_type": "code",
   "execution_count": 3,
   "metadata": {},
   "outputs": [],
   "source": [
    "HeH_ground_energy = OrderedDict()"
   ]
  },
  {
   "cell_type": "code",
   "execution_count": 4,
   "metadata": {},
   "outputs": [],
   "source": [
    "def relative_energy_error(ground_energy: dict):\n",
    "    \"\"\"\n",
    "    Calculate the relative energy error compare to the exact result from openfermion FCI method.\n",
    "    So the FCI result should be contained.\n",
    "\n",
    "    Args:\n",
    "        ground_energy (dict): (key, value) pairs are (method, energy) pairs\n",
    "\n",
    "    \"\"\"\n",
    "    # Calculate the relative energy error\n",
    "    methods = list(ground_energy.keys().__reversed__())  # Output the new added one in the front\n",
    "    E0 = np.array(list(ground_energy.values().__reversed__()))\n",
    "    try:\n",
    "        E_fci = [ground_energy[key] for key in methods if 'FCI' in key][0]\n",
    "    except KeyError:\n",
    "        print(\"No FCI method specified\")\n",
    "    error = E0 - E_fci\n",
    "    relative_error = error / E_fci\n",
    "    relative_accuracy = error/CHEMICAL_ACCURACY * 100\n",
    "    # format the output data\n",
    "    number = len(E0)\n",
    "    print(\"Calculated energy from different methods:\")\n",
    "    vol = 25\n",
    "    print(\"|\" + \"=\"*vol*(number+1) + \"|\")\n",
    "    methods_row = \"|\" + \"method\".center(vol)\n",
    "    for name in methods:\n",
    "        methods_row += \"|\"\n",
    "        methods_row += name.center(vol-1)\n",
    "    print(methods_row + \"|\")\n",
    "    print(\"|\" + \"-\"*vol*(number+1) + \"|\")\n",
    "    energy_row = \"|\" + \"Energy [Hatree]\".center(vol)\n",
    "    for energy in E0:\n",
    "        energy_row += \"|\"\n",
    "        energy_row += f\"{energy.round(20)}\".center(vol-1)\n",
    "    print(energy_row + \"|\")\n",
    "    print(\"|\" + \"-\"*vol*(number+1) + \"|\")\n",
    "    er_row = \"|\" + \"relative_error\".center(vol)\n",
    "    for er_r in relative_error:\n",
    "        er_row += \"|\"\n",
    "        er_row += f\"{er_r.round(10)}\".center(vol-1)\n",
    "    print(er_row + \"|\") \n",
    "    print(\"|\" + \"-\"*vol*(number+1) + \"|\")\n",
    "    era_row = \"|\" + \"relative_accuracy [%]\".center(vol)\n",
    "    for era_r in relative_accuracy:\n",
    "        era_row += \"|\"\n",
    "        era_row += f\"{era_r.round(5)}\".center(vol-1)\n",
    "    print(era_row + \"|\") \n",
    "    print(\"|\" + \"=\"*vol*(number+1) + \"|\")\n",
    "    \n"
   ]
  },
  {
   "cell_type": "markdown",
   "metadata": {},
   "source": [
    "# openfermion"
   ]
  },
  {
   "cell_type": "markdown",
   "metadata": {},
   "source": [
    "## Molecular definition"
   ]
  },
  {
   "cell_type": "markdown",
   "metadata": {},
   "source": [
    "\n",
    "*STO* in *STO-3G* stands for *Slater type orbitals*, which means that we're using as molecular orbitals (wavefunctions of a many-particle system) anti-symmetrized products of atomic orbitals (wavefunctions of the individual particles). *3G* means thate we're approximating each Slater determinant by three Gaussian orbitals.\n"
   ]
  },
  {
   "cell_type": "code",
   "execution_count": 5,
   "metadata": {},
   "outputs": [
    {
     "data": {
      "text/plain": [
       "[<matplotlib.lines.Line2D at 0x7f0a13d0a950>]"
      ]
     },
     "execution_count": 5,
     "metadata": {},
     "output_type": "execute_result"
    },
    {
     "data": {
      "image/png": "[encoded data removed]",
      "text/plain": [
       "<Figure size 432x288 with 1 Axes>"
      ]
     },
     "metadata": {
      "needs_background": "light"
     },
     "output_type": "display_data"
    }
   ],
   "source": [
    "# Calculate the minimum energy according to the different bond lengths\n",
    "\n",
    "# HeH+\n",
    "r_list = np.linspace(0.85, 0.95, 101)\n",
    "FCI_list =[]\n",
    "for r in r_list:\n",
    "    geometry = [['He',[0,0,0]],['H',[0,0,r]]]\n",
    "    basis = 'sto-3g'  # Slater type orbital - approximated by 3 Gaussian orbital for each Slater determinant.\n",
    "    multiplicity = 1  # spin multiplicity\n",
    "    charge = +1\n",
    "    helonium = MolecularData(geometry, basis, multiplicity, charge)\n",
    "    molecule = helonium\n",
    "    helonium_of = run_pyscf(helonium, run_fci = True)\n",
    "    FCI_list.append(helonium_of.fci_energy)\n",
    "plt.plot(r_list, FCI_list)\n"
   ]
  },
  {
   "cell_type": "code",
   "execution_count": 6,
   "metadata": {},
   "outputs": [
    {
     "name": "stdout",
     "output_type": "stream",
     "text": [
      "Minimum energy of the molecule bond length is 0.914\n"
     ]
    }
   ],
   "source": [
    "HeH_bond_length = round(r_list[np.argmin(FCI_list)], 5)\n",
    "print(f\"Minimum energy of the molecule bond length is {HeH_bond_length}\")"
   ]
  },
  {
   "cell_type": "code",
   "execution_count": 7,
   "metadata": {},
   "outputs": [],
   "source": [
    "# HeH+\n",
    "r = HeH_bond_length # interatomic distance in angstrom\n",
    "geometry = [['He',[0,0,0]],['H',[0,0,r]]]\n",
    "basis = 'sto-3g'  # Slater type orbital - approximated by 3 Gaussian orbital for each Slater determinant.\n",
    "multiplicity = 1 # spin multiplicity, 1 for spin singlet state of two electrons\n",
    "charge = +1 # indicate two electrons\n",
    "helonium = MolecularData(geometry, basis, multiplicity, charge)\n",
    "molecule = helonium"
   ]
  },
  {
   "cell_type": "markdown",
   "metadata": {},
   "source": [
    "## ground energy"
   ]
  },
  {
   "cell_type": "code",
   "execution_count": 8,
   "metadata": {},
   "outputs": [],
   "source": [
    "helonium_of = run_pyscf(helonium, run_fci = True, run_cisd=True, run_ccsd = True, run_mp2=True)\n"
   ]
  },
  {
   "cell_type": "code",
   "execution_count": 9,
   "metadata": {},
   "outputs": [
    {
     "name": "stdout",
     "output_type": "stream",
     "text": [
      "Calculated energy from different methods:\n",
      "|======================================================================================================================================================|\n",
      "|          method         | openfermion.hf_energy  |    openfermion.CCSD    | openfermion.mp2_energy |    openfermion.CISD    |    openfermion.FCI     |\n",
      "|------------------------------------------------------------------------------------------------------------------------------------------------------|\n",
      "|     Energy [Hatree]     |  -2.8542821676730235   |  -2.8626947243046503   |  -2.8607985461595513   |  -2.8626947737981916   |  -2.8626947737981903   |\n",
      "|------------------------------------------------------------------------------------------------------------------------------------------------------|\n",
      "|      relative_error     |     -0.0029387017      |       -1.73e-08        |     -0.0006623925      |          0.0           |          -0.0          |\n",
      "|------------------------------------------------------------------------------------------------------------------------------------------------------|\n",
      "|  relative_accuracy [%]  |       527.89948        |        0.00311         |       118.99019        |          -0.0          |          0.0           |\n",
      "|======================================================================================================================================================|\n"
     ]
    }
   ],
   "source": [
    "HeH_ground_energy['openfermion.FCI'] =helonium_of.fci_energy\n",
    "HeH_ground_energy['openfermion.CISD'] =helonium_of.cisd_energy\n",
    "HeH_ground_energy['openfermion.mp2_energy'] =helonium_of.mp2_energy\n",
    "HeH_ground_energy['openfermion.CCSD'] =helonium_of.ccsd_energy\n",
    "HeH_ground_energy['openfermion.hf_energy'] =helonium_of.hf_energy\n",
    "relative_energy_error(HeH_ground_energy)"
   ]
  },
  {
   "cell_type": "markdown",
   "metadata": {},
   "source": [
    "# PySCF"
   ]
  },
  {
   "cell_type": "markdown",
   "metadata": {},
   "source": [
    "## Molecular definition"
   ]
  },
  {
   "cell_type": "code",
   "execution_count": 10,
   "metadata": {},
   "outputs": [],
   "source": [
    "# HeH+\n",
    "r = HeH_bond_length # interatomic distance in angstrom\n",
    "geometry = [['He',[0,0,0]],['H',[0,0,r]]]\n",
    "basis = 'sto-3g'  # Slater type orbital - approximated by 3 Gaussian orbital for each Slater determinant.\n",
    "multiplicity = 1  # spin multiplicity\n",
    "charge = +1\n",
    "helonium_pyscf = gto.M(atom = geometry, charge = charge, basis = basis,verbose = 0)"
   ]
  },
  {
   "cell_type": "markdown",
   "metadata": {},
   "source": [
    "## ground energy"
   ]
  },
  {
   "cell_type": "code",
   "execution_count": 11,
   "metadata": {},
   "outputs": [
    {
     "name": "stdout",
     "output_type": "stream",
     "text": [
      "Calculated energy from different methods:\n",
      "|===============================================================================================================================================================================|\n",
      "|          method         |       pyscf.RHF        | openfermion.hf_energy  |    openfermion.CCSD    | openfermion.mp2_energy |    openfermion.CISD    |    openfermion.FCI     |\n",
      "|-------------------------------------------------------------------------------------------------------------------------------------------------------------------------------|\n",
      "|     Energy [Hatree]     |  -2.8542821676730235   |  -2.8542821676730235   |  -2.8626947243046503   |  -2.8607985461595513   |  -2.8626947737981916   |  -2.8626947737981903   |\n",
      "|-------------------------------------------------------------------------------------------------------------------------------------------------------------------------------|\n",
      "|      relative_error     |     -0.0029387017      |     -0.0029387017      |       -1.73e-08        |     -0.0006623925      |          0.0           |          -0.0          |\n",
      "|-------------------------------------------------------------------------------------------------------------------------------------------------------------------------------|\n",
      "|  relative_accuracy [%]  |       527.89948        |       527.89948        |        0.00311         |       118.99019        |          -0.0          |          0.0           |\n",
      "|===============================================================================================================================================================================|\n"
     ]
    }
   ],
   "source": [
    "# Get the energy from PySCF\n",
    "hf_pyscf = scf.RHF(helonium_pyscf)\n",
    "HeH_ground_energy['pyscf.RHF'] =hf_pyscf.kernel()\n",
    "\n",
    "relative_energy_error(HeH_ground_energy)"
   ]
  },
  {
   "cell_type": "code",
   "execution_count": 12,
   "metadata": {},
   "outputs": [
    {
     "data": {
      "text/plain": [
       "True"
      ]
     },
     "execution_count": 12,
     "metadata": {},
     "output_type": "execute_result"
    }
   ],
   "source": [
    "hf_pyscf.converged"
   ]
  },
  {
   "cell_type": "code",
   "execution_count": 13,
   "metadata": {},
   "outputs": [
    {
     "data": {
      "text/plain": [
       "array([[-1.49461571, -0.86059479],\n",
       "       [-0.86059479, -0.70944457]])"
      ]
     },
     "execution_count": 13,
     "metadata": {},
     "output_type": "execute_result"
    }
   ],
   "source": [
    "# Get Fock matrix F*C=C*e\n",
    "hf_pyscf.get_fock()"
   ]
  },
  {
   "cell_type": "markdown",
   "metadata": {},
   "source": [
    "# Bare methods\n",
    "\n",
    "1. Here we ignore the specific algorithm used for search the ground energy. We just show that how those energies are calculated from the Hamiltonian and the states"
   ]
  },
  {
   "cell_type": "markdown",
   "metadata": {},
   "source": [
    "## Hamiltonian"
   ]
  },
  {
   "cell_type": "markdown",
   "metadata": {},
   "source": [
    "### Openfermion\n",
    "\n",
    "1. Hamiltonian from molecule.get_molecular_hamiltonian() is an instance of InteractionOperator.\n",
    "   1. Consist only of one-body and two body terms\n",
    "   2. Consist only of terms that preserve particle number and spin"
   ]
  },
  {
   "cell_type": "code",
   "execution_count": 14,
   "metadata": {},
   "outputs": [
    {
     "data": {
      "text/plain": [
       "openfermion.ops.representations.interaction_operator.InteractionOperator"
      ]
     },
     "execution_count": 14,
     "metadata": {},
     "output_type": "execute_result"
    }
   ],
   "source": [
    "Hamiltonian = molecule.get_molecular_hamiltonian()\n",
    "type(Hamiltonian)"
   ]
  },
  {
   "cell_type": "markdown",
   "metadata": {},
   "source": [
    "The data structure consists of:\n",
    "- A constant term (attribute **constant**). It represent the nuclear_repulsion.\n",
    "- An NxN array of floats (matrix) representing the one body terms (attribute **one_body_tensor**). The term ((i, m)(j, n)), where 0 <= i, j < N and m,n = 0 or 1, represent the fermionic operators. For example, ((2, 1)(1, 0)) -> $a_2^\\dag a_1$\n",
    "- An NxNxNxN array of floats representing the two body terms (attribute **two_body_tensor**)\n",
    "\n",
    "Where N is the number of qubits necessary to represent the molecule, that corresponds to the number of fermionic modes, or spin orbitals, that we choose to consider active.\n",
    "\n",
    "As an example, if term $h_{p, q, r, s} a^\\dagger_p a^\\dagger_q a_r a_s$ occurs in *hamiltonian*, then *hamiltonian.two_body_tensor* [p,q,r,s] = $h_{p,q,r,s}$.\n",
    "\n",
    "Since each term is particle number conserving, it must have as many creation operators as annihilation operators. So it's enough to decide a specific order for them to make the tensors non-ambiguous. The convention is *normal ordering* them. This corresponts to putting all creation operators to the left."
   ]
  },
  {
   "cell_type": "code",
   "execution_count": 15,
   "metadata": {},
   "outputs": [
    {
     "name": "stdout",
     "output_type": "stream",
     "text": [
      "Constant:\n",
      " 1.1579370042013128\n",
      "Shape of One Body Tensor:\n",
      " (4, 4)\n",
      "Shape of Two Body Tensor:\n",
      " (4, 4, 4, 4)\n"
     ]
    }
   ],
   "source": [
    "print(\"Constant:\\n\",Hamiltonian.constant)\n",
    "print(\"Shape of One Body Tensor:\\n\",Hamiltonian.one_body_tensor.shape)\n",
    "print(\"Shape of Two Body Tensor:\\n\",Hamiltonian.two_body_tensor.shape)"
   ]
  },
  {
   "cell_type": "markdown",
   "metadata": {},
   "source": [
    "#### Jordan Winger transformation"
   ]
  },
  {
   "cell_type": "markdown",
   "metadata": {},
   "source": [
    "It is necessary to represent the problem in a way that allows solving it with a quantum computer. Fermionic states will have to be mapped into qubit states, and fermionic operators will have to be mapped into qubit operators.\n",
    "\n",
    "For example, it is necessary to transform the Hamiltonian into one that acts on the qubits that represent the fermionic state.\n",
    "\n",
    "This is achieved by performing the **Jordan Wigner** transformation, which maps a **FermionOperator** into a **QubitOperator**. The **QubitOperator** is represented by multiple Pauli operators.\n",
    "\n"
   ]
  },
  {
   "cell_type": "code",
   "execution_count": 16,
   "metadata": {},
   "outputs": [
    {
     "data": {
      "text/plain": [
       "openfermion.ops.operators.qubit_operator.QubitOperator"
      ]
     },
     "execution_count": 16,
     "metadata": {},
     "output_type": "execute_result"
    }
   ],
   "source": [
    "# One could accomplish this very easily by first mapping to fermions and\n",
    "# then mapping to qubits. We skip the middle step for the sake of speed.\n",
    "# qubit_Hamiltonian = jordan_wigner(Hamiltonian)\n",
    "qubit_Hamiltonian = jordan_wigner(get_fermion_operator(Hamiltonian)) \n",
    "\n",
    "# Eliminate terms that are negligible up to a certain tolerance\n",
    "qubit_Hamiltonian.compress()\n",
    "type(qubit_Hamiltonian)"
   ]
  },
  {
   "cell_type": "markdown",
   "metadata": {},
   "source": [
    "If we pass the qubit Hamiltonian as an argument to **count_qubits**, it will return the minimum number of qubits it acts on.  Under the Jordan Wigner transformation, each qubit represents a specific fermionic mode (spin orbital). \n",
    "\n",
    "The number will be the same as **molecule.n_qubits**: the number of qubits necessary to represent a state of the molecule.\n",
    "\n",
    ">*Example*: \n",
    "In $HeH^+$, there are 4 spin orbitals: two $1s$ spatial orbitals from each atom, each with two associated spin orbitals ($\\alpha$ and $\\beta$ spins). \n",
    ">\n",
    ">In order to represent a state of this molecule, we need four qubits: the state of each one will represent the occupation number of the corresponding spin orbital (0 or 1, given the Pauli exclusion principle).\n",
    ">\n",
    ">A qubit operator acting on the state has to live in the same dimension or in a lower one. As for the Hamiltonian, it necessarily involves all of the particles representing the molecule: if they didn't affect the energy, they wouldn't be in the molecule."
   ]
  },
  {
   "cell_type": "markdown",
   "metadata": {},
   "source": [
    "## Hartree Fock state\n",
    "\n",
    "1. Orbital that belong to the same shell have the same principal quantum number. So if we have $_1H: 1s^1$ or $_2He: 1s^2$ we use one orbital ($1s$); if we have $_3Li:1s^2 2s^1$ we use 5 ($1s$, $2s$, $2p_x$, $2p_y$, $2p_z$)."
   ]
  },
  {
   "cell_type": "code",
   "execution_count": 17,
   "metadata": {},
   "outputs": [
    {
     "name": "stdout",
     "output_type": "stream",
     "text": [
      "electrons number: 2\n",
      "orbitals number: 2\n",
      "qubits number for simulation: 4\n"
     ]
    }
   ],
   "source": [
    "print(f\"electrons number: {molecule.n_electrons}\")\n",
    "print(f\"orbitals number: {molecule.n_orbitals}\")\n",
    "print(f\"qubits number for simulation: {molecule.n_qubits}\")"
   ]
  },
  {
   "cell_type": "markdown",
   "metadata": {},
   "source": [
    "### Openfermion"
   ]
  },
  {
   "cell_type": "code",
   "execution_count": 18,
   "metadata": {},
   "outputs": [
    {
     "name": "stdout",
     "output_type": "stream",
     "text": [
      "Hartree Fock Vector: [0. 0. 0. 0. 0. 0. 0. 0. 0. 0. 0. 0. 1. 0. 0. 0.]\n"
     ]
    }
   ],
   "source": [
    "# Get Hartree Fock state from Jordan-Winger transformation\n",
    "hf_vector = jw_hartree_fock_state(molecule.n_electrons,molecule.n_orbitals*2) \n",
    "print(f\"Hartree Fock Vector: {hf_vector}\")\n",
    "# This is a vector of matrix representation of direct product of Hartree Fock state |1100>.\n",
    "# The Hartree Fock state of JW transformation is |1> state occupied the first n_electrons orbitals and |0> state occupied the rest of the orbitals.\n",
    "# The Hartree Fock state is used as the basis to calculate the integration of the Hamiltonian of the molecule.\n",
    "# A total linear combination of Hartree Fock state: {|1100>, |1010>, |1001>, |0110>, |0101>, |0011>} may give the real state of lowest ground energy, \n",
    "# which is the ground state from the UCCSD method.\n"
   ]
  },
  {
   "cell_type": "code",
   "execution_count": 19,
   "metadata": {},
   "outputs": [
    {
     "name": "stdout",
     "output_type": "stream",
     "text": [
      "hf_vector = [0 0 0 0 0 0 0 0 0 0 0 0 1 0 0 0], corresponding hf_ket = |1100>.\n"
     ]
    }
   ],
   "source": [
    "def Ket_to_Vector(hf_ket):\n",
    "    \"\"\"\n",
    "    Convert a Ket of HF state to a vector representation.\n",
    "\n",
    "    Args:\n",
    "        ket (list): the list representation of a Ket of a HF state. |0> = [1, 0].T, |1> = [0, 1].T.\n",
    "    \n",
    "    Returns:\n",
    "        hf_vector (list): the vector representation of a HF state\n",
    "    \"\"\"\n",
    "\n",
    "    hf_vector = [1]\n",
    "    for ket in hf_ket:\n",
    "        v = [1-ket, ket]\n",
    "        hf_vector = np.kron(hf_vector, v)\n",
    "    return hf_vector\n",
    "\n",
    "def Vector_to_Ket(hf_vector):\n",
    "    \"\"\"\n",
    "    Convert a vector to a list representation of a Ket.\n",
    "\n",
    "    Args:\n",
    "        hf_vector (list): the vector representation of a HF state\n",
    "\n",
    "    Returns:\n",
    "        hf_ket (list): the list representation of a Ket of a HF state\n",
    "    \"\"\"\n",
    "\n",
    "    dim = len(hf_vector)\n",
    "    hf_ket = []\n",
    "\n",
    "    while dim>1:\n",
    "        if any (hf_vector[i] for i in range(int(dim/2))):\n",
    "            # Ket is of the form |0>|...>.  |0> = [1, 0].T\n",
    "            hf_ket.append(0)\n",
    "            # Get the vector representing the state of the remaining qubits.\n",
    "            hf_vector = hf_vector[:int(dim/2)]\n",
    "        else:\n",
    "            # Ket is of the form |1>|...>. |1> = [0, 1].T\n",
    "            hf_ket.append(1)\n",
    "            # Get the vector representing the state of the remaining qubits.\n",
    "            hf_vector = hf_vector[int(dim//2):]\n",
    "        dim = dim/2\n",
    "    return hf_ket\n",
    "\n",
    "hf_ket = Vector_to_Ket(hf_vector)\n",
    "hf_vector = Ket_to_Vector(hf_ket)\n",
    "print(f\"hf_vector = {hf_vector}, corresponding hf_ket = |{''.join([str(x) for x in hf_ket])}>.\")\n",
    "    \n"
   ]
  },
  {
   "cell_type": "markdown",
   "metadata": {},
   "source": [
    "### Cirq"
   ]
  },
  {
   "cell_type": "code",
   "execution_count": 20,
   "metadata": {},
   "outputs": [
    {
     "name": "stdout",
     "output_type": "stream",
     "text": [
      "qubits = [cirq.LineQubit(0), cirq.LineQubit(1), cirq.LineQubit(2), cirq.LineQubit(3)]\n",
      "hfGates = [cirq.X(cirq.LineQubit(0)), cirq.X(cirq.LineQubit(1)), cirq.I(cirq.LineQubit(2)), cirq.I(cirq.LineQubit(3))]\n"
     ]
    }
   ],
   "source": [
    "# Hartree Fock state preparation circuit is implemented on CIRQ as:\n",
    "qubits = cirq.LineQubit.range(molecule.n_qubits)\n",
    "print(f\"qubits = {qubits}\")\n",
    "hf_state = []\n",
    "for i in range(molecule.n_qubits):\n",
    "    if i < molecule.n_electrons:\n",
    "        hf_state.append(cirq.X(qubits[i]))  # X: |0> -> |1>\n",
    "    else:\n",
    "        hf_state.append(cirq.I(qubits[i]))  # I: |0> -> |0>\n",
    "print(f\"hfGates = {hf_state}\")"
   ]
  },
  {
   "cell_type": "markdown",
   "metadata": {},
   "source": [
    "## Ground Energy"
   ]
  },
  {
   "cell_type": "markdown",
   "metadata": {},
   "source": [
    "#### Openfermion\n",
    "\n",
    "1. openfermion.expectation(H, $\\phi$) = $\\langle \\phi|H|\\phi \\rangle$"
   ]
  },
  {
   "cell_type": "code",
   "execution_count": 21,
   "metadata": {},
   "outputs": [
    {
     "name": "stdout",
     "output_type": "stream",
     "text": [
      "Calculated energy from different methods:\n",
      "|========================================================================================================================================================================================================|\n",
      "|          method         |openfermion.expectation |       pyscf.RHF        | openfermion.hf_energy  |    openfermion.CCSD    | openfermion.mp2_energy |    openfermion.CISD    |    openfermion.FCI     |\n",
      "|--------------------------------------------------------------------------------------------------------------------------------------------------------------------------------------------------------|\n",
      "|     Energy [Hatree]     |  -2.8542821676730217   |  -2.8542821676730235   |  -2.8542821676730235   |  -2.8626947243046503   |  -2.8607985461595513   |  -2.8626947737981916   |  -2.8626947737981903   |\n",
      "|--------------------------------------------------------------------------------------------------------------------------------------------------------------------------------------------------------|\n",
      "|      relative_error     |     -0.0029387017      |     -0.0029387017      |     -0.0029387017      |       -1.73e-08        |     -0.0006623925      |          0.0           |          -0.0          |\n",
      "|--------------------------------------------------------------------------------------------------------------------------------------------------------------------------------------------------------|\n",
      "|  relative_accuracy [%]  |       527.89948        |       527.89948        |       527.89948        |        0.00311         |       118.99019        |          -0.0          |          0.0           |\n",
      "|========================================================================================================================================================================================================|\n"
     ]
    }
   ],
   "source": [
    "HeH_ground_energy['openfermion.expectation'] = np.real(openfermion.expectation(get_sparse_operator(qubit_Hamiltonian),hf_vector))\n",
    "relative_energy_error(HeH_ground_energy)"
   ]
  },
  {
   "cell_type": "code",
   "execution_count": 22,
   "metadata": {},
   "outputs": [
    {
     "name": "stdout",
     "output_type": "stream",
     "text": [
      "Calculated energy from different methods:\n",
      "|=================================================================================================================================================================================================================================|\n",
      "|          method         |     my_expectation     |openfermion.expectation |       pyscf.RHF        | openfermion.hf_energy  |    openfermion.CCSD    | openfermion.mp2_energy |    openfermion.CISD    |    openfermion.FCI     |\n",
      "|---------------------------------------------------------------------------------------------------------------------------------------------------------------------------------------------------------------------------------|\n",
      "|     Energy [Hatree]     |  -2.8542821676730217   |  -2.8542821676730217   |  -2.8542821676730235   |  -2.8542821676730235   |  -2.8626947243046503   |  -2.8607985461595513   |  -2.8626947737981916   |  -2.8626947737981903   |\n",
      "|---------------------------------------------------------------------------------------------------------------------------------------------------------------------------------------------------------------------------------|\n",
      "|      relative_error     |     -0.0029387017      |     -0.0029387017      |     -0.0029387017      |     -0.0029387017      |       -1.73e-08        |     -0.0006623925      |          0.0           |          -0.0          |\n",
      "|---------------------------------------------------------------------------------------------------------------------------------------------------------------------------------------------------------------------------------|\n",
      "|  relative_accuracy [%]  |       527.89948        |       527.89948        |       527.89948        |       527.89948        |        0.00311         |       118.99019        |          -0.0          |          0.0           |\n",
      "|=================================================================================================================================================================================================================================|\n"
     ]
    }
   ],
   "source": [
    "def openfermion_expectation(qubit_Hamiltonian, hf_vector):\n",
    "    ''' \n",
    "    Calculates the energy expectation of a HF state.\n",
    "\n",
    "    Args:\n",
    "      qubit_Hamiltonian: JW transformed qubit Hamiltonian.\n",
    "      hf_vector: JW transformed HF state.\n",
    "    \n",
    "    Returns:\n",
    "      energy (float): the energy expectation value of the state.\n",
    "    ''' \n",
    "\n",
    "    if not isinstance(hf_vector, scipy.sparse.csc_matrix):\n",
    "      ket = scipy.sparse.csc_matrix(hf_vector, dtype=complex).transpose()\n",
    "    else:\n",
    "      ket = hf_vector\n",
    "      \n",
    "    bra = ket.transpose().conj()\n",
    "    H = get_sparse_operator(qubit_Hamiltonian)\n",
    "    energy = (bra * H * ket)[0,0].real\n",
    "    \n",
    "    return energy\n",
    "\n",
    "HeH_ground_energy['my_expectation'] = openfermion_expectation(qubit_Hamiltonian, hf_vector)\n",
    "relative_energy_error(HeH_ground_energy)"
   ]
  },
  {
   "cell_type": "code",
   "execution_count": null,
   "metadata": {},
   "outputs": [],
   "source": []
  }
 ],
 "metadata": {
  "kernelspec": {
   "display_name": "Python 3 (ipykernel)",
   "language": "python",
   "name": "python3"
  },
  "language_info": {
   "codemirror_mode": {
    "name": "ipython",
    "version": 3
   },
   "file_extension": ".py",
   "mimetype": "text/x-python",
   "name": "python",
   "nbconvert_exporter": "python",
   "pygments_lexer": "ipython3",
   "version": "3.9.5"
  },
  "orig_nbformat": 4,
  "vscode": {
   "interpreter": {
    "hash": "8628c9cfce7aedbed56a3c96e6a1aaec93d1308685d34753d7c38c48d5a1117a"
   }
  }
 },
 "nbformat": 4,
 "nbformat_minor": 2
}

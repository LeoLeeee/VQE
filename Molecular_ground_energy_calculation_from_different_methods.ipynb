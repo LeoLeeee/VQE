{
 "cells": [
  {
   "cell_type": "markdown",
   "metadata": {},
   "source": [
    "# Introduction\n",
    "\n",
    "1. I will introduce the calculation of the molecular energy based on the different python library.\n",
    "2. I will also generate my own calculations for the comparision"
   ]
  },
  {
   "cell_type": "markdown",
   "metadata": {},
   "source": [
    "# Import"
   ]
  },
  {
   "cell_type": "code",
   "execution_count": 1,
   "metadata": {},
   "outputs": [
    {
     "ename": "ModuleNotFoundError",
     "evalue": "No module named 'pyscf'",
     "output_type": "error",
     "traceback": [
      "\u001b[1;31m---------------------------------------------------------------------------\u001b[0m",
      "\u001b[1;31mModuleNotFoundError\u001b[0m                       Traceback (most recent call last)",
      "\u001b[1;32m~\\AppData\\Local\\Temp/ipykernel_2836/214471496.py\u001b[0m in \u001b[0;36m<module>\u001b[1;34m\u001b[0m\n\u001b[0;32m      3\u001b[0m \u001b[1;33m\u001b[0m\u001b[0m\n\u001b[0;32m      4\u001b[0m \u001b[1;32mimport\u001b[0m \u001b[0mcirq\u001b[0m\u001b[1;33m\u001b[0m\u001b[1;33m\u001b[0m\u001b[0m\n\u001b[1;32m----> 5\u001b[1;33m \u001b[1;32mimport\u001b[0m \u001b[0mpyscf\u001b[0m\u001b[1;33m\u001b[0m\u001b[1;33m\u001b[0m\u001b[0m\n\u001b[0m\u001b[0;32m      6\u001b[0m \u001b[1;32mimport\u001b[0m \u001b[0mopenfermion\u001b[0m\u001b[1;33m\u001b[0m\u001b[1;33m\u001b[0m\u001b[0m\n\u001b[0;32m      7\u001b[0m \u001b[1;32mimport\u001b[0m \u001b[0mopenfermionpyscf\u001b[0m\u001b[1;33m\u001b[0m\u001b[1;33m\u001b[0m\u001b[0m\n",
      "\u001b[1;31mModuleNotFoundError\u001b[0m: No module named 'pyscf'"
     ]
    }
   ],
   "source": [
    "import numpy as np\n",
    "import scipy\n",
    "\n",
    "import cirq\n",
    "import pyscf\n",
    "import openfermion\n",
    "import openfermionpyscf \n",
    "import itertools\n",
    "\n",
    "from pyscf import gto, scf, fci\n",
    "from openfermion.transforms import jordan_wigner, get_fermion_operator\n",
    "from openfermionpyscf import run_pyscf\n",
    "from openfermion.utils import count_qubits\n",
    "from openfermion.linalg import jw_hartree_fock_state\n",
    "from openfermion.circuits import simulate_trotter\n",
    "from openfermion import (\n",
    "    get_sparse_operator, get_ground_state, FermionOperator,\n",
    "    jw_get_ground_state_at_particle_number, MolecularData,\n",
    "    expectation, uccsd_convert_amplitude_format,\n",
    "    get_interaction_operator, QubitOperator, eigenspectrum,\n",
    "    InteractionOperator\n",
    ")"
   ]
  },
  {
   "cell_type": "markdown",
   "metadata": {},
   "source": [
    "# Molecular definition"
   ]
  },
  {
   "cell_type": "code",
   "execution_count": null,
   "metadata": {},
   "outputs": [],
   "source": [
    "# HeH+\n",
    "r = 1 # interatomic distance in angstrom\n",
    "geometry = [['He',[0,0,0]],['H',[0,0,r]]]\n",
    "basis = 'sto-3g'\n",
    "multiplicity = 1\n",
    "charge = +1\n",
    "helonium = MolecularData(geometry, basis, multiplicity, charge)\n",
    "helonium = run_pyscf(helonium, run_fci = True, run_ccsd = True)"
   ]
  },
  {
   "cell_type": "code",
   "execution_count": null,
   "metadata": {},
   "outputs": [],
   "source": [
    "molecule = helonium\n",
    "\n",
    "qubitNumber = molecule.n_qubits\n",
    "electronNumber = molecule.n_electrons\n",
    "orbitalNumber = molecule.n_orbitals\n",
    "qubitNumber, electronNumber, orbitalNumber"
   ]
  }
 ],
 "metadata": {
  "kernelspec": {
   "display_name": "Python 3.9.7 ('labrad')",
   "language": "python",
   "name": "python3"
  },
  "language_info": {
   "codemirror_mode": {
    "name": "ipython",
    "version": 3
   },
   "file_extension": ".py",
   "mimetype": "text/x-python",
   "name": "python",
   "nbconvert_exporter": "python",
   "pygments_lexer": "ipython3",
   "version": "3.9.7"
  },
  "orig_nbformat": 4,
  "vscode": {
   "interpreter": {
    "hash": "8628c9cfce7aedbed56a3c96e6a1aaec93d1308685d34753d7c38c48d5a1117a"
   }
  }
 },
 "nbformat": 4,
 "nbformat_minor": 2
}

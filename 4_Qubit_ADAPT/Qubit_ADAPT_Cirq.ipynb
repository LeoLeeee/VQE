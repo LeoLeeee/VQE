{
 "cells": [
  {
   "cell_type": "markdown",
   "metadata": {},
   "source": [
    "# Import"
   ]
  },
  {
   "cell_type": "code",
   "execution_count": 1,
   "metadata": {},
   "outputs": [],
   "source": [
    "import numpy as np\n",
    "import scipy\n",
    "from collections import OrderedDict\n",
    "from typing import List, Tuple\n",
    "import matplotlib.pyplot as plt\n",
    "import pandas as pd\n",
    "import time\n",
    "import tqdm\n",
    "\n",
    "import cirq\n",
    "import pyscf\n",
    "import openfermion\n",
    "import openfermionpyscf \n",
    "import itertools\n",
    "\n",
    "from pyscf import gto, scf, fci\n",
    "from openfermion.transforms import jordan_wigner, get_fermion_operator\n",
    "from openfermionpyscf import run_pyscf\n",
    "from openfermion.utils import count_qubits\n",
    "from openfermion.linalg import jw_hartree_fock_state\n",
    "from openfermion.circuits import simulate_trotter, trotter\n",
    "from openfermion import (\n",
    "    MolecularData, get_sparse_operator, get_ground_state, FermionOperator,\n",
    "    jw_get_ground_state_at_particle_number,\n",
    "    expectation, uccsd_convert_amplitude_format,\n",
    "    get_interaction_operator, QubitOperator, eigenspectrum,\n",
    "    InteractionOperator\n",
    ")"
   ]
  },
  {
   "cell_type": "markdown",
   "metadata": {},
   "source": [
    "# Constant definition"
   ]
  },
  {
   "cell_type": "code",
   "execution_count": 2,
   "metadata": {},
   "outputs": [],
   "source": [
    "CHEMICAL_ACCURACY = 1.5936e-3\n",
    "\n",
    "# Define necessary Pauli operators (two-dimensional) as matrices\n",
    "pauliX = np.array([[0,1],\n",
    "                 [1,0]],\n",
    "                dtype = complex)\n",
    "pauliZ = np.array([[1,0],\n",
    "                 [0,-1]],\n",
    "                dtype = complex)\n",
    "pauliY = np.array([[0,-1j],\n",
    "                 [1j,0]],\n",
    "                dtype = complex)"
   ]
  },
  {
   "cell_type": "code",
   "execution_count": 3,
   "metadata": {},
   "outputs": [],
   "source": [
    "class Timer:\n",
    "    def __init__(self):\n",
    "        self.enable_debug = True\n",
    "        self._last_point = time.time()\n",
    "        self._point_stock = OrderedDict()\n",
    "\n",
    "    def time_check(self, name: str = None):\n",
    "        current_point = time.time()\n",
    "        elapsed = current_point - self._last_point\n",
    "        if name is not None and self.enable_debug:\n",
    "            self._point_stock[name] = elapsed\n",
    "            print(f\"TimeCheck: {name} : {elapsed}s\")\n",
    "        self._last_point = current_point\n",
    "\n",
    "    def reset(self):\n",
    "        self._last_point = time.time()\n",
    "        self._point_stock = OrderedDict()\n",
    "\n",
    "timer = Timer()\n",
    "timer.enable_debug = False\n",
    "timer2 = Timer()\n",
    "timer2.enable_debug = False"
   ]
  },
  {
   "cell_type": "markdown",
   "metadata": {},
   "source": [
    "# ADAPT method:\n",
    "\n",
    "## Algorithm (JW transformation for example)\n",
    "\n",
    "1. Preparation of the wavefunction by application of parameterized state preparation unitaries;\n",
    "   1. Define the molecular in the OpenFermion, get necessary parameters such as number of qubits.\n",
    "   2. Prepare the HF state by JW transformation\n",
    "   3. Prepare the Unitary by JW transformation\n",
    "      1. Prepare the operators pool with the excitation operators, $\\hat{t}$. These operators could be defined with single and double excitation operators.\n",
    "   4. Prepare the Hamiltonian by the OpenFermion and do the JW transformation\n",
    "2. Calculate the gradients of the operator in the operator pool.\n",
    "   1. Calculate the gradients of the operator, choose the operator with largest gradient.\n",
    "   2. Construct the ansatz given by the chosen operator given the initial parameters with 0.\n",
    "3. Determination of the expectation value of every term in the Hamiltonian via an efficient partial tomography;\n",
    "   1. Applied the Unitary on the HF state orderly.\n",
    "   2. Simulate the energy expectation\n",
    "4. Calculation of the total energy and determination of a new set of state preparation parameters in a classical computer.\n",
    "   1. Optimize the parameter in Unitary.\n",
    "   2. Return to the step 2 to calculate the gradient of all the operator in the operator pool and stop until the norm of the gradient is bellow the threshold."
   ]
  },
  {
   "cell_type": "markdown",
   "metadata": {},
   "source": [
    "## Molecular definition"
   ]
  },
  {
   "cell_type": "code",
   "execution_count": 4,
   "metadata": {},
   "outputs": [],
   "source": [
    "def relative_energy_error(ground_energy: dict):\n",
    "    \"\"\"\n",
    "    Calculate the relative energy error compare to the exact result from openfermion FCI method.\n",
    "    So the FCI result should be contained.\n",
    "\n",
    "    Args:\n",
    "        ground_energy (dict): (key, value) pairs are (method, energy) pairs\n",
    "\n",
    "    \"\"\"\n",
    "    # Calculate the relative energy error\n",
    "    methods = list(ground_energy.keys().__reversed__())  # Output the new added one in the front\n",
    "    E0 = np.array(list(ground_energy.values().__reversed__()))\n",
    "    try:\n",
    "        E_fci = [ground_energy[key] for key in methods if 'FCI' in key][0]\n",
    "    except KeyError:\n",
    "        print(\"No FCI method specified\")\n",
    "    error = E0 - E_fci\n",
    "    relative_error = error / E_fci\n",
    "    relative_accuracy = error/CHEMICAL_ACCURACY * 100\n",
    "    # format the output data\n",
    "    number = len(E0)\n",
    "    print(\"Calculated energy from different methods:\")\n",
    "    vol = 25\n",
    "    print(\"|\" + \"=\"*vol*(number+1) + \"|\")\n",
    "    methods_row = \"|\" + \"method\".center(vol)\n",
    "    for name in methods:\n",
    "        methods_row += \"|\"\n",
    "        methods_row += name.center(vol-1)\n",
    "    print(methods_row + \"|\")\n",
    "    print(\"|\" + \"-\"*vol*(number+1) + \"|\")\n",
    "    energy_row = \"|\" + \"Energy [Hatree]\".center(vol)\n",
    "    for energy in E0:\n",
    "        energy_row += \"|\"\n",
    "        energy_row += f\"{energy.round(20)}\".center(vol-1)\n",
    "    print(energy_row + \"|\")\n",
    "    print(\"|\" + \"-\"*vol*(number+1) + \"|\")\n",
    "    er_row = \"|\" + \"relative_error\".center(vol)\n",
    "    for er_r in relative_error:\n",
    "        er_row += \"|\"\n",
    "        er_row += f\"{er_r.round(10)}\".center(vol-1)\n",
    "    print(er_row + \"|\") \n",
    "    print(\"|\" + \"-\"*vol*(number+1) + \"|\")\n",
    "    era_row = \"|\" + \"relative_accuracy [%]\".center(vol)\n",
    "    for era_r in relative_accuracy:\n",
    "        era_row += \"|\"\n",
    "        era_row += f\"{era_r.round(10)}\".center(vol-1)\n",
    "    print(era_row + \"|\") \n",
    "    print(\"|\" + \"=\"*vol*(number+1) + \"|\")\n",
    "    \n"
   ]
  },
  {
   "cell_type": "code",
   "execution_count": 5,
   "metadata": {},
   "outputs": [
    {
     "name": "stdout",
     "output_type": "stream",
     "text": [
      "Calculated energy from different methods:\n",
      "|======================================================================================================================================================|\n",
      "|          method         | openfermion.hf_energy  |    openfermion.CCSD    | openfermion.mp2_energy |    openfermion.CISD    |    openfermion.FCI     |\n",
      "|------------------------------------------------------------------------------------------------------------------------------------------------------|\n",
      "|     Energy [Hatree]     |  -2.8542821676730235   |  -2.8626947243046503   |  -2.8607985461595513   |  -2.8626947737981916   |  -2.8626947737981903   |\n",
      "|------------------------------------------------------------------------------------------------------------------------------------------------------|\n",
      "|      relative_error     |     -0.0029387017      |       -1.73e-08        |     -0.0006623925      |          0.0           |          -0.0          |\n",
      "|------------------------------------------------------------------------------------------------------------------------------------------------------|\n",
      "|  relative_accuracy [%]  |     527.8994807459     |      0.0031057693      |     118.9901881676     |         -1e-10         |          0.0           |\n",
      "|======================================================================================================================================================|\n"
     ]
    }
   ],
   "source": [
    "# HeH+\n",
    "\n",
    "def create_helonium(r: float = 0.914, show_energy: bool = False, user_energy: float = None) -> MolecularData:\n",
    "    \"\"\"\n",
    "    Create a helonium molecule with given distance r.\n",
    "\n",
    "    Args:\n",
    "        r (float): distance of the atom in angstrom.\n",
    "        show_energy (bool): if true, show energy of the atom with the calculation from openfermionscf\n",
    "        user_energy (float): Energy calculated by user\n",
    "    \n",
    "    Returns:\n",
    "        MolecularData (openfermion.MolecularData): data contain molecule information\n",
    "    \"\"\"\n",
    "\n",
    "    geometry = [['He',[0,0,0]], ['H',[0,0,r]]]\n",
    "    basis = 'sto-3g'  # Slater type orbital - approximated by 3 Gaussian orbital for each Slater determinant.\n",
    "    multiplicity = 1 # spin multiplicity, 1 for spin singlet state of two electrons\n",
    "    charge = +1 # indicate two electrons\n",
    "    helonium = MolecularData(geometry, basis, multiplicity, charge)\n",
    "    helonium_of = run_pyscf(helonium, run_fci = True, run_cisd=True, run_ccsd = True, run_mp2=True)\n",
    "    if show_energy:\n",
    "        HeH_ground_energy = OrderedDict()\n",
    "        HeH_ground_energy['openfermion.FCI'] =helonium_of.fci_energy\n",
    "        HeH_ground_energy['openfermion.CISD'] =helonium_of.cisd_energy\n",
    "        HeH_ground_energy['openfermion.mp2_energy'] =helonium_of.mp2_energy\n",
    "        HeH_ground_energy['openfermion.CCSD'] =helonium_of.ccsd_energy\n",
    "        HeH_ground_energy['openfermion.hf_energy'] =helonium_of.hf_energy\n",
    "        if user_energy:\n",
    "            HeH_ground_energy['user_energy'] =user_energy\n",
    "        relative_energy_error(HeH_ground_energy)\n",
    "    return helonium\n",
    "helonium = create_helonium(show_energy=True)"
   ]
  },
  {
   "cell_type": "code",
   "execution_count": 6,
   "metadata": {},
   "outputs": [
    {
     "data": {
      "text/plain": [
       "(2, 2, 4)"
      ]
     },
     "execution_count": 6,
     "metadata": {},
     "output_type": "execute_result"
    }
   ],
   "source": [
    "helonium.n_electrons, helonium.n_orbitals, helonium.n_qubits"
   ]
  },
  {
   "cell_type": "markdown",
   "metadata": {},
   "source": [
    "## Build the operator pools from the excitation operators"
   ]
  },
  {
   "cell_type": "markdown",
   "metadata": {},
   "source": [
    "### Two qubit operator pool generate from the fermionic operator\n",
    "\n",
    "   1. JW transformation of the fermionic operator to the qubit operator. Then construct the qubit operator pool with these transformed qubit operators.\n",
    "   2. Reduced qubit operator pool: Remove all the Z operators."
   ]
  },
  {
   "cell_type": "markdown",
   "metadata": {},
   "source": [
    "#### generate fermionic gsd pool"
   ]
  },
  {
   "cell_type": "code",
   "execution_count": 7,
   "metadata": {},
   "outputs": [
    {
     "name": "stdout",
     "output_type": "stream",
     "text": [
      "\n",
      " Pool size: 66\n"
     ]
    }
   ],
   "source": [
    "def generate_fermionic_gsd_pool(n_electrons: int, n_orbitals: int) -> List[openfermion.FermionOperator]:\n",
    "    \"\"\"\n",
    "    Generate a list of openfermion.FermionOperator, which are used to update the ansatz in every step.\n",
    "    The operator pool contains spin preserving single and double excitation operators, and only occupied to virtual excitations are allowed.\n",
    "    For HeH+, it has 2 electrons and 2 orbitals. With 2 spin of each orbital, it use 4 qubit to do the simulation.\n",
    "\n",
    "    Args:\n",
    "        n_electrons (int): number of electrons in the system\n",
    "        n_orbitals (int): number of orbitals in the system\n",
    "\n",
    "    Returns:\n",
    "        List[openfermion.FermionOperator]: an operator pool\n",
    "\n",
    "    \"\"\"\n",
    "    singlet_gsd = []\n",
    "\n",
    "    n_occ = int(np.ceil(n_electrons / 2))\n",
    "    n_vir = n_orbitals - n_occ\n",
    "\n",
    "    for p in range(0, n_orbitals):\n",
    "        pa = 2*p\n",
    "        pb = 2*p+1\n",
    "\n",
    "        for q in range(p,n_orbitals):\n",
    "            qa = 2*q\n",
    "            qb = 2*q + 1\n",
    "\n",
    "            termA =  FermionOperator(((pa,1),(qa,0)), 1/np.sqrt(2))  # spin preserving\n",
    "            termA += FermionOperator(((pb,1),(qb,0)), 1/np.sqrt(2))  # spin preserving\n",
    "\n",
    "            termA -= openfermion.hermitian_conjugated(termA)  # generate t - t+ for the unitary operator U^(t - t+)\n",
    "\n",
    "            termA = openfermion.normal_ordered(termA)\n",
    "\n",
    "            #Normalize\n",
    "            coeffA = 0\n",
    "            for t in termA.terms:\n",
    "                coeff_t = termA.terms[t]\n",
    "                coeffA += coeff_t * coeff_t\n",
    "\n",
    "            if termA.many_body_order() > 0:\n",
    "                termA = termA/np.sqrt(coeffA)\n",
    "                singlet_gsd.append(termA)\n",
    "\n",
    "    pq = -1\n",
    "    for p in range(0, n_orbitals):\n",
    "        pa = 2*p\n",
    "        pb = 2*p+1\n",
    "\n",
    "        for q in range(p, n_orbitals):\n",
    "            qa = 2*q\n",
    "            qb = 2*q+1\n",
    "\n",
    "            pq += 1\n",
    "            rs = -1\n",
    "\n",
    "            for r in range(0, n_orbitals):\n",
    "                ra = 2*r\n",
    "                rb = 2*r+1\n",
    "\n",
    "                for s in range(r, n_orbitals):\n",
    "                    sa = 2*s\n",
    "                    sb = 2*s+1\n",
    "\n",
    "                    rs += 1\n",
    "\n",
    "                    if(pq > rs):\n",
    "                        continue\n",
    "                    \n",
    "                    termA =  FermionOperator(((ra,1),(pa,0),(sa,1),(qa,0)), 2/np.sqrt(12))\n",
    "                    termA += FermionOperator(((rb,1),(pb,0),(sb,1),(qb,0)), 2/np.sqrt(12))\n",
    "                    termA += FermionOperator(((ra,1),(pa,0),(sb,1),(qb,0)), 1/np.sqrt(12))\n",
    "                    termA += FermionOperator(((rb,1),(pb,0),(sa,1),(qa,0)), 1/np.sqrt(12))\n",
    "                    termA += FermionOperator(((ra,1),(pb,0),(sb,1),(qa,0)), 1/np.sqrt(12))\n",
    "                    termA += FermionOperator(((rb,1),(pa,0),(sa,1),(qb,0)), 1/np.sqrt(12))\n",
    "\n",
    "                    termB =  FermionOperator(((ra,1),(pa,0),(sb,1),(qb,0)),  1/2.0)\n",
    "                    termB += FermionOperator(((rb,1),(pb,0),(sa,1),(qa,0)),  1/2.0)\n",
    "                    termB += FermionOperator(((ra,1),(pb,0),(sb,1),(qa,0)), -1/2.0)\n",
    "                    termB += FermionOperator(((rb,1),(pa,0),(sa,1),(qb,0)), -1/2.0)\n",
    "\n",
    "                    termA -= openfermion.hermitian_conjugated(termA)\n",
    "                    termB -= openfermion.hermitian_conjugated(termB)\n",
    "\n",
    "                    termA = openfermion.normal_ordered(termA)\n",
    "                    termB = openfermion.normal_ordered(termB)\n",
    "\n",
    "                    #Normalize\n",
    "                    coeffA = 0\n",
    "                    coeffB = 0\n",
    "                    for t in termA.terms:\n",
    "                        coeff_t = termA.terms[t]\n",
    "                        coeffA += coeff_t * coeff_t\n",
    "                    for t in termB.terms:\n",
    "                        coeff_t = termB.terms[t]\n",
    "                        coeffB += coeff_t * coeff_t\n",
    "\n",
    "                    if termA.many_body_order() > 0:\n",
    "                        termA = termA/np.sqrt(coeffA)\n",
    "                        singlet_gsd.append(termA)\n",
    "\n",
    "                    if termB.many_body_order() > 0:\n",
    "                        termB = termB/np.sqrt(coeffB)\n",
    "                        singlet_gsd.append(termB)\n",
    "    return singlet_gsd\n",
    "fermionic_gsd_pool = generate_fermionic_gsd_pool(4,4)\n",
    "print(\"\\n Pool size:\",len(fermionic_gsd_pool))"
   ]
  },
  {
   "cell_type": "markdown",
   "metadata": {},
   "source": [
    "#### generate qubit pool from fermionic pool"
   ]
  },
  {
   "cell_type": "code",
   "execution_count": 8,
   "metadata": {},
   "outputs": [
    {
     "name": "stdout",
     "output_type": "stream",
     "text": [
      "|qubit_pool|=472\n"
     ]
    }
   ],
   "source": [
    "def generate_qubit_pool_from_fermionic_pool(n_electrons: int, n_orbitals: int, n_qubits: int = 0) -> List[openfermion.QubitOperator]:\n",
    "    \"\"\"\n",
    "    Generate a list of openfermion.QubitOperator from the fermionic pool\n",
    "    Args:\n",
    "        n_electrons (int): number of electrons in the system\n",
    "        n_orbitals (int): number of orbitals in the system\n",
    "        n_qubits (int): number of qubits in the system\n",
    "\n",
    "    Returns:\n",
    "        qubit_pool (List[openfermion.QubitOperator]): an operator pool\n",
    "\n",
    "    \"\"\"\n",
    "    fermionic_pool = generate_fermionic_gsd_pool(n_electrons, n_orbitals)\n",
    "    qubit_pool = []\n",
    "    for op in fermionic_pool:\n",
    "        qubit_op = jordan_wigner(op)\n",
    "        for pauli in qubit_op.terms:\n",
    "            qubit_op = QubitOperator(pauli,1j)\n",
    "            if qubit_op not in qubit_pool:\n",
    "              qubit_pool.append(qubit_op)\n",
    "    return qubit_pool\n",
    "qubit_pool_with_Z = generate_qubit_pool_from_fermionic_pool(4, 4)\n",
    "print(f\"|qubit_pool|={len(qubit_pool_with_Z)}\")\n",
    "# qubit_pool_with_Z"
   ]
  },
  {
   "cell_type": "markdown",
   "metadata": {},
   "source": [
    "#### Remove all the Z operators in the qubit pool"
   ]
  },
  {
   "cell_type": "code",
   "execution_count": 9,
   "metadata": {},
   "outputs": [
    {
     "name": "stdout",
     "output_type": "stream",
     "text": [
      "|qubit_pool_without_Z|=328\n"
     ]
    }
   ],
   "source": [
    "def generate_qubit_pool_without_Z(n_electrons: int, n_orbitals: int, n_qubits: int = 0) -> List[openfermion.QubitOperator]:\n",
    "    \"\"\"\n",
    "    Generate a list of openfermion.QubitOperator by removing all the Z operator in the QubitOperator pool\n",
    "    Args:\n",
    "        n_electrons (int): number of electrons in the system\n",
    "        n_orbitals (int): number of orbitals in the system\n",
    "        n_qubits (int): number of qubits in the system\n",
    "\n",
    "    Returns:\n",
    "        qubit_pool (List[openfermion.QubitOperator]): an operator pool\n",
    "\n",
    "    \"\"\"\n",
    "\n",
    "    qubit_pool = generate_qubit_pool_from_fermionic_pool(n_electrons, n_orbitals)\n",
    "    qubit_pool_without_Z = []\n",
    "    for qubit_op in qubit_pool:\n",
    "        operator = list(qubit_op.get_operators())[0]\n",
    "        pauli_string = list(operator.terms.keys())[0]\n",
    "        new_op = QubitOperator((),1j)\n",
    "        for qubit, operator in pauli_string:\n",
    "            if operator != 'Z':\n",
    "                new_op *= QubitOperator((qubit,operator))\n",
    "        if new_op not in qubit_pool_without_Z:\n",
    "            qubit_pool_without_Z.append(new_op)\n",
    "    return qubit_pool_without_Z\n",
    "\n",
    "qubit_pool_without_Z = generate_qubit_pool_without_Z(4, 4)\n",
    "print(f\"|qubit_pool_without_Z|={len(qubit_pool_without_Z)}\")\n",
    "# qubit_pool_without_Z"
   ]
  },
  {
   "cell_type": "code",
   "execution_count": 10,
   "metadata": {},
   "outputs": [
    {
     "name": "stdout",
     "output_type": "stream",
     "text": [
      "|qubit_pool_without_global_rotation|=164\n"
     ]
    }
   ],
   "source": [
    "def generate_qubit_pool_without_Z_and_global_rotation(n_electrons: int, n_orbitals: int, n_qubits: int = 0) -> List[openfermion.QubitOperator]:\n",
    "    \"\"\"\n",
    "    Generate a list of openfermion.QubitOperator by removing all the Z operator in the QubitOperator pool and removing the operator which differ a global rotation\n",
    "    Args:\n",
    "        n_electrons (int): number of electrons in the system\n",
    "        n_orbitals (int): number of orbitals in the system\n",
    "        n_qubits (int): number of qubits in the system\n",
    "\n",
    "    Returns:\n",
    "        qubit_pool (List[openfermion.QubitOperator]): an operator pool\n",
    "\n",
    "    \"\"\"\n",
    "\n",
    "    qubit_pool_without_Z = generate_qubit_pool_without_Z(n_electrons, n_orbitals)\n",
    "    qubit_pool_without_global_rotation = []\n",
    "    for qubit_op in qubit_pool_without_Z:\n",
    "        operator = list(qubit_op.get_operators())[0]\n",
    "        pauli_string = list(operator.terms.keys())[0]\n",
    "        new_op = QubitOperator((),1j)\n",
    "        for qubit, operator in pauli_string:\n",
    "            if operator == 'Y':\n",
    "                new_op *= QubitOperator((qubit,\"X\"))\n",
    "            elif operator == 'X':\n",
    "                new_op *= QubitOperator((qubit,\"Y\"))\n",
    "        if new_op not in qubit_pool_without_global_rotation and qubit_op not in qubit_pool_without_global_rotation:\n",
    "            qubit_pool_without_global_rotation.append(qubit_op)\n",
    "    return qubit_pool_without_global_rotation\n",
    "\n",
    "qubit_pool_without_global_rotation = generate_qubit_pool_without_Z_and_global_rotation(4, 4)\n",
    "print(f\"|qubit_pool_without_global_rotation|={len(qubit_pool_without_global_rotation)}\")\n",
    "# qubit_pool_without_global_rotation"
   ]
  },
  {
   "cell_type": "markdown",
   "metadata": {},
   "source": [
    "### Two constructed qubit operator pool:\n",
    "\n",
    "1. $\\left\\{V_{i}\\right\\}_{n}=$\n",
    "    $$\n",
    "    \\begin{aligned}\n",
    "    &V_{1}=Z Z \\ldots Z Y, \\quad V_{2}=Z Z \\ldots Z Y I \\\\\n",
    "    &V_{3}=Z Z \\ldots Z Y I I, \\quad \\ldots, \\quad V_{n-1}=Z Y I I \\ldots I, \\quad V_{n}=Y I I \\ldots I, \\\\\n",
    "    &V_{n+1}=Z Z \\ldots Z I Y I, \\quad V_{n+2}=Z Z \\ldots Z Y I I, \\\\\n",
    "    &\\ldots, \\quad V_{2 n-3}=Z I Y I I \\ldots I, \\quad V_{2 n-2}=I Y I I \\ldots I .\n",
    "    \\end{aligned}\n",
    "    $$\n",
    "2. $\\left\\{G_{i}\\right\\}_{n}=$\n",
    "    $$\n",
    "    \\begin{aligned}\n",
    "    &G_{1}=Z Y I I \\ldots I, \\quad G_{2}=I Z Y I I \\ldots I \\\\\n",
    "    &G_{3}=I I Z Y I I \\ldots I, \\quad \\ldots, \\quad G_{n-2}=I I \\ldots I Z Y I, \\quad G_{n-1}=I I \\ldots I Z Y \\\\\n",
    "    &G_{n}=Y I I \\ldots I, \\quad G_{n+1}=I Y I I \\ldots I, \\\\\n",
    "    &G_{n+2}=I I Y I I \\ldots I, \\quad \\ldots, \\quad G_{2 n-3}=I I \\ldots I Y I I, \\quad G_{2 n-2}=I I \\ldots I Y I .\n",
    "    \\end{aligned}\n",
    "    $$\n",
    "- The unitary is constructed as $U^{i\\theta_k V_k}$ or $U^{i\\theta_k G_k}$, or else it is not unitary."
   ]
  },
  {
   "cell_type": "markdown",
   "metadata": {},
   "source": [
    "#### V pool"
   ]
  },
  {
   "cell_type": "code",
   "execution_count": 11,
   "metadata": {},
   "outputs": [
    {
     "name": "stdout",
     "output_type": "stream",
     "text": [
      "|V_pool|=6, V_pool = [1j [Y0 Z1 Z2 Z3], 1j [Y1 Z2 Z3], 1j [Y1 Z3], 1j [Y2 Z3], 1j [Y2], 1j [Y3]]\n"
     ]
    }
   ],
   "source": [
    "def generate_qubit_V_pool(n_electrons: int, n_orbitals: int, n_qubits: int) -> List[openfermion.QubitOperator]:\n",
    "    \"\"\"\n",
    "    Generate a list of openfermion.QubitOperator of {Vi}, which are used to update the ansatz in every step.\n",
    "\n",
    "    Args:\n",
    "        n_electrons (int): number of electrons in the system\n",
    "        n_orbitals (int): number of orbitals in the system\n",
    "        n_qubits (int): number of qubits in the system\n",
    "\n",
    "    Returns:\n",
    "        V_pool (List[openfermion.QubitOperator]): an operator pool\n",
    "\n",
    "    \"\"\"\n",
    "\n",
    "    V_pool = []\n",
    "    for i in range(n_qubits):\n",
    "        operator = QubitOperator(([(n_qubits - j - 1, \"Z\") for j in range(n_qubits - i - 1)] + [(i, \"Y\")]), 1j)  # V_1 ... V_n\n",
    "        V_pool.append(operator)\n",
    "        if i != 0 and i != n_qubits - 1:\n",
    "            operator = QubitOperator(([(n_qubits - j - 1, \"Z\") for j in range(n_qubits - i - 2)] + [(i, \"Y\")]), 1j)  # V_n+1 ... V_2n-2\n",
    "            V_pool.append(operator)\n",
    "    return V_pool\n",
    "V_pool = generate_qubit_V_pool(2, 2, 4)\n",
    "print(f\"|V_pool|={len(V_pool)}, V_pool = {V_pool}\")"
   ]
  },
  {
   "cell_type": "markdown",
   "metadata": {},
   "source": [
    "#### G pool"
   ]
  },
  {
   "cell_type": "code",
   "execution_count": 12,
   "metadata": {},
   "outputs": [
    {
     "name": "stdout",
     "output_type": "stream",
     "text": [
      "|G_pool|=6, G_pool = [1j [Y2 Z3], 1j [Y3], 1j [Y1 Z2], 1j [Y2], 1j [Y0 Z1], 1j [Y1]]\n"
     ]
    }
   ],
   "source": [
    "def generate_qubit_G_pool(n_electrons: int, n_orbitals: int, n_qubits: int) -> List[openfermion.QubitOperator]:\n",
    "    \"\"\"\n",
    "    Generate a list of openfermion.QubitOperator of {Gi}, which are used to update the ansatz in every step.\n",
    "\n",
    "    Args:\n",
    "        n_electrons (int): number of electrons in the system\n",
    "        n_orbitals (int): number of orbitals in the system\n",
    "        n_qubits (int): number of qubits in the system\n",
    "\n",
    "\n",
    "    Returns:\n",
    "        G_pool (List[openfermion.QubitOperator]): an operator pool\n",
    "\n",
    "    \"\"\"\n",
    "    \n",
    "    G_pool = []\n",
    "    for i in range(n_qubits - 1):\n",
    "        operator = QubitOperator(([(n_qubits - i - 1, \"Z\")] + [(n_qubits - i - 2, \"Y\")]), 1j)  # V_1 ... V_n\n",
    "        G_pool.append(operator)\n",
    "        operator = QubitOperator(([(n_qubits - i - 1, \"Y\")]), 1j)   # V_n+1 ... V_2n-2\n",
    "        G_pool.append(operator)\n",
    "    return G_pool\n",
    "G_pool = generate_qubit_G_pool(2, 2, 4)\n",
    "print(f\"|G_pool|={len(G_pool)}, G_pool = {G_pool}\")"
   ]
  },
  {
   "cell_type": "markdown",
   "metadata": {},
   "source": [
    "## Get energy from Direct Matrix Calculation"
   ]
  },
  {
   "cell_type": "markdown",
   "metadata": {},
   "source": [
    "### Prepare the ansatz and unitary"
   ]
  },
  {
   "cell_type": "code",
   "execution_count": 13,
   "metadata": {},
   "outputs": [],
   "source": [
    "def get_JW_state_and_unitary(molecule: MolecularData) -> Tuple[List, int, int, np.ndarray, scipy.sparse.csc_matrix]:\n",
    "    \"\"\"\n",
    "    Gets the state, unitary and Hamiltonian from the molecule data\n",
    "\n",
    "    Args:\n",
    "        molecule (openfermion.MolecularData): The molecule data contain the information\n",
    "\n",
    "    Returns:\n",
    "        packed_amplitudes (List): The packed amplitudes of the operators T\n",
    "        n_qubits (int): The number of qubits\n",
    "        n_electrons (int): The number of electrons\n",
    "        HF_state (np.ndarray): The HF state as the ansatz\n",
    "        hamiltonian_matrix (scipy.sparse.csc_matrix): The hamiltonian operator matrix\n",
    "    \"\"\"\n",
    "\n",
    "    # Get information from molecule data\n",
    "    n_qubits = molecule.n_qubits\n",
    "    n_electrons = molecule.n_electrons\n",
    "    n_orbitals = molecule.n_orbitals\n",
    "\n",
    "    # Get the Hartree fock state\n",
    "    HF_state = jw_hartree_fock_state(n_electrons, n_orbitals*2) \n",
    "\n",
    "    # Get the initial excitation operators amplitude from ccsd method\n",
    "    ccsd_single_amps = molecule.ccsd_single_amps\n",
    "    ccsd_double_amps = molecule.ccsd_double_amps\n",
    "    packed_amplitudes = openfermion.uccsd_singlet_get_packed_amplitudes\\\n",
    "    (ccsd_single_amps, ccsd_double_amps, n_qubits, n_electrons)\n",
    "    \n",
    "\n",
    "    # Get the Hamiltonian\n",
    "    hamiltonian = molecule.get_molecular_hamiltonian() \n",
    "    hamiltonian_operator = jordan_wigner(get_fermion_operator(hamiltonian))\n",
    "    hamiltonian_matrix = get_sparse_operator(hamiltonian_operator)\n",
    "\n",
    "    return packed_amplitudes, n_qubits, n_electrons, n_orbitals, HF_state, hamiltonian_matrix"
   ]
  },
  {
   "cell_type": "code",
   "execution_count": 14,
   "metadata": {},
   "outputs": [],
   "source": [
    "def generate_matrix_pool(pool: List[openfermion.QubitOperator], n_qubits: int) -> List[scipy.sparse.csc_matrix]:\n",
    "    \"\"\"\n",
    "    Transform the QubitOperator into a matrix pool\n",
    "\n",
    "    Args:\n",
    "        pool (List[openfermion.QubitOperator]): The operator pool\n",
    "        n_qubits (int): Number of qubits\n",
    "    \n",
    "    Returns:\n",
    "        matrix_pool (List[scipy.sparse.csc_matrix]): The matrix pool\n",
    "    \"\"\"\n",
    "    matrix_pool = []\n",
    "    for qubit_op in pool:\n",
    "        matrix_pool.append(get_sparse_operator(qubit_op, n_qubits = n_qubits))\n",
    "    return np.array(matrix_pool)\n",
    "\n",
    "matrix_pool = generate_matrix_pool(V_pool, 4)"
   ]
  },
  {
   "cell_type": "code",
   "execution_count": 15,
   "metadata": {},
   "outputs": [],
   "source": [
    "def compute_gradient(matrix_pool: List[scipy.sparse.csc_matrix], current_state: np.ndarray, H_current_state: np.ndarray) -> List[np.float32]:\n",
    "    \"\"\"\n",
    "    Compute the gradient of the operators in the matrix pool. For a previously optimized state |n>, compute the gradient g(k) of exp(c(k) A(k))|n>\n",
    "    g(k) = 2Real<HA(k)>. Note - this assumes A(k) is an antihermitian operator. If this is not the case, the derived class should\n",
    "    reimplement this function. Of course, also assumes H is hermitian\n",
    "    \n",
    "    Args:\n",
    "        matrix_pool (List(scipy.sparse.csc_matrix)): operator matrix pool\n",
    "        current_state (np.ndarray): current state vector (v)\n",
    "        H_current_state (np.ndarray): Hv\n",
    "    \n",
    "    Returns:\n",
    "        gi_list (List[np.float32]): gradient of the operators in the matrix pool\n",
    "    \"\"\"\n",
    "    gi_list = []\n",
    "\n",
    "    for op in matrix_pool:\n",
    "        # print(f\"H_current_state type = {type(H_current_state)}, current_state type = {type(current_state)} \")\n",
    "        # print(f\"H_current_state shape = {H_current_state.shape}, op.shape = {op.shape}, current_state shape = {current_state.shape} \")\n",
    "        gi = 2*(H_current_state.transpose().conj().dot(op.dot(current_state)))\n",
    "        # print(f\"step 1 = {op.dot(current_state)}\")\n",
    "        # print(f\"step2 = {H_current_state.transpose().conj()}\")\n",
    "        # print(f\"step 3 = {H_current_state.transpose().conj().dot(op.dot(current_state))}\")\n",
    "        # print(f\"H_current_state  = {H_current_state},op = {op}, current_state shape = {current_state} \")\n",
    "        # print(f\"gi = {gi}\")\n",
    "        if len(gi.data) == 0:\n",
    "            gi_list.append(0.0)\n",
    "        else:\n",
    "            gi_list.append(abs(gi.data[0].real))\n",
    "    return np.array(gi_list)\n",
    "\n",
    "def find_next_operator(matrix_pool: List[scipy.sparse.csc_matrix], current_state: np.ndarray, H: scipy.sparse.csc_matrix) -> scipy.sparse.csc_matrix:\n",
    "    \"\"\"\n",
    "    Given the current state vector, Hamiltonian and the operator pool, find the largest gradient of the operator as the new excitation operators for the ansatz.\n",
    "\n",
    "    Args:\n",
    "        matrix_pool (List(scipy.sparse.csc_matrix)): operator matrix pool\n",
    "        current_state (np.ndarray): current state vector (v)\n",
    "        H (scipy.sparse.csc_matrix): Hamiltonian\n",
    "    \n",
    "    Returns:\n",
    "        operator matrix (scipy.sparse.csc_matrix): operators with largest gradient in the matrix pool\n",
    "        gradient_norm (float): norm of all the gradient of the operators\n",
    "    \"\"\"\n",
    "    # for op in matrix_pool:\n",
    "    #     commutation = H.dot(op) - op.dot(H)\n",
    "    #     print(f\"Hamiltonian is commute with operator? {len(commutation.nonzero())==0}\")\n",
    "    # print(f\"H shape = {H.shape}, current_state shape = {current_state.shape} \")\n",
    "    H_current_state = H.dot(current_state)\n",
    "    gi_list = compute_gradient(matrix_pool, current_state, H_current_state)\n",
    "    # print(f\"gi_list = {gi_list}\")\n",
    "    return matrix_pool[np.argmax(gi_list)], np.linalg.norm(gi_list)"
   ]
  },
  {
   "cell_type": "markdown",
   "metadata": {},
   "source": [
    "### Get expectation from matrix operation"
   ]
  },
  {
   "cell_type": "code",
   "execution_count": 16,
   "metadata": {},
   "outputs": [],
   "source": [
    "def get_expectation_from_matrix_operation(parameters: List[float], excitation_pool:List[scipy.sparse.csc_matrix], n_qubits: int, n_electrons:int , HF_state: np.ndarray, hamiltonian_matrix:scipy.sparse.csc_matrix, repetitions: int = 100) -> float:\n",
    "    \"\"\"\n",
    "    Get the expected value of the energy from : <HF|U+ H U|HF>\n",
    "\n",
    "    Args:\n",
    "        parameters (List[float]): parameters used to calculate the unitary\n",
    "        excitation_pool (List[scipy.sparse.csc_matrix]): The excitation operators chosen from every step \n",
    "        n_qubits (int): The number of qubits\n",
    "        n_electrons (int): The number of electrons\n",
    "        F_state (np.ndarray): The HF state as the ansatz\n",
    "        hamiltonian_matrix (scipy.sparse.csc_matrix): The hamiltonian operator matrix\n",
    "        repetitions: redundant, no use here\n",
    "        \n",
    "    Returns:\n",
    "        energy: The expected value of the energy\n",
    "    \"\"\"\n",
    "    T_matrix = scipy.sparse.csc_matrix(np.eye(2**n_qubits))\n",
    "    assert len(parameters) == len(excitation_pool), f\"number of parameters ({len(parameters)}) is not equal to the number of excitation operators ({len(excitation_pool)})\"\n",
    "    # if len(parameters)\n",
    "    for p, t in zip(parameters, excitation_pool):\n",
    "        T_matrix = scipy.sparse.linalg.expm(p*t) * T_matrix\n",
    "    initial_state = scipy.sparse.csc_matrix.dot(T_matrix, HF_state)\n",
    "    ket = scipy.sparse.csc_matrix(initial_state, dtype=complex).transpose()\n",
    "    # if not isinstance(uccsdState,scipy.sparse.csc_matrix):\n",
    "    #   ket = scipy.sparse.csc_matrix(uccsdState, dtype=complex).transpose()\n",
    "    # else:\n",
    "    #   ket = uccsdState\n",
    "      \n",
    "    bra = ket.transpose().conj()\n",
    "\n",
    "    energy = (bra * hamiltonian_matrix * ket)[0,0].real\n",
    "    return energy"
   ]
  },
  {
   "cell_type": "code",
   "execution_count": 17,
   "metadata": {},
   "outputs": [],
   "source": [
    "def get_state_from_matrix_operation(parameters: List[float], excitation_pool:List[scipy.sparse.csc_matrix], n_qubits: int, n_electrons:int , HF_state: np.ndarray, hamiltonian_matrix:scipy.sparse.csc_matrix, repetitions: int = 100) -> float:\n",
    "    \"\"\"\n",
    "    Get the state of the energy from : U|HF>\n",
    "\n",
    "    Args:\n",
    "        parameters (List[float]): parameters used to calculate the unitary\n",
    "        excitation_pool (List[scipy.sparse.csc_matrix]): The excitation operators chosen from every step \n",
    "        n_qubits (int): The number of qubits\n",
    "        n_electrons (int): The number of electrons\n",
    "        F_state (np.ndarray): The HF state as the ansatz\n",
    "        hamiltonian_matrix (scipy.sparse.csc_matrix): The hamiltonian operator matrix\n",
    "        repetitions: redundant, no use here\n",
    "        \n",
    "    Returns:\n",
    "        energy: The expected value of the energy\n",
    "    \"\"\"\n",
    "    T_matrix = scipy.sparse.csc_matrix(np.eye(2**n_qubits))\n",
    "    assert len(parameters) == len(excitation_pool), f\"number of parameters ({len(parameters)}) is not equal to the number of excitation operators ({len(excitation_pool)})\"\n",
    "    for p, t in zip(parameters, excitation_pool):\n",
    "        T_matrix = scipy.sparse.linalg.expm(p*t) * T_matrix\n",
    "    initial_state = scipy.sparse.csc_matrix.dot(T_matrix, HF_state)\n",
    "    ket = scipy.sparse.csc_matrix(initial_state, dtype=complex).transpose()\n",
    "    return ket"
   ]
  },
  {
   "cell_type": "markdown",
   "metadata": {},
   "source": [
    "### Get parameters gradients from matrix calculation"
   ]
  },
  {
   "cell_type": "code",
   "execution_count": 18,
   "metadata": {},
   "outputs": [],
   "source": [
    "def get_U_grad_from_matrix_calculation_matrix_pool(parameters: List[float], matrix_pool: List[scipy.sparse.csc_matrix], n_qubits: int, n_electrons:int , HF_state: np.ndarray, hamiltonian_operator: openfermion.QubitOperator, repetitions: int = 100) -> float:\n",
    "    \"\"\"\n",
    "    Get the gradient of the energy to the parameters : dE/d theta_i = <HF|U+ H dU/d theta_i |HF> + <HF|dU+/d theta_i H U |HF>\n",
    "    Eq(33) - Eq(38) in [Jonathan Romero et al 2019 Quantum Sci. Technol. 4 014008](https://iopscience.iop.org/article/10.1088/2058-9565/aad3e4/meta)\n",
    "    Different from the paper, we use real part of the final result instead of the imag part, because the unitary defined here is U = exp(t), not U=exp(i*t) in the paper.\n",
    "    \n",
    "    Args:\n",
    "        parameters (List[float]): parameters used to calculate the unitary\n",
    "        matrix_pool (scipy.sparse.csc_matrix): The excitation operators chosen from every step \n",
    "        n_qubits (int): The number of qubits\n",
    "        n_electrons (int): The number of electrons\n",
    "        HF_state (np.ndarray): The HF state as the ansatz\n",
    "        hamiltonian_operator (openfermion.QubitOperator): The hamiltonian operator in Pauli bases\n",
    "        repetitions: redundant, no use here\n",
    "        \n",
    "    Returns:\n",
    "        energy: The expected value of the energy\n",
    "    \"\"\"\n",
    "\n",
    "    \n",
    "    assert len(parameters) == len(matrix_pool), f\"number of parameters ({len(parameters)}) is not equal to the number of excitation operators ({len(excitation_pool)})\"\n",
    "\n",
    "    T_matrix = scipy.sparse.csc_matrix(np.eye(2**n_qubits))\n",
    "    V_matrix_list = [scipy.sparse.csc_matrix(np.eye(2**n_qubits))]*len(parameters)\n",
    "\n",
    "    for i, (p, t) in enumerate(zip(parameters, matrix_pool)):\n",
    "        U = scipy.sparse.linalg.expm(p*t)\n",
    "        T_matrix = U.dot(T_matrix)\n",
    "        for j in range(len(V_matrix_list)):\n",
    "            V_matrix_list[j] = U.dot(V_matrix_list[j])\n",
    "        V_matrix_list[i] = t.dot(V_matrix_list[i])\n",
    "    # print(f\"T_matrix = {T_matrix} \\n\")\n",
    "    # for i, V in enumerate(V_matrix_list):\n",
    "    #     print(f\"No. {i},  V_matrix = {V} \\n\")\n",
    "    H_matrix = hamiltonian_operator\n",
    "    gi_list = []\n",
    "    for i in range(len(parameters)):\n",
    "        phi_ket = scipy.sparse.csc_matrix.dot(T_matrix, HF_state)\n",
    "        phi_bra = scipy.sparse.csc_matrix.dot(V_matrix_list[i], HF_state).transpose().conj()\n",
    "        # print(f\"No. {i}, HF_state = {HF_state},  phi_ket = {phi_ket}, phi_bra = {phi_bra}\")\n",
    "        # print(f\"No. {i}, HF_state = {HF_state.shape},  phi_ket = {phi_ket.shape}, phi_bra = {phi_bra.shape}\")\n",
    "        # print(f\"No. {i}, HF_state = {HF_state.shape},  phi_ket = {phi_ket.T.shape}, phi_bra = {phi_bra.T.shape}\")\n",
    "        gi = phi_bra.dot(H_matrix.dot(phi_ket))\n",
    "        # print(f\"gi = {gi}, H = {H_matrix}\")\n",
    "        gi_list.append(2*np.real(gi))\n",
    "    # print(f\"parameters = {parameters}, gradient of parameters = {gi_list}\")\n",
    "    return np.array(gi_list)"
   ]
  },
  {
   "cell_type": "markdown",
   "metadata": {},
   "source": [
    "## Get energy from Cirq simulation"
   ]
  },
  {
   "cell_type": "markdown",
   "metadata": {},
   "source": [
    "### Prepare the group Hamiltonian"
   ]
  },
  {
   "cell_type": "code",
   "execution_count": 19,
   "metadata": {},
   "outputs": [],
   "source": [
    "def get_JW_state_and_unitary_cirq(molecule: MolecularData) -> Tuple[List, int, int, np.ndarray, openfermion.QubitOperator]:\n",
    "    \"\"\"\n",
    "    Gets the state, unitary and Hamiltonian from the molecule data\n",
    "\n",
    "    Args:\n",
    "        molecule (openfermion.MolecularData): The molecule data contain the information\n",
    "\n",
    "    Returns:\n",
    "        packed_amplitudes (List): The packed amplitudes of the operators T\n",
    "        n_qubits (int): The number of qubits\n",
    "        n_electrons (int): The number of electrons\n",
    "        HF_state (np.ndarray): The HF state as the ansatz\n",
    "        hamiltonian_operator (openfermion.QubitOperator): The hamiltonian operator in the Pauli bases\n",
    "    \"\"\"\n",
    "\n",
    "    # Get information from molecule data\n",
    "    n_qubits = molecule.n_qubits\n",
    "    n_electrons = molecule.n_electrons\n",
    "    n_orbitals = molecule.n_orbitals\n",
    "\n",
    "    # Get the Hartree fock state\n",
    "    HF_state = jw_hartree_fock_state(n_electrons, n_orbitals*2) \n",
    "\n",
    "    # Get the initial excitation operators amplitude from ccsd method\n",
    "    ccsd_single_amps = molecule.ccsd_single_amps\n",
    "    ccsd_double_amps = molecule.ccsd_double_amps\n",
    "    packed_amplitudes = openfermion.uccsd_singlet_get_packed_amplitudes\\\n",
    "    (ccsd_single_amps, ccsd_double_amps, n_qubits, n_electrons)\n",
    "    \n",
    "\n",
    "    # Get the Hamiltonian\n",
    "    hamiltonian = molecule.get_molecular_hamiltonian() \n",
    "    hamiltonian_operator = jordan_wigner(get_fermion_operator(hamiltonian))\n",
    "    return packed_amplitudes, n_qubits, n_electrons, n_orbitals, HF_state, hamiltonian_operator"
   ]
  },
  {
   "cell_type": "code",
   "execution_count": 20,
   "metadata": {},
   "outputs": [],
   "source": [
    "def Ket_to_Vector(hf_ket):\n",
    "    \"\"\"\n",
    "    Convert a Ket of HF state to a vector representation.\n",
    "\n",
    "    Args:\n",
    "        ket (list): the list representation of a Ket of a HF state. |0> = [1, 0].T, |1> = [0, 1].T.\n",
    "    \n",
    "    Returns:\n",
    "        hf_vector (list): the vector representation of a HF state\n",
    "    \"\"\"\n",
    "\n",
    "    hf_vector = [1]\n",
    "    for ket in hf_ket:\n",
    "        v = [1-ket, ket]\n",
    "        hf_vector = np.kron(hf_vector, v)\n",
    "    return hf_vector\n",
    "\n",
    "def Vector_to_Ket(hf_vector):\n",
    "    \"\"\"\n",
    "    Convert a vector to a list representation of a Ket.\n",
    "\n",
    "    Args:\n",
    "        hf_vector (list): the vector representation of a HF state\n",
    "\n",
    "    Returns:\n",
    "        hf_ket (list): the list representation of a Ket of a HF state\n",
    "    \"\"\"\n",
    "\n",
    "    dim = len(hf_vector)\n",
    "    hf_ket = []\n",
    "\n",
    "    while dim>1:\n",
    "        if any (hf_vector[i] for i in range(int(dim/2))):\n",
    "            # Ket is of the form |0>|...>.  |0> = [1, 0].T\n",
    "            hf_ket.append(0)\n",
    "            # Get the vector representing the state of the remaining qubits.\n",
    "            hf_vector = hf_vector[:int(dim/2)]\n",
    "        else:\n",
    "            # Ket is of the form |1>|...>. |1> = [0, 1].T\n",
    "            hf_ket.append(1)\n",
    "            # Get the vector representing the state of the remaining qubits.\n",
    "            hf_vector = hf_vector[int(dim//2):]\n",
    "        dim = dim/2\n",
    "    return hf_ket    \n"
   ]
  },
  {
   "cell_type": "code",
   "execution_count": 21,
   "metadata": {},
   "outputs": [],
   "source": [
    "def convert_hamiltonian(hamiltonian_operator: openfermion.QubitOperator, n_qubits: int):\n",
    "  '''\n",
    "  Convert the hamiltonian from openfermion.QubitOperator to a dict, so that some Pauli string could be measured with one shot\n",
    "\n",
    "  Arguments:\n",
    "    hamiltonian_operator (openfermion.QubitOperator): the Hamiltonian in the Pauli basis.\n",
    "    n_qubits (int): number of qubits\n",
    "  Returns:\n",
    "    hamiltonian_dict (dict): the Hamiltonian as a dictionary with Pauli strings (eg 'YXZI') as keys and their coefficients as values.\n",
    "  '''\n",
    "\n",
    "  hamiltonian_dict = OrderedDict()\n",
    "  # Iterate through the terms in the Hamiltonian\n",
    "  for term in hamiltonian_operator.get_operators():\n",
    "    coefficient = list(term.terms.values())[0]\n",
    "    operators = [\"I\"] * n_qubits\n",
    "    for (qubit, Pauli_string) in list(term.terms.keys())[0]:\n",
    "        operators[int(qubit)] = Pauli_string\n",
    "    hamiltonian_dict[\"\".join(operators)] = coefficient\n",
    "\n",
    "  return hamiltonian_dict"
   ]
  },
  {
   "cell_type": "code",
   "execution_count": 22,
   "metadata": {},
   "outputs": [
    {
     "data": {
      "text/plain": [
       "openfermion.ops.operators.qubit_operator.QubitOperator"
      ]
     },
     "execution_count": 22,
     "metadata": {},
     "output_type": "execute_result"
    }
   ],
   "source": [
    "hm = openfermion.QubitOperator('X0 Y3', 0.5)+ 0.6 * QubitOperator('X1 Y3') - 0.6 * QubitOperator('X2 Z3')\n",
    "convert_hamiltonian(hm, 4)\n",
    "type(hm)"
   ]
  },
  {
   "cell_type": "code",
   "execution_count": 23,
   "metadata": {},
   "outputs": [],
   "source": [
    "def find_sub_strings(main_string: str, hamiltonian_dict: dict, checked: List[str]) -> Tuple[dict, List[str]]:\n",
    "    \"\"\"\n",
    "    Find the string that in the H_df that only differ from the main string with Identity operator. These grouped operators could be measured in the same single shot.\n",
    "\n",
    "    Args:\n",
    "        main_string (str): The main string contained the largest number of to-be-measured operators. \n",
    "                            Such as \"XZ\" in [\"XZ\", \"IZ\", \"XI\", \"II\"]. So that after measuring \"X\" and \"Z\" on qubit 1 and 2, respectively,\n",
    "                            We can get the measured result of \"IZ\", \"XI\" and \"II\" from the same single shot measurement. Note \"I\" always gives 1 of the expectation measured.\n",
    "                            If we choose the \"IZ\" operator to be the main string, then according to the function, only \"I\" and \"Z\" on qubit 1 and 2 will be measured.\n",
    "                            Hence, the \"X\" result of qubit 1 can not get the result from the main string measurement.\n",
    "        hamiltonian_dict (dict): Contain the Hamiltonian information to prepare the Hamiltonian\n",
    "        checked (List[str]): A list of Pauli string that is already grouped\n",
    "    \n",
    "    Returns:\n",
    "        grouped_operators: The grouped operators list which is a dict:\n",
    "                                {\n",
    "                                    substring (str, like \"01\" if pauli string is \"IZ\", which differ from the main_string with only identity): coefficients in the Hamiltonian\n",
    "                                }\n",
    "    \"\"\"\n",
    "    \n",
    "    grouped_operators = OrderedDict()\n",
    "    \n",
    "    # Go through the keys in the dictionary representing the Hamiltonian that \n",
    "    # haven't been grouped yet, and find those that only differ from mainString by identities\n",
    "    for Pauli_string in hamiltonian_dict:\n",
    "        if Pauli_string == \"R\" or Pauli_string in checked: # ignore the \"distance term\"\n",
    "            continue\n",
    "            \n",
    "        if(all((op1==op2 or op2==\"I\") for op1, op2 in zip(main_string, Pauli_string))):\n",
    "            # The string only differs from mainString by identities\n",
    "            \n",
    "            # Represent the string as a substring of the main one\n",
    "            boolean_string=\"\".join([str(int(op1==op2)) for op1,op2 in zip(main_string, Pauli_string)])\n",
    "                \n",
    "            # Add the boolean string representing this string as a key to \n",
    "            # the dictionary of grouped operators, and associate its \n",
    "            # coefficient as its value\n",
    "            grouped_operators[boolean_string] = hamiltonian_dict[Pauli_string]\n",
    "            \n",
    "            # Mark the string as grouped, so that it's not added to any \n",
    "            #other group\n",
    "            checked.append(Pauli_string)\n",
    "                \n",
    "    return (grouped_operators, checked)"
   ]
  },
  {
   "cell_type": "code",
   "execution_count": 24,
   "metadata": {},
   "outputs": [],
   "source": [
    "def group_Hamiltonian(hamiltonian_dict: dict) -> dict:\n",
    "    \"\"\"\n",
    "    Group the Hamiltonian so that the some Pauli string could be measured in one shot.\n",
    "\n",
    "    Args:\n",
    "        hamiltonian_dict (hamiltonian_dict): Contain the Hamiltonian information to prepare the Hamiltonian\n",
    "    \n",
    "    Returns:\n",
    "        grouped_Hamiltonian: The grouped Hamiltonian which is a dict:\n",
    "                                {\n",
    "                                    main_string (str, like \"XZ\"):\n",
    "                                    {\n",
    "                                        subs_tring (str, like \"01\" if Pauli string is \"IZ\", which differ from the main_string with only identity): coefficients in the Hamiltonian\n",
    "                                    }\n",
    "                                }\n",
    "    \"\"\"\n",
    "\n",
    "    grouped_Hamiltonian=OrderedDict()\n",
    "    checked=[]\n",
    "    \n",
    "    # Go through the hamiltonian, starting by the terms that have less identity operators\n",
    "    for main_string in sorted(hamiltonian_dict, key = lambda Pauli_string: Pauli_string.count(\"I\")):\n",
    "        if main_string in checked: # ignore the \"distance term\"\n",
    "            continue\n",
    "        # Call find_sub_strings to find all the strings in the dictionary that \n",
    "        # only differ from mainString by identities, and organize them as a \n",
    "        # dictionary (groupedOperators)\n",
    "        grouped_operators, checked = find_sub_strings(main_string, hamiltonian_dict, checked)\n",
    "        \n",
    "        # Use the dictionary as a value for the mainString key in the \n",
    "        #groupedHamiltonian dictionary\n",
    "        grouped_Hamiltonian[main_string] = grouped_operators\n",
    "    return grouped_Hamiltonian"
   ]
  },
  {
   "cell_type": "markdown",
   "metadata": {},
   "source": [
    "### Transform operator in the fermionic pool to the qubit operator"
   ]
  },
  {
   "cell_type": "code",
   "execution_count": 25,
   "metadata": {},
   "outputs": [],
   "source": [
    "def generate_qubit_pool(pool: List[openfermion.QubitOperator], n_qubits: int) -> List[openfermion.QubitOperator]:\n",
    "    \"\"\"\n",
    "    Transform the operator by using the JW transformation, the transformed operator regards as a whole.\n",
    "\n",
    "    Args:\n",
    "        pool (List[openfermion.QubitOperator]): The fermionic operator pool\n",
    "        n_qubits (int): Number of qubits\n",
    "    \n",
    "    Returns:\n",
    "        qubit_pool ( List[openfermion.QubitOperator]): The qubit operator pool\n",
    "    \"\"\"\n",
    "    qubit_pool = []\n",
    "    for qubit_op in pool:\n",
    "        qubit_pool.append(qubit_op)\n",
    "    return qubit_pool"
   ]
  },
  {
   "cell_type": "markdown",
   "metadata": {},
   "source": [
    "### Trotterization"
   ]
  },
  {
   "cell_type": "markdown",
   "metadata": {},
   "source": [
    "1. Prove the Equation used for trotter decomposition\n",
    "    $$\n",
    "    e^{iZ_1\\otimes...\\otimes Z_n \\theta} = C_1X_2 \\otimes ... \\otimes C_{n-1}X_n \\cdot e^{iZ_n \\theta} \\cdot C_{n-1}X_n \\otimes ... \\otimes C_1X_2\n",
    "    $$\n",
    "    where $C_{n-1}X_n$ is the Cnot gate with control and target qubit are $n-1$ and $n$ qubit, respectively.\n",
    "    $$\n",
    "    \\begin{aligned}\n",
    "    e^{iZ_1\\otimes...\\otimes Z_n \\theta} =& \\left[\\begin{array}{cc}\n",
    "    e^{i Z_2 \\otimes...\\otimes Z_n \\theta} & 0 \\\\\n",
    "    0 & e^{-i Z_2 \\otimes...\\otimes Z_n \\theta}\n",
    "    \\end{array}\\right]\\\\\n",
    "    =& \\left[\\begin{array}{cc}\n",
    "    e^{i Z_2 \\otimes...\\otimes Z_n \\theta} & 0 \\\\\n",
    "    0 & X_2e^{i Z_2 \\otimes...\\otimes Z_n \\theta}X_2\n",
    "    \\end{array}\\right]\\\\\n",
    "    =& \\left[\\begin{array}{cc}\n",
    "    I & 0 \\\\\n",
    "    0 & X_2\n",
    "    \\end{array}\\right]\\cdot \\left[\\begin{array}{cc}\n",
    "    e^{i Z_2 \\otimes...\\otimes Z_n \\theta} & 0 \\\\\n",
    "    0 & e^{i Z_2 \\otimes...\\otimes Z_n \\theta}\n",
    "    \\end{array}\\right]  \\cdot \\left[\\begin{array}{cc}\n",
    "    I & 0 \\\\\n",
    "    0 & X_2\n",
    "    \\end{array}\\right]\\\\\n",
    "    =&C_1X_2e^{i Z_2 \\otimes...\\otimes Z_n \\theta}C_1X_2\\\\\n",
    "    =&C_1X_2 \\otimes ... \\otimes C_{n-1}X_n \\cdot e^{iZ_n \\theta} \\cdot C_{n-1}X_n \\otimes ... \\otimes C_1X_2\n",
    "    \\end{aligned}\n",
    "    $$\n",
    "    Below, we also use the numerical calculations to prove.\n",
    "2. Decomposition of the trotter operator.\n",
    "    1. The trotter operator: $e^{i\\theta  P}$, where $P$ is a multi product of a series of Pauli matrix, such as $\\sigma_x^1\\cdot\\sigma_z^2\\cdot\\sigma_x^4$\n",
    "    2. First we transit the P to the Z series.\n",
    "        $$\n",
    "        R_y(\\frac{\\pi}{2})ZR_y(-\\frac{\\pi}{2}) = X,\\ \\ \\ \\  R_x(-\\frac{\\pi}{2}) Z R_x(\\frac{\\pi}{2}) = Y\n",
    "        $$\n",
    "        So we can write\n",
    "        $$\n",
    "        e^{i\\theta X} = R_y(\\frac{\\pi}{2}) e^{i\\theta Z} R_y(-\\frac{\\pi}{2}),   \\ \\ \\ \\ e^{i\\theta Y} =  R_x(-\\frac{\\pi}{2}) e^{i\\theta Z} R_x(\\frac{\\pi}{2}) \n",
    "        $$\n",
    "        for each qubit. Then the trotter operators are consist of single qubit gates of $\\{R_x(\\frac{\\pi}{2}), R_y(\\frac{\\pi}{2})\\}$ and an exponential of $Z$ Pauli series operators $e^{iZ_1\\otimes...\\otimes Z_n \\theta}$.\n",
    "    3. Using the CNOT gate and single qubit rotate to simulate $e^{iZ_1\\otimes...\\otimes Z_n \\theta}$:\n",
    "        $$\n",
    "        e^{iZ_1\\otimes...\\otimes Z_n \\theta} = C_1X_2 \\otimes ... \\otimes C_{n-1}X_n \\cdot e^{iZ_n \\theta} \\cdot C_{n-1}X_n \\otimes ... \\otimes C_1X_2\n",
    "        $$\n"
   ]
  },
  {
   "cell_type": "code",
   "execution_count": 26,
   "metadata": {},
   "outputs": [
    {
     "name": "stdout",
     "output_type": "stream",
     "text": [
      "They are all equal to 0? Anser = True\n"
     ]
    }
   ],
   "source": [
    "# Prove of exp(i Z^n x) == CX^n exp(ix) CX^n\n",
    "\n",
    "\n",
    "pauliZ = np.array([[1,0],\n",
    "                 [0,-1]],\n",
    "                dtype = complex)\n",
    "pauliI = np.array([[1,0],\n",
    "                 [0,1]],\n",
    "                dtype = complex)\n",
    "\n",
    "Cnot = np.array([[1, 0, 0, 0],\n",
    "                 [0, 1, 0, 0],\n",
    "                 [0, 0, 0, 1],\n",
    "                 [0, 0, 1, 0]],\n",
    "                dtype = complex)\n",
    "\n",
    "def cal_exp_Zn(n: int, x: float) -> float:\n",
    "    \"\"\"\n",
    "    Calculate the exp(i Z^n x) == CX^n exp(ix) CX^n\n",
    "\n",
    "    Args:\n",
    "        n (int): The number of the qubits\n",
    "        x (float): The phase\n",
    "    \n",
    "    Returns:\n",
    "        norm (float): The norm of the difference between the two matrix\n",
    "    \"\"\"\n",
    "\n",
    "    Zn = 1.0\n",
    "    for i in range(n):\n",
    "        Zn = np.kron(pauliZ, Zn)\n",
    "    exp_Zn = scipy.linalg.expm(1j*Zn*x)\n",
    "\n",
    "    CXn = 1.0\n",
    "    for i in range(n-1):\n",
    "        CXn = np.dot(np.kron(np.eye(2**i), np.kron(Cnot, np.eye(2**(n-i-2) ))), CXn)\n",
    "    CXn = np.dot(np.kron(np.eye(2**(n-1)), scipy.linalg.expm(1j*pauliZ*x)), CXn)\n",
    "    for i in range(n-2, -1, -1):\n",
    "        CXn = np.dot(np.kron(np.eye(2**i), np.kron(Cnot, np.eye(2**(n-i-2) ))), CXn)\n",
    "    diff = exp_Zn - CXn\n",
    "    # print(f\"norm = {np.linalg.norm(diff)} \")\n",
    "    return np.linalg.norm(diff)\n",
    "\n",
    "eq_list = []\n",
    "for i in range(100):\n",
    "    order = np.random.randint(2, 10)\n",
    "    eq_list.append(cal_exp_Zn(order, np.random.random()))\n",
    "print(f\"They are all equal to 0? Anser = {not any(eq_list)}\")"
   ]
  },
  {
   "cell_type": "code",
   "execution_count": 27,
   "metadata": {},
   "outputs": [],
   "source": [
    "def trotter_step(operator: openfermion.QubitOperator, qubits: cirq.LineQubit , time: float) -> cirq.Gate: \n",
    "  '''\n",
    "  Creates the circuit for applying e^(-j*operator*time), simulating the time\n",
    "  evolution of a state under the Hamiltonian 'operator'.\n",
    "\n",
    "  Args:\n",
    "    operator (union[openfermion.QubitOperator, openfermion.FermionOperator, openfermion.InteractionOperator]): the operator to be simulated\n",
    "    qubits ([cirq.LineQubit]): the qubits that the gates should be applied to\n",
    "    time (float): the evolution time\n",
    "\n",
    "  Returns:\n",
    "    trotterGates ( -> cirq.Gate): the list of CIRQ gates that apply the trotterized operator\n",
    "  '''\n",
    "\n",
    "  # If operator is an InteractionOperator, shape it into a FermionOperator\n",
    "  if isinstance(operator, InteractionOperator):\n",
    "    operator = get_fermion_operator(operator)\n",
    "\n",
    "  # If operator is a FermionOperator, use the Jordan Wigner transformation\n",
    "  #to map it into a QubitOperator\n",
    "  if isinstance(operator, FermionOperator):\n",
    "    operator = jordan_wigner(operator)\n",
    "\n",
    "  # Initialize list of gates\n",
    "  trotter_gates = []\n",
    "\n",
    "  # Order the terms the same way as done by OpenFermion's \n",
    "  # trotter_operator_grouping function (sorted keys) for consistency.\n",
    "  ordered_terms = sorted(list(operator.terms.keys()))\n",
    "\n",
    "  # Add to trotterGates the gates necessary to simulate each Pauli string,\n",
    "  # going through them by the defined order\n",
    "  for pauli_string in ordered_terms:\n",
    "\n",
    "    # Get real part of the coefficient (the immaginary one can't be simulated,\n",
    "    # as the exponent would be real and the operation would not be unitary).\n",
    "    # Multiply by time to get the full multiplier of the Pauli string.\n",
    "    coef = float(np.real(operator.terms[pauli_string]))*time\n",
    "\n",
    "    # Keep track of the qubit indices involved in this particular Pauli string.\n",
    "    # It's necessary so as to know which are included in the sequence of CNOTs \n",
    "    # that compute the parity\n",
    "    involved_qubits = []\n",
    "\n",
    "    # Perform necessary basis rotations\n",
    "    for pauli in pauli_string:\n",
    "\n",
    "      # Get the index of the qubit this Pauli operator acts on\n",
    "      qubit_index = pauli[0]\n",
    "      involved_qubits.append(qubit_index)\n",
    "\n",
    "      # Get the Pauli operator identifier (X,Y or Z)\n",
    "      pauli_op = pauli[1]\n",
    "\n",
    "      if pauli_op == \"X\":\n",
    "        # Rotate to X basis\n",
    "        trotter_gates.append(cirq.ry(-np.pi/2).on(qubits[qubit_index]))\n",
    "\n",
    "      if pauli_op == \"Y\":\n",
    "        # Rotate to Y Basis\n",
    "        trotter_gates.append(cirq.rx(np.pi/2).on(qubits[qubit_index]))\n",
    "\n",
    "    # Compute parity and store the result on the last involved qubit\n",
    "    for i in range(len(involved_qubits)-1):\n",
    "\n",
    "      control = involved_qubits[i]\n",
    "      target = involved_qubits[i+1]\n",
    "\n",
    "      trotter_gates.append(cirq.CX(qubits[control], qubits[target]))\n",
    "    \n",
    "    # Apply e^(-i*Z*coef) = Rz(coef*2) to the last involved qubit\n",
    "    last_qubit = max(involved_qubits)\n",
    "    trotter_gates.append(cirq.rz(coef*2).on(qubits[last_qubit]))\n",
    "\n",
    "    # Uncompute parity\n",
    "    for i in range(len(involved_qubits)-2,-1,-1):\n",
    "\n",
    "      control = involved_qubits[i]\n",
    "      target = involved_qubits[i+1]\n",
    "\n",
    "      trotter_gates.append(cirq.CX(qubits[control],qubits[target]))\n",
    "\n",
    "    # Undo basis rotations\n",
    "    for pauli in pauli_string:\n",
    "\n",
    "      # Get the index of the qubit this Pauli operator acts on\n",
    "      qubit_index = pauli[0]\n",
    "\n",
    "      # Get the Pauli operator identifier (X,Y or Z)\n",
    "      pauli_op = pauli[1]\n",
    "\n",
    "      if pauli_op == \"X\":\n",
    "        # Rotate to Z basis from X basis\n",
    "        trotter_gates.append(cirq.ry(np.pi/2).on(qubits[qubit_index]))\n",
    "\n",
    "      if pauli_op == \"Y\":\n",
    "        # Rotate to Z basis from Y Basis\n",
    "        trotter_gates.append(cirq.rx(-np.pi/2).on(qubits[qubit_index]))\n",
    "\n",
    "  return trotter_gates\n",
    "\n",
    "def trotterize_operator(operator: openfermion.QubitOperator, qubits: cirq.LineQubit , time: float, steps: int) -> cirq.Gate:\n",
    "  '''\n",
    "  Creates the circuit for applying e^(-j*operator*time), simulating the time\n",
    "  evolution of a state under the Hamiltonian 'operator', with the given \n",
    "  number of steps. \n",
    "  Increasing the number of steps increases precision (unless the terms in the \n",
    "  operator commute, in which case steps = 1 is already exact).\n",
    "  For the same precision, a greater time requires a greater step number\n",
    "  (again, unless the terms commute)\n",
    "\n",
    "  Args:\n",
    "    operator (union[openfermion.QubitOperator, openfermion.FermionOperator, openfermion.InteractionOperator]): the operator to be simulated\n",
    "    qubits ([cirq.LineQubit]): the qubits that the gates should be applied to\n",
    "    time (float): the evolution time\n",
    "    steps (int): the number of trotter steps to split the time evolution into\n",
    "\n",
    "  Returns:\n",
    "    trotterGates (cirq.OP_TREE): the list of CIRQ gates that apply the trotterized operator\n",
    "  '''\n",
    "  \n",
    "  trotter_gates = []\n",
    "  \n",
    "  # Divide time into steps and apply the evolution operator the necessary \n",
    "  #number of times\n",
    "  for step in range(1,steps+1):\n",
    "    trotter_gates += (trotter_step(operator, qubits, time/steps))\n",
    "  return trotter_gates"
   ]
  },
  {
   "cell_type": "markdown",
   "metadata": {},
   "source": [
    "### Estimating the required shot count"
   ]
  },
  {
   "cell_type": "markdown",
   "metadata": {},
   "source": [
    "See [arxiv:1507.08969](https://https://arxiv.org/pdf/1507.08969.pdf). We write the Hamiltonian as a sum of Pauli strings, as usual:\n",
    "$$H = \\sum_{i=1}^{N_{terms}}h_iO_i$$\n",
    "The error coming from the finite number of shots in the expectation estimation can be written\n",
    "$$\\epsilon^2 = \\sum_i\\frac{|h_i|^2Var(O_i)}{M_i}$$\n",
    "\n",
    "The variances depend, not only on the Pauli operators appearing in the Hamiltonian, but also on the particular state. We can bound them as $Var(O_i)\\leq1$, since any Pauli operator has $\\pm1$ eigenvalues and so will their product.\n",
    "\n",
    "Without further knowledge about their variance, the best choice is to distribute the shots by the operators proportionatelly to the norm of their coefficients: $M_i\\propto|h_i|$. Assuming this optimal distribution, one can estimate the necessary number of shots to hit a precision $\\epsilon$ as\n",
    "$$M\\approx\\frac{(\\sum_i|h_i|)^2}{\\epsilon^2}$$\n",
    "The term $(\\sum_i|h_i|)^2$ will depend strongly on the molecule in study, and make it so that bigger molecules require a larger number of shots for the same precision.\n",
    "\n",
    "Given that chemical accuracy is $1$ kcal/mol $\\approx 1.59\\times10^{-3}$ Hartree, achieving it requires\n",
    "$$M\\approx0.4\\times10^6\\times(\\sum_i|h_i|)^2$$\n",
    "This is already of the order of $10^7$ to $10^8$ for small molecules like helonium and lithium hydride; $Fe_2S_2$, for instance, would require $10^{13}$ shots.\n",
    "\n",
    "This number of shots needs to be performed every time one needs to evaluate the energy, which happens many times throughout the optimization - especially for larger molecules, in which there are many parameters to optimize. And it still doesn't guarantee proper functionning of the optimizer: it guarantees chemical accuracy in the energy estimates, but the final estimate isn't necessarily close to the ground state. The error might still be big enough to confuse the optimizer into picking a wrong guess."
   ]
  },
  {
   "cell_type": "code",
   "execution_count": 28,
   "metadata": {},
   "outputs": [],
   "source": [
    "def get_required_shots(qubit_hamiltonian: openfermion.QuadOperator) -> int:\n",
    "    \"\"\"\n",
    "    Get the required shots to reach the chemical accuracy\n",
    "\n",
    "    Args:\n",
    "      qubit_hamiltonian (openfermion.QuadOperator): qubit hamiltonian\n",
    "    \n",
    "    Returns:\n",
    "      shots (int): required shots\n",
    "    \"\"\"\n",
    "    total = 0\n",
    "\n",
    "    for term in qubit_hamiltonian.get_operators():\n",
    "        coefficient = list(term.terms.values())[0]\n",
    "        total += np.abs(coefficient)\n",
    "    shots = total**2 / (CHEMICAL_ACCURACY) ** 2\n",
    "    return int(shots)"
   ]
  },
  {
   "cell_type": "markdown",
   "metadata": {},
   "source": [
    "### Get expectation from state measurement.\n",
    "1. Get expectation values of Pauli matrix, such as X, Z used here, from a given state $|\\phi\\rangle = \\alpha |0\\rangle + \\beta |1\\rangle$. (The Cirq measure the $|\\langle 1|\\phi\\rangle|^2$ ). To simulate the real quantum computer, we here only use the measurement of the qubit to give the expectation values.\n",
    "   1. For Z:\n",
    "      $$\n",
    "      \\begin{aligned}\n",
    "      \\langle \\phi|Z| \\phi\\rangle &= \\alpha^*\\alpha - \\beta^*\\beta\\\\\n",
    "      &= 1- 2\\beta^*\\beta\\\\\n",
    "      & = 1 - 2|\\langle 1| \\phi\\rangle|^2\n",
    "      \\end{aligned}\n",
    "      $$\n",
    "   2. For X:\n",
    "      $$\n",
    "      \\begin{aligned}\n",
    "      \\langle \\phi|X| \\phi\\rangle &= \\alpha^*\\beta + \\beta^*\\alpha\\\\\n",
    "      &= 1- (\\alpha^*\\alpha + \\beta^*\\beta - \\alpha^*\\beta - \\beta^*\\alpha)\\\\\n",
    "      & = 1 - 2\\frac{(\\alpha - \\beta)}{\\sqrt{2}}\\frac{(\\alpha^* - \\beta^*)}{\\sqrt{2}}\\\\\n",
    "      & = 1 - 2|\\langle 1|H| \\phi\\rangle|^2\n",
    "      \\end{aligned}\n",
    "      $$\n",
    "   3. For Y:\n",
    "      $$\n",
    "      \\begin{aligned}\n",
    "      \\langle \\phi|Y| \\phi\\rangle &= -i(\\alpha^*\\beta - \\beta^*\\alpha)\\\\\n",
    "      &= 1- (\\alpha^*\\alpha + \\beta^*\\beta + i\\alpha^*\\beta - i\\beta^*\\alpha)\\\\\n",
    "      & = 1 - 2\\frac{(\\alpha + i\\beta)}{\\sqrt{2}}\\frac{(\\alpha^* - i\\beta^*)}{\\sqrt{2}}\\\\\n",
    "      & = 1 - 2|\\langle 1|\\text{Rx}(-\\frac{\\pi}{2})| \\phi\\rangle|^2\n",
    "      \\end{aligned}\n",
    "      $$\n",
    "      where $\\text{Rx}(-\\frac{\\pi}{2}) = \\exp{(i\\frac{\\pi}{2}\\sigma_X)}$\n",
    "   4. For I: return 1\n",
    "2. ***Notice***: The measurement here is single shot. For the tangled state, the measurement result should be $E(M_{q1}\\cdot M_{q2})$, not $E(M_{q1})\\cdot E(M_{q2})$. Because the tangled state measurement of qubit 1 will collapse the qubit 2."
   ]
  },
  {
   "cell_type": "code",
   "execution_count": 29,
   "metadata": {},
   "outputs": [],
   "source": [
    "def measure_expectation_from_Cirq(parameters: List[float], excitation_pool: List[openfermion.QubitOperator], n_qubits: int, n_electrons: int,  HF_state: List[float], main_string: str, sub_Hamiltonian: dict, repetitions: int = 1000) -> float:\n",
    "    \"\"\"\n",
    "    Calculate the expectation for a given state initial parameters and operator.\n",
    "\n",
    "    Args:\n",
    "        parameters (List[float]): parameters used to calculate the unitary\n",
    "        excitation_pool (List[openfermion.QubitOperator]): The excitation operators chosen from every step \n",
    "        n_qubits (int): The number of qubits\n",
    "        n_electrons (int): The number of electrons\n",
    "        HF_state (np.ndarray): The HF state as the ansatz in the qubit basis, such as |1100>\n",
    "        main_string (str): Operator, such as \"XZ\" for two qubit respectively, used to calculate the expectation.\n",
    "        sub_Hamiltonian (dict): The sub Hamiltonian which contrain the Pauli operators that can be measured in one single shot\n",
    "        repetitions (int): The number of times to repeat the simulation.\n",
    "\n",
    "    Returns:\n",
    "        energy (float): Expectation energy.\n",
    "\n",
    "    \"\"\"\n",
    "\n",
    "    if main_string == \"I\"*n_qubits:\n",
    "        # print(sub_Hamiltonian)\n",
    "        return 1.0*sub_Hamiltonian[\"1\"*n_qubits]\n",
    "    # Initialize qubits and circuit.\n",
    "    timer.reset()\n",
    "\n",
    "    qubits=cirq.LineQubit.range(n_qubits)\n",
    "    circuit=cirq.Circuit()\n",
    "    # print(f\"n_electrons = {n_electrons}\")\n",
    "    HF_gates = [cirq.X(qubits[i]) for i in range(n_electrons)]\n",
    "    state_preparation_gates = HF_gates\n",
    "    \n",
    "    # Add gates to the circuit that prepare the state corresponding to the initial parameters.\n",
    "    for theta, op in zip(parameters, excitation_pool):\n",
    "        if isinstance(op, FermionOperator):\n",
    "            op = jordan_wigner(op)\n",
    "        trotter_gates = trotterize_operator(1j*theta*op, qubits, time=1, steps=1)\n",
    "        state_preparation_gates.append(trotter_gates)\n",
    "    # trotter_gates = simulate_trotter(\n",
    "    #     qubits, T_operator, time,\n",
    "    #     n_steps=1,\n",
    "    #     order=0,\n",
    "    #     algorithm=trotter.LINEAR_SWAP_NETWORK)\n",
    "\n",
    "    \n",
    "    circuit.append(state_preparation_gates)\n",
    "    cirq.eject_z(circuit)\n",
    "    cirq.drop_negligible_operations(circuit)\n",
    "    ## Get prepared state of the circuit, verify the expectation energy.\n",
    "\n",
    "    # final_state = cirq.final_state_vector(circuit)\n",
    "    # print(f\"final_state = {final_state}\")\n",
    "    # bra = np.array(final_state)\n",
    "    # ket = np.array(bra).conj().T\n",
    "    # H_matrix = operator_list[operators]\n",
    "    # ave =  np.real(np.dot(np.dot(bra, H_matrix),ket))\n",
    "    # print(f\"ave = {ave}, norm = {np.dot(bra, ket)}\")\n",
    "\n",
    "    # Add measurements to the circuit corresponding to the operator string\n",
    "    N_measurement = 0\n",
    "    for i in range(n_qubits):\n",
    "        op = main_string[i]\n",
    "        assert op in [\"I\", \"X\", \"Y\", \"Z\"], f\"operator {op} is not a valid Pauli matrix\"\n",
    "        if op == \"X\":\n",
    "            rx90 = cirq.ry(np.pi/2)\n",
    "            circuit.append(rx90(qubits[i]))\n",
    "        elif op == \"Y\":\n",
    "            rx90 = cirq.rx(-np.pi/2)\n",
    "            circuit.append(rx90(qubits[i]))\n",
    "        \n",
    "        if op != \"I\": \n",
    "            circuit.append(cirq.measure(qubits[i], key=str(i)))\n",
    "            N_measurement += 1\n",
    "    timer.time_check(name=\"create circuits\")\n",
    "    \n",
    "    # Sample the desired number of repetitions\n",
    "    if (main_string!=\"I\"*n_qubits):\n",
    "        s=cirq.Simulator()\n",
    "        results=s.run(circuit, repetitions=repetitions)\n",
    "    timer.time_check(name=\"run the circuit\")\n",
    "\n",
    "    # For each substring, initialize a dict contain all the shot result of repetitions\n",
    "    total={}\n",
    "    for sub_string in sub_Hamiltonian:\n",
    "        total[sub_string]= []\n",
    "    # Calculate the expectation value of each Pauli string by averaging over  \n",
    "    # all the repetitions\n",
    "    data_length = len(results.data)\n",
    "    dt = np.zeros(shape=(n_qubits, data_length))\n",
    "    for i, x_index in enumerate(results.data.columns):\n",
    "        dt[int(x_index)] = results.data[x_index]\n",
    "    for sub_string in sub_Hamiltonian:\n",
    "        meas = np.ones(shape = (data_length, ))\n",
    "        for i in range(n_qubits):\n",
    "            if (sub_string[i]!=\"0\"):\n",
    "                meas = meas*(1-2*dt[i])\n",
    "        total[sub_string] = meas\n",
    "\n",
    "    timer.time_check(name=\"gather results\")\n",
    "    expectation_energy = 0\n",
    "    data_mean = results.data.mean()\n",
    "    # Calculate the expectation value of the subHamiltonian, by multiplying\n",
    "    # the expectation value of each substring by the respective coefficient\n",
    "    for sub_string in sub_Hamiltonian:\n",
    "        # Get the expectation value of this substring by taking the average\n",
    "        # ave = data_mean[main_string + sub_string]\n",
    "        ave = np.array(total[sub_string]).mean()\n",
    "        # Add this value to the total expectation value, weighed by its coefficient\n",
    "        expectation_energy += ave*sub_Hamiltonian[sub_string]\n",
    "        # print(main_string+sub_string, ave, sub_Hamiltonian[sub_string] )\n",
    "    timer.time_check(name=\"calculate expectation energy\")\n",
    "    \n",
    "    return expectation_energy"
   ]
  },
  {
   "cell_type": "code",
   "execution_count": 30,
   "metadata": {},
   "outputs": [],
   "source": [
    "def get_expectation_from_Cirq(parameters: List[float], excitation_pool: List[openfermion.QubitOperator], n_qubits: int, n_electrons:int , HF_state: np.ndarray, hamiltonian_operator: openfermion.QubitOperator, repetitions: int = 100) -> float:\n",
    "    \"\"\"\n",
    "    Get the expected value of the energy from : <HF|U+ H U|HF>\n",
    "\n",
    "    Args:\n",
    "        parameters (List[float]): parameters used to calculate the unitary\n",
    "        excitation_pool (List[openfermion.QubitOperator]): The excitation operators chosen from every step \n",
    "        n_qubits (int): The number of qubits\n",
    "        n_electrons (int): The number of electrons\n",
    "        HF_state (np.ndarray): The HF state as the ansatz\n",
    "        hamiltonian_operator (openfermion.QubitOperator): The hamiltonian operator in Pauli bases\n",
    "        repetitions: redundant, no use here\n",
    "        \n",
    "    Returns:\n",
    "        energy: The expected value of the energy\n",
    "    \"\"\"\n",
    "\n",
    "    ket = Vector_to_Ket(HF_state)\n",
    "    energy = 0\n",
    "    grouped_Hamiltonian = group_Hamiltonian(convert_hamiltonian(hamiltonian_operator, n_qubits))\n",
    "    for main_string in grouped_Hamiltonian:\n",
    "        energy += measure_expectation_from_Cirq(parameters, excitation_pool, n_qubits, n_electrons, ket, main_string, grouped_Hamiltonian[main_string], repetitions)\n",
    "    return np.real(energy)"
   ]
  },
  {
   "cell_type": "code",
   "execution_count": 31,
   "metadata": {},
   "outputs": [],
   "source": [
    "def get_gradient_from_Cirq(parameters: List[float], excitation_pool: List[openfermion.QubitOperator], n_qubits: int, n_electrons:int , HF_state: np.ndarray, \n",
    "                            hamiltonian_operator: openfermion.QubitOperator, qubit_operator: openfermion.QubitOperator, repetitions: int = 100) -> float:\n",
    "    \"\"\"\n",
    "    Get the expected value of the energy from : dE/dc = <phi|[H, A]|phi>\n",
    "\n",
    "    Args:\n",
    "        parameters (List[float]): parameters used to calculate the unitary\n",
    "        excitation_pool (List[openfermion.QubitOperator]): The excitation operators chosen from every step \n",
    "        n_qubits (int): The number of qubits\n",
    "        n_electrons (int): The number of electrons\n",
    "        HF_state (np.ndarray): The HF state as the ansatz\n",
    "        hamiltonian_operator (openfermion.QubitOperator): The hamiltonian operator in Pauli bases\n",
    "        qubit_operator (openfermion.QubitOperator): The qubit operator that requires to calculate the gradient\n",
    "        repetitions: redundant, no use here\n",
    "        \n",
    "    Returns:\n",
    "        energy: The gradient of the qubit_operator\n",
    "    \"\"\"\n",
    "\n",
    "    ket = Vector_to_Ket(HF_state)\n",
    "    energy = 0\n",
    "    effectiveHamiltonian = hamiltonian_operator * qubit_operator \n",
    "    effectiveHamiltonian -= qubit_operator * hamiltonian_operator\n",
    "    grouped_Hamiltonian = group_Hamiltonian(convert_hamiltonian(effectiveHamiltonian, n_qubits))\n",
    "    for main_string in grouped_Hamiltonian:\n",
    "        energy += measure_expectation_from_Cirq(parameters, excitation_pool , n_qubits, n_electrons, ket, main_string, grouped_Hamiltonian[main_string], repetitions)\n",
    "    return np.real(energy)\n",
    "\n",
    "# def get_grad_from_calculation(parameters List[float], excitation_pool: List[openfermion.QubitOperator], n_qubits: int, HF_state: np.ndarray, \n",
    "#                             hamiltonian_operator: openfermion.QubitOperator, qubit_pool: List[openfermion.QubitOperator]):\n",
    "#     \"\"\"\n",
    "#     Get the gradient from numerical matrix calculation\n",
    "#     Args:\n",
    "#         parameters (List[float]): parameters used to calculate the unitary\n",
    "#         excitation_pool (List[openfermion.QubitOperator]): The excitation operators chosen from every step \n",
    "#         n_qubits (int): The number of qubits\n",
    "#         n_electrons (int): The number of electrons\n",
    "#         HF_state (np.ndarray): The HF state as the ansatz\n",
    "#         hamiltonian_operator (openfermion.QubitOperator): The hamiltonian operator in Pauli bases\n",
    "#         qubit_pool (List[openfermion.QubitOperator]): The qubit operator pool that requires to calculate the gradient\n",
    "        \n",
    "#     Returns:\n",
    "#         energy: The gradient of the qubit_operator\n",
    "#         gradient_norm (float): norm of all the gradient of the operators\n",
    "\n",
    "#     \"\"\"\n",
    "#     pass\n",
    "    \n",
    "\n",
    "def find_next_operator_cirq(parameters: List[float], excitation_pool: List[openfermion.QubitOperator], n_qubits: int, n_electrons:int , HF_state: np.ndarray, \n",
    "                            hamiltonian_operator: openfermion.QubitOperator, qubit_pool: List[openfermion.QubitOperator], repetitions: int = 100) -> float:\n",
    "    \"\"\"\n",
    "    Get the expected value of the energy from : dE/dc = <phi|[H, A]|phi>\n",
    "\n",
    "    Args:\n",
    "        parameters (List[float]): parameters used to calculate the unitary\n",
    "        excitation_pool (List[openfermion.QubitOperator]): The excitation operators chosen from every step \n",
    "        n_qubits (int): The number of qubits\n",
    "        n_electrons (int): The number of electrons\n",
    "        HF_state (np.ndarray): The HF state as the ansatz\n",
    "        hamiltonian_operator (openfermion.QubitOperator): The hamiltonian operator in Pauli bases\n",
    "        qubit_pool (List[openfermion.QubitOperator]): The qubit operator pool that requires to calculate the gradient\n",
    "        repetitions: repetitions for the Cirq to simulate\n",
    "        \n",
    "    Returns:\n",
    "        energy: The gradient of the qubit_operator\n",
    "        gradient_norm (float): norm of all the gradient of the operators\n",
    "    \"\"\"\n",
    "\n",
    "    # get_grad_from_calculation(parameters, excitation_pool, n_qubits, HF_state, hamiltonian_operator, qubit_pool)\n",
    "    # print(f\"H shape = {H.shape}, current_state shape = {current_state.shape} \")\n",
    "    gi_list = []\n",
    "    for qubit_operator in qubit_pool:\n",
    "        gi = get_gradient_from_Cirq(parameters, excitation_pool, n_qubits, n_electrons, HF_state, \n",
    "                            hamiltonian_operator, qubit_operator, repetitions) \n",
    "        gi_list.append(abs(gi))\n",
    "    # print(f\"gi_list = {gi_list}\")\n",
    "    return qubit_pool[np.argmax(gi_list)], np.linalg.norm(gi_list)"
   ]
  },
  {
   "cell_type": "markdown",
   "metadata": {},
   "source": [
    "### Get parameters gradient"
   ]
  },
  {
   "cell_type": "code",
   "execution_count": 32,
   "metadata": {},
   "outputs": [],
   "source": [
    "def get_U_grad_from_matrix_calculation(parameters: List[float], excitation_pool: List[openfermion.QubitOperator], n_qubits: int, n_electrons:int , HF_state: np.ndarray, hamiltonian_operator: openfermion.QubitOperator, repetitions: int = 100) -> float:\n",
    "    \"\"\"\n",
    "    Get the gradient of the energy to the parameters : dE/d theta_i = <HF|U+ H dU/d theta_i |HF> + <HF|dU+/d theta_i H U |HF>\n",
    "    Eq(33) - Eq(38) in [Jonathan Romero et al 2019 Quantum Sci. Technol. 4 014008](https://iopscience.iop.org/article/10.1088/2058-9565/aad3e4/meta)\n",
    "    Different from the paper, we use real part of the final result instead of the imag part, because the unitary defined here is U = exp(t), not U=exp(i*t) in the paper.\n",
    "\n",
    "    Args:\n",
    "        parameters (List[float]): parameters used to calculate the unitary\n",
    "        excitation_pool (List[openfermion.QubitOperator]): The excitation operators chosen from every step \n",
    "        n_qubits (int): The number of qubits\n",
    "        n_electrons (int): The number of electrons\n",
    "        HF_state (np.ndarray): The HF state as the ansatz\n",
    "        hamiltonian_operator (openfermion.QubitOperator): The hamiltonian operator in Pauli bases\n",
    "        repetitions: redundant, no use here\n",
    "        \n",
    "    Returns:\n",
    "        energy: The expected value of the energy\n",
    "    \"\"\"\n",
    "\n",
    "    \n",
    "    assert len(parameters) == len(excitation_pool), f\"number of parameters ({len(parameters)}) is not equal to the number of excitation operators ({len(excitation_pool)})\"\n",
    "\n",
    "    T_matrix = scipy.sparse.csc_matrix(np.eye(2**n_qubits))\n",
    "    V_matrix_list = [scipy.sparse.csc_matrix(np.eye(2**n_qubits))]*len(parameters)\n",
    "\n",
    "    matrix_pool = []\n",
    "    for qubit_op in excitation_pool:\n",
    "        matrix_pool.append(get_sparse_operator(qubit_op, n_qubits = n_qubits))\n",
    "\n",
    "    for i, (p, t) in enumerate(zip(parameters, matrix_pool)):\n",
    "        U = scipy.sparse.linalg.expm(p*t)\n",
    "        T_matrix = U.dot(T_matrix)\n",
    "        for j in range(len(V_matrix_list)):\n",
    "            V_matrix_list[j] = U.dot(V_matrix_list[j])\n",
    "        V_matrix_list[i] = t.dot(V_matrix_list[i])\n",
    "    # print(f\"T_matrix = {T_matrix} \\n\")\n",
    "    # for i, V in enumerate(V_matrix_list):\n",
    "    #     print(f\"No. {i},  V_matrix = {V} \\n\")\n",
    "    \n",
    "    H_matrix = get_sparse_operator(hamiltonian_operator)\n",
    "    gi_list = []\n",
    "    for i in range(len(parameters)):\n",
    "        phi_ket = scipy.sparse.csc_matrix.dot(T_matrix, HF_state)\n",
    "        phi_bra = scipy.sparse.csc_matrix.dot(V_matrix_list[i], HF_state).transpose().conj()\n",
    "        # print(f\"No. {i}, HF_state = {HF_state},  phi_ket = {phi_ket}, phi_bra = {phi_bra}\")\n",
    "        # print(f\"No. {i}, HF_state = {HF_state.shape},  phi_ket = {phi_ket.shape}, phi_bra = {phi_bra.shape}\")\n",
    "        # print(f\"No. {i}, HF_state = {HF_state.shape},  phi_ket = {phi_ket.T.shape}, phi_bra = {phi_bra.T.shape}\")\n",
    "        gi = phi_bra.dot(H_matrix.dot(phi_ket))\n",
    "        # print(f\"gi = {gi}, H = {H_matrix}\")\n",
    "        gi_list.append(2*np.real(gi))\n",
    "    # print(f\"parameters = {parameters}, gradient of parameters = {gi_list}\")\n",
    "    return np.array(gi_list)"
   ]
  },
  {
   "cell_type": "markdown",
   "metadata": {},
   "source": [
    "# VQE method"
   ]
  },
  {
   "cell_type": "markdown",
   "metadata": {},
   "source": [
    "## VQE"
   ]
  },
  {
   "cell_type": "code",
   "execution_count": 33,
   "metadata": {},
   "outputs": [],
   "source": [
    "def VQE(parameters: List[float], excitation_pool:List[scipy.sparse.csc_matrix], n_qubits: int, n_electrons:int , HF_state: np.ndarray, hamiltonian_matrix:scipy.sparse.csc_matrix, \n",
    "        maxiter: int = 1000, gtol: float = 1e-4, get_expectation_func: callable = get_expectation_from_matrix_operation,\n",
    "        jac: callable = None, repeations: int = 1000) -> float:\n",
    "    \"\"\"\n",
    "    Get the expected value of the energy from : <HF|U+ H U|HF>\n",
    "\n",
    "    Args:\n",
    "        parameters (List[float]): parameters used to calculate the unitary\n",
    "        excitation_pool (List[scipy.sparse.csc_matrix]): The excitation operators chosen from every step \n",
    "        n_qubits (int): The number of qubits\n",
    "        n_electrons (int): The number of electrons\n",
    "        F_state (np.ndarray): The HF state as the ansatz\n",
    "        hamiltonian_matrix (scipy.sparse.csc_matrix): The hamiltonian operator matrix\n",
    "        maxiter: The maximum number of times to run the optimization\n",
    "        gtol: Gradient norm must be less than gtol before successful termination\n",
    "        get_expectation_func: callable that returns the expected value given the (parameters, H_df) as arguments\n",
    "        jac (callable): calculate the jac for the optimization\n",
    "        repetitions (int): The number of times to repeat the simulation.\n",
    "\n",
    "    Returns:\n",
    "        energy: The expected value of the energy from : <bra|H|ket>\n",
    "    \"\"\"\n",
    "\n",
    "    options={\n",
    "        \"maxiter\": maxiter, # Maximum iteration of optimization\n",
    "        \"gtol\": gtol, # Acceptable absolute error in xopt for convergence\n",
    "        # \"disp\":True,\n",
    "        \"disp\":False,\n",
    "\n",
    "        }\n",
    "\n",
    "    # dim=len(parameters)\n",
    "    # initialSimplex=np.array([parameters,]*(dim+1))\n",
    "    \n",
    "    # for i in range(dim):\n",
    "    #     initialSimplex[i+1][i]+=0.7\n",
    "    \n",
    "    # # Select the options for the optimization\n",
    "    # options={\n",
    "    #     #\"disp\": True,\n",
    "    #     \"maxfev\": maxiter, # Maximum function evaluations\n",
    "    #     \"xatol\": 0.13, # Acceptable absolute error in xopt for convergence\n",
    "    #     \"adaptive\": True,\n",
    "    #     \"initial_simplex\": initialSimplex\n",
    "    #     }\n",
    "        \n",
    "    # optResults=scipy.optimize.minimize(get_expectation_func,\\\n",
    "    #                             parameters,\\\n",
    "    #                             (excitation_pool, n_qubits, n_electrons, HF_state, hamiltonian_matrix, repeations),\\\n",
    "    #                             method='Nelder-Mead', options=options)\n",
    "    # options={\n",
    "    #     \"maxiter\": maxiter, # Maximum iteration of optimization\n",
    "    #     \"tol\": gtol, # Acceptable absolute error in xopt for convergence\n",
    "    #     }\n",
    "    # optResults=scipy.optimize.minimize(get_expectation_func,\\\n",
    "    #                             parameters,\\\n",
    "    #                             (excitation_pool, n_qubits, n_electrons, HF_state, hamiltonian_matrix, repeations),\\\n",
    "    #                             method='COBYLA', options=options)\n",
    "    optResults=scipy.optimize.minimize(get_expectation_func, parameters,\n",
    "                                (excitation_pool, n_qubits, n_electrons, HF_state, hamiltonian_matrix, repeations),\n",
    "                                method='BFGS', jac = jac, options=options)\n",
    "\n",
    "    return optResults"
   ]
  },
  {
   "cell_type": "markdown",
   "metadata": {},
   "source": [
    "## dissociation"
   ]
  },
  {
   "cell_type": "code",
   "execution_count": 37,
   "metadata": {},
   "outputs": [],
   "source": [
    "def get_dissociation_curve(helonium_r: np.ndarray, grad_tol: float = 1e-4,  maxiter: int = 10000, gtol: float = 1e-4, \n",
    "        get_expectation_func: callable = get_expectation_from_matrix_operation, get_state_func: callable = get_state_from_matrix_operation,\n",
    "        generate_operator_pool: callable = generate_qubit_V_pool, jac: callable = None,\n",
    "        simulation:bool = False, repetitions: int = 100, optimization: bool=True) -> Tuple[np.ndarray]:\n",
    "    \"\"\"\n",
    "    Using VQE to calculate dissociation curves according to the Hamiltonian.\n",
    "\n",
    "    Args:\n",
    "        helonium_r (np.ndarray): Distance between the HeH+ two atoms with unit in angstrom.\n",
    "        grad_tol (float): Stop the algorithm when the gradient norm of the operator pool reaches this tolerance\n",
    "        maxiter: The maximum number of times to run the optimization\n",
    "        gtol: Gradient norm must be less than gtol before successful termination\n",
    "        get_expectation_func (Callable): that returns the expected value given the (parameters, H_df) as arguments\n",
    "        jac (callable): calculate the jac for the optimization\n",
    "        get_state_func (Callable): that returns the current state given the (parameters, H_df) as arguments\n",
    "        generate_operator_pool (Callable): generate operator pool\n",
    "        simulation (bool): Whether use Cirq to simulate\n",
    "        repetitions (int): The number of times to repeat the simulation.\n",
    "        optimization (bool): Whether use VQE to optimize the parameters\n",
    "    \n",
    "    return (list): the information array\n",
    "    \"\"\"\n",
    "\n",
    "    groundEnergy_list = []  # record the ground energy\n",
    "    parameters_list = [] # record the ground state\n",
    "    success_list = []  # record the optimization status\n",
    "    \n",
    "    \n",
    "    for r in tqdm.tqdm(helonium_r):\n",
    "        excitation_pool = np.array([])\n",
    "        excitation_matrix_pool = np.array([])\n",
    "        \n",
    "        parameters = np.array([])\n",
    "        helonium = create_helonium(r)\n",
    "\n",
    "        if simulation:\n",
    "            packed_amplitudes, n_qubits, n_electrons, n_orbitals, HF_state, hamiltonian = get_JW_state_and_unitary_cirq(helonium)\n",
    "            _, _, _, _, HF_state_vector, hamiltonian_matrix = get_JW_state_and_unitary(helonium)\n",
    "            qubit_pool = generate_operator_pool(n_electrons, n_orbitals, n_qubits)\n",
    "            \n",
    "            matrix_pool = generate_matrix_pool(qubit_pool, n_qubits)\n",
    "            current_state = scipy.sparse.csc_matrix(HF_state_vector).T\n",
    "            i = 1\n",
    "            last_choice = openfermion.QubitOperator()\n",
    "            while True:\n",
    "                i += 1\n",
    "                excitation_op, gi_norm = find_next_operator_cirq(parameters, excitation_pool, n_qubits, n_electrons, HF_state, \n",
    "                            hamiltonian, qubit_pool, repetitions)\n",
    "                excitation_matrix_op, matrix_gi_norm =  find_next_operator(matrix_pool, current_state, hamiltonian_matrix)\n",
    "                # print(f\"R = {r}, gi_norm = {gi_norm}, matrix_gi_norm={matrix_gi_norm}\")\n",
    "                if excitation_op  == last_choice:\n",
    "                    # print(f\"R = {r}, terminate with same operator as last choice, last_choice = {last_choice}, current_choice = {excitation_op}\")\n",
    "                    # print(f\"R = {r}, terminate with same operator as last choice, gi_norm = {gi_norm}, matrix_gi_norm={matrix_gi_norm}\")\n",
    "                    break\n",
    "                # else:\n",
    "                #     print(f\"last_choice = {last_choice}, current_choice = {excitation_op}\")\n",
    "                if matrix_gi_norm < grad_tol:\n",
    "                    break\n",
    "                else:\n",
    "                    parameters = np.append(parameters, 0)\n",
    "                    excitation_pool = np.append(excitation_pool, excitation_op)\n",
    "                    excitation_matrix_pool = np.append(excitation_matrix_pool, excitation_matrix_op)\n",
    "                \n",
    "                # if i%1 == 0:\n",
    "                #     print(f\"iter = {i}, gi_norm = {gi_norm}\")\n",
    "                    # assert len(parameters) == len(excitation_pool), f\"dis, number of parameters ({len(parameters)}) is not equal to the number of excitation operators ({len(excitation_pool)})\"\n",
    "                results = VQE(parameters, excitation_pool, n_qubits, n_electrons, HF_state, hamiltonian, maxiter, gtol, get_expectation_func, jac, repetitions)\n",
    "                \n",
    "                # print(f\"success = {results.success}, parameters = {results.x}\")\n",
    "                parameters = results.x\n",
    "                current_state = get_state_func(parameters, excitation_matrix_pool, n_qubits, n_electrons, HF_state, hamiltonian, repetitions = repetitions)\n",
    "                last_choice = excitation_op\n",
    "                if np.isclose(parameters[-1], 0, rtol = 1e-6):\n",
    "                    parameters = np.delete(parameters, -1)\n",
    "                    excitation_pool = np.delete(excitation_pool, -1)\n",
    "                    # print(f\"R = {r}, terminate with redundant operator, parameters = {parameters[-1]}, excitation_op={excitation_op}\")\n",
    "                    # print(f\"R = {r}, terminate with redundant operator, gi_norm = {gi_norm}, matrix_gi_norm={matrix_gi_norm}\")\n",
    "                    break\n",
    "                # # print(f\"current_state = {current_state}\") \n",
    "        else:\n",
    "            packed_amplitudes, n_qubits, n_electrons, n_orbitals, HF_state, hamiltonian = get_JW_state_and_unitary(helonium)\n",
    "            # print(f\"hamiltonian = {hamiltonian}\")\n",
    "            qubit_pool = generate_operator_pool(n_electrons, n_orbitals, n_qubits)\n",
    "            matrix_pool = generate_matrix_pool(qubit_pool, n_qubits)\n",
    "            current_state = scipy.sparse.csc_matrix(HF_state).T\n",
    "            last_choice = scipy.sparse.csc_matrix(np.eye(2**n_qubits))\n",
    "            i = 1\n",
    "            while True:\n",
    "                i += 1\n",
    "                excitation_op, gi_norm =  find_next_operator(matrix_pool, current_state, hamiltonian)\n",
    "                # print(f\"gi_norm = {gi_norm}\")\n",
    "                # print(np.linalg.norm((excitation_op - last_choice).data))\n",
    "                if np.linalg.norm((excitation_op - last_choice).data) < 1e-4:\n",
    "                    # print(f\"R = {r}, terminate with same operator as last choice, last_choice = {last_choice}, current_choice = {excitation_op}\")\n",
    "                    # print(f\"R = {r}, terminate with same operator as last choice, gi_norm = {gi_norm}\")\n",
    "                    break\n",
    "                if gi_norm < grad_tol:\n",
    "                    break\n",
    "                else:\n",
    "                    parameters = np.append(parameters, 0)\n",
    "                    excitation_pool = np.append(excitation_pool, excitation_op)\n",
    "                \n",
    "                # if i%1 == 0:\n",
    "                #     print(f\"iter = {i}, gi_norm = {gi_norm}\")\n",
    "                    # assert len(parameters) == len(excitation_pool), f\"dis, number of parameters ({len(parameters)}) is not equal to the number of excitation operators ({len(excitation_pool)})\"\n",
    "                results = VQE(parameters, excitation_pool, n_qubits, n_electrons, HF_state, hamiltonian, maxiter, gtol, get_expectation_func, jac, repetitions)\n",
    "                # print(f\"success = {results.success}, parameters = {results.x}\")\n",
    "                parameters = results.x\n",
    "                current_state = get_state_func(parameters, excitation_pool, n_qubits, n_electrons, HF_state, hamiltonian, repetitions = repetitions*1000)\n",
    "                # print(f\"current_state = {current_state}\") \n",
    "                if np.isclose(parameters[-1], 0, rtol = 1e-6):\n",
    "                    # print(f\"R = {r}, terminate with redundant operator, parameters = {parameters[-1]}, excitation_op={excitation_op}\")\n",
    "                    # print(f\"R = {r}, terminate with redundant operator, gi_norm = {gi_norm}\")\n",
    "                    parameters = np.delete(parameters, -1)\n",
    "                    excitation_pool = np.delete(excitation_pool, -1)\n",
    "                    break\n",
    "                last_choice = excitation_op\n",
    "        success_list.append(results.success)\n",
    "        parameters_list.append(parameters)\n",
    "        groundEnergy_list.append(get_expectation_func(parameters_list[-1], excitation_pool, n_qubits, n_electrons, HF_state, hamiltonian, repetitions = repetitions*10))\n",
    "\n",
    "    print(f\"The minimum energy = {np.min(groundEnergy_list)}, and its corresponding atomic separation = {helonium_r[np.argmin(groundEnergy_list)]} Angstroms.\")\n",
    "    return helonium_r, parameters_list, np.array(groundEnergy_list), np.array(success_list), np.min(groundEnergy_list), helonium_r[np.argmin(groundEnergy_list)]\n",
    "     "
   ]
  },
  {
   "cell_type": "markdown",
   "metadata": {},
   "source": [
    "# Simulation"
   ]
  },
  {
   "cell_type": "markdown",
   "metadata": {},
   "source": [
    "## Direct matrix operation"
   ]
  },
  {
   "cell_type": "markdown",
   "metadata": {},
   "source": [
    "#### Using generate_qubit_pool_from_fermionic_pool"
   ]
  },
  {
   "cell_type": "code",
   "execution_count": 38,
   "metadata": {},
   "outputs": [
    {
     "name": "stderr",
     "output_type": "stream",
     "text": [
      "100%|████████████████████████████████████████████████████████████████████████████████████████████████████████████████████████████████████████████████████████████████| 51/51 [00:41<00:00,  1.22it/s]"
     ]
    },
    {
     "name": "stdout",
     "output_type": "stream",
     "text": [
      "The minimum energy = -2.8626923690620205, and its corresponding atomic separation = 0.916 Angstroms.\n"
     ]
    },
    {
     "name": "stderr",
     "output_type": "stream",
     "text": [
      "\n"
     ]
    }
   ],
   "source": [
    "helonium_r = np.linspace(0.1, 3.5, 51)\n",
    "DM_sd_R_list, DM_sd_groundState_list, DM_sd_groundEnergy_list,  DM_sd_success_list, DM_sd_energy_min, DM_sd_r_min \\\n",
    "    = get_dissociation_curve(helonium_r, grad_tol=1e-4, maxiter = 10000, gtol = 1e-4, \n",
    "                            get_expectation_func = get_expectation_from_matrix_operation, get_state_func = get_state_from_matrix_operation,\n",
    "                            generate_operator_pool = generate_qubit_pool_from_fermionic_pool, jac= None)"
   ]
  },
  {
   "cell_type": "code",
   "execution_count": 39,
   "metadata": {},
   "outputs": [
    {
     "name": "stdout",
     "output_type": "stream",
     "text": [
      "Calculated energy from different methods:\n",
      "|===============================================================================================================================================================================|\n",
      "|          method         |      user_energy       | openfermion.hf_energy  |    openfermion.CCSD    | openfermion.mp2_energy |    openfermion.CISD    |    openfermion.FCI     |\n",
      "|-------------------------------------------------------------------------------------------------------------------------------------------------------------------------------|\n",
      "|     Energy [Hatree]     |  -2.8626923690620205   |  -2.8543033962861633   |   -2.862692305871687   |  -2.8608053530099458   |  -2.8626923701359916   |  -2.8626923701359925   |\n",
      "|-------------------------------------------------------------------------------------------------------------------------------------------------------------------------------|\n",
      "|      relative_error     |         -4e-10         |     -0.0029304489      |       -2.24e-08        |     -0.0006591757      |          -0.0          |          -0.0          |\n",
      "|-------------------------------------------------------------------------------------------------------------------------------------------------------------------------------|\n",
      "|  relative_accuracy [%]  |      6.73928e-05       |     526.4165317413     |      0.0040326497      |     118.4122192549     |         1e-10          |          0.0           |\n",
      "|===============================================================================================================================================================================|\n"
     ]
    }
   ],
   "source": [
    "helonium = create_helonium(r=DM_sd_r_min, show_energy=True, user_energy=DM_sd_energy_min)"
   ]
  },
  {
   "cell_type": "code",
   "execution_count": 40,
   "metadata": {},
   "outputs": [
    {
     "data": {
      "image/png": "[encoded data removed]",
      "text/plain": [
       "<Figure size 432x288 with 2 Axes>"
      ]
     },
     "metadata": {
      "needs_background": "light"
     },
     "output_type": "display_data"
    }
   ],
   "source": [
    "zoom_index = np.where(DM_sd_groundEnergy_list < -2.6)\n",
    "fig, (ax0, ax1) = plt.subplots(2, 1)\n",
    "ax0.plot(DM_sd_R_list, DM_sd_groundEnergy_list)\n",
    "ax0.set_xlabel(\"Atomic separation[atomic angstrom]\")\n",
    "ax0.set_ylabel(\"Energy [Hatree]\")\n",
    "ax1.plot(DM_sd_R_list[zoom_index], DM_sd_groundEnergy_list[zoom_index])\n",
    "ax1.set_xlabel(\"Atomic separation[atomic angstrom]\")\n",
    "ax1.set_ylabel(\"Energy [Hatree]\")\n",
    "plt.show()  "
   ]
  },
  {
   "cell_type": "markdown",
   "metadata": {},
   "source": [
    "### Using generate_qubit_pool_without_Z"
   ]
  },
  {
   "cell_type": "code",
   "execution_count": 41,
   "metadata": {},
   "outputs": [
    {
     "name": "stderr",
     "output_type": "stream",
     "text": [
      "100%|████████████████████████████████████████████████████████████████████████████████████████████████████████████████████████████████████████████████████████████████| 51/51 [00:41<00:00,  1.24it/s]"
     ]
    },
    {
     "name": "stdout",
     "output_type": "stream",
     "text": [
      "The minimum energy = -2.862692367508789, and its corresponding atomic separation = 0.916 Angstroms.\n"
     ]
    },
    {
     "name": "stderr",
     "output_type": "stream",
     "text": [
      "\n"
     ]
    }
   ],
   "source": [
    "helonium_r = np.linspace(0.1, 3.5, 51)\n",
    "DM_sd_R_list, DM_sd_groundState_list, DM_sd_groundEnergy_list,  DM_sd_success_list, DM_sd_energy_min, DM_sd_r_min \\\n",
    "    = get_dissociation_curve(helonium_r, grad_tol=1e-4, maxiter = 10000, gtol = 1e-4, \n",
    "                            get_expectation_func = get_expectation_from_matrix_operation, get_state_func = get_state_from_matrix_operation,\n",
    "                            generate_operator_pool = generate_qubit_pool_without_Z, jac= None)"
   ]
  },
  {
   "cell_type": "code",
   "execution_count": 42,
   "metadata": {},
   "outputs": [
    {
     "name": "stdout",
     "output_type": "stream",
     "text": [
      "Calculated energy from different methods:\n",
      "|===============================================================================================================================================================================|\n",
      "|          method         |      user_energy       | openfermion.hf_energy  |    openfermion.CCSD    | openfermion.mp2_energy |    openfermion.CISD    |    openfermion.FCI     |\n",
      "|-------------------------------------------------------------------------------------------------------------------------------------------------------------------------------|\n",
      "|     Energy [Hatree]     |   -2.862692367508789   |  -2.8543033962861633   |   -2.862692305871687   |  -2.8608053530099458   |  -2.8626923701359916   |  -2.8626923701359925   |\n",
      "|-------------------------------------------------------------------------------------------------------------------------------------------------------------------------------|\n",
      "|      relative_error     |         -9e-10         |     -0.0029304489      |       -2.24e-08        |     -0.0006591757      |          -0.0          |          -0.0          |\n",
      "|-------------------------------------------------------------------------------------------------------------------------------------------------------------------------------|\n",
      "|  relative_accuracy [%]  |      0.0001648596      |     526.4165317413     |      0.0040326497      |     118.4122192549     |         1e-10          |          0.0           |\n",
      "|===============================================================================================================================================================================|\n"
     ]
    }
   ],
   "source": [
    "helonium = create_helonium(r=DM_sd_r_min, show_energy=True, user_energy=DM_sd_energy_min)"
   ]
  },
  {
   "cell_type": "code",
   "execution_count": 43,
   "metadata": {},
   "outputs": [
    {
     "data": {
      "image/png": "[encoded data removed]",
      "text/plain": [
       "<Figure size 432x288 with 2 Axes>"
      ]
     },
     "metadata": {
      "needs_background": "light"
     },
     "output_type": "display_data"
    }
   ],
   "source": [
    "zoom_index = np.where(DM_sd_groundEnergy_list < -2.6)\n",
    "fig, (ax0, ax1) = plt.subplots(2, 1)\n",
    "ax0.plot(DM_sd_R_list, DM_sd_groundEnergy_list)\n",
    "ax0.set_xlabel(\"Atomic separation[atomic angstrom]\")\n",
    "ax0.set_ylabel(\"Energy [Hatree]\")\n",
    "ax1.plot(DM_sd_R_list[zoom_index], DM_sd_groundEnergy_list[zoom_index])\n",
    "ax1.set_xlabel(\"Atomic separation[atomic angstrom]\")\n",
    "ax1.set_ylabel(\"Energy [Hatree]\")\n",
    "plt.show()  "
   ]
  },
  {
   "cell_type": "markdown",
   "metadata": {},
   "source": [
    "### Using generate_qubit_V_pool\n",
    "V_pool and G_pool is not working, the gradient of the operator are all zero."
   ]
  },
  {
   "cell_type": "code",
   "execution_count": 44,
   "metadata": {},
   "outputs": [],
   "source": [
    "# helonium_r = np.linspace(0.1, 3.5, 51)\n",
    "# helonium_r = np.linspace(0.916, 0.918, 1)\n",
    "# DM_gsd_R_list, DM_gsd_groundState_list, DM_gsd_groundEnergy_list,  DM_gsd_success_list, DM_gsd_energy_min, DM_gsd_r_min \\\n",
    "#                                 = get_dissociation_curve(helonium_r, grad_tol=1e-4, maxiter = 10000, gtol = 1e-4, \n",
    "#                                         get_expectation_func = get_expectation_from_matrix_operation, get_state_func = get_state_from_matrix_operation,\n",
    "#                                         generate_operator_pool = generate_qubit_G_pool2, jac=get_U_grad_from_matrix_calculation_matrix_pool)"
   ]
  },
  {
   "cell_type": "markdown",
   "metadata": {},
   "source": [
    "## From circuit simulation based on Cirq"
   ]
  },
  {
   "cell_type": "markdown",
   "metadata": {},
   "source": [
    "### Using parameters gradient calculate from quantum mechanics.\n",
    "\n",
    "1. In the [Jonathan Romero et al 2019 Quantum Sci. Technol. 4 014008](https://iopscience.iop.org/article/10.1088/2058-9565/aad3e4/meta), the gradient of the energy to the parameters can be more efficient calculated based on the quantum mechanics compared to the numerical finite differences.\n",
    "2. With the scipy.linalg.optimize function, using \"BFGS\" method is efficient when doing the direct matrix calculation. But when it comes to the qunatum circuit simulation by Cirq, the gradient calculation with large error exhibits the convergence of the optimization.\n",
    "3. Increase the number of single shot readout may help to improve the convergence of the optimization, but it requires a large overhead of single shot measurements.\n",
    "4. We applied the energy gradient invented in the paper, but with only direct matrix calculation. Here, we just focus on the main point of the ADAPT_VQE algorithm, which is the using of the operator pool.\n",
    "    "
   ]
  },
  {
   "cell_type": "markdown",
   "metadata": {},
   "source": [
    "#### Compare the parameter gradient used for optimization with/ without the user-defined function."
   ]
  },
  {
   "cell_type": "code",
   "execution_count": 46,
   "metadata": {},
   "outputs": [
    {
     "name": "stderr",
     "output_type": "stream",
     "text": [
      "100%|██████████████████████████████████████████████████████████████████████████████████████████████████████████████████████████████████████████████████████████████████| 1/1 [00:01<00:00,  1.18s/it]"
     ]
    },
    {
     "name": "stdout",
     "output_type": "stream",
     "text": [
      "The minimum energy = -2.862692367508789, and its corresponding atomic separation = 0.916 Angstroms.\n"
     ]
    },
    {
     "name": "stderr",
     "output_type": "stream",
     "text": [
      "\n"
     ]
    }
   ],
   "source": [
    "# Not using jac\n",
    "helonium_r = np.linspace(0.916, 0.918, 1)\n",
    "DM_sd_R_list, DM_sd_groundState_list, DM_sd_groundEnergy_list,  DM_sd_success_list, DM_sd_energy_min, DM_sd_r_min \\\n",
    "    = get_dissociation_curve(helonium_r, grad_tol=1e-4, maxiter = 10000, gtol = 1e-4, \n",
    "                            get_expectation_func = get_expectation_from_matrix_operation, get_state_func = get_state_from_matrix_operation,\n",
    "                            generate_operator_pool = generate_qubit_pool_without_Z, jac= None)"
   ]
  },
  {
   "cell_type": "code",
   "execution_count": 47,
   "metadata": {},
   "outputs": [
    {
     "name": "stderr",
     "output_type": "stream",
     "text": [
      "100%|██████████████████████████████████████████████████████████████████████████████████████████████████████████████████████████████████████████████████████████████████| 1/1 [00:00<00:00,  1.17it/s]"
     ]
    },
    {
     "name": "stdout",
     "output_type": "stream",
     "text": [
      "The minimum energy = -2.8626923675108573, and its corresponding atomic separation = 0.916 Angstroms.\n"
     ]
    },
    {
     "name": "stderr",
     "output_type": "stream",
     "text": [
      "\n"
     ]
    }
   ],
   "source": [
    "# Using jac = get_U_grad_from_matrix_calculation_matrix_pool\n",
    "helonium_r = np.linspace(0.916, 0.918, 1)\n",
    "DM_sd_R_list, DM_sd_groundState_list, DM_sd_groundEnergy_list,  DM_sd_success_list, DM_sd_energy_min, DM_sd_r_min \\\n",
    "    = get_dissociation_curve(helonium_r, grad_tol=1e-4, maxiter = 10000, gtol = 1e-4, \n",
    "                            get_expectation_func = get_expectation_from_matrix_operation, get_state_func = get_state_from_matrix_operation,\n",
    "                            generate_operator_pool = generate_qubit_pool_without_Z, jac = get_U_grad_from_matrix_calculation_matrix_pool)"
   ]
  },
  {
   "cell_type": "markdown",
   "metadata": {},
   "source": [
    "#### Using user-defined parameters gradient function in the circuit simulation"
   ]
  },
  {
   "cell_type": "code",
   "execution_count": null,
   "metadata": {},
   "outputs": [
    {
     "name": "stderr",
     "output_type": "stream",
     "text": [
      "100%|████████████████████████████████████████████████████████████████████████████████████████████████████████████████████████████████████████████████████████████████| 1/1 [17:38<00:00, 1058.44s/it]"
     ]
    },
    {
     "name": "stdout",
     "output_type": "stream",
     "text": [
      "The minimum energy = -2.862757504765487, and its corresponding atomic separation = 0.916 Angstroms.\n"
     ]
    },
    {
     "name": "stderr",
     "output_type": "stream",
     "text": [
      "\n"
     ]
    }
   ],
   "source": [
    "# helonium_r = np.linspace(0.1, 3.5, 51)\n",
    "helonium_r = np.linspace(0.916, 0.918, 1)\n",
    "# print(helonium_r)\n",
    "R_list, groundState_list, groundEnergy_list, success_list, sim_energy_min, sim_r_min \\\n",
    "    = get_dissociation_curve(helonium_r, grad_tol=1e-4, maxiter = 1000, gtol = 1e-2, \n",
    "    get_expectation_func =  get_expectation_from_Cirq, generate_operator_pool = generate_qubit_pool_without_Z,\n",
    "    jac = get_U_grad_from_matrix_calculation, simulation=True, repetitions=200000)"
   ]
  },
  {
   "cell_type": "code",
   "execution_count": null,
   "metadata": {},
   "outputs": [
    {
     "name": "stdout",
     "output_type": "stream",
     "text": [
      "Calculated energy from different methods:\n",
      "|===============================================================================================================================================================================|\n",
      "|          method         |      user_energy       | openfermion.hf_energy  |    openfermion.CCSD    | openfermion.mp2_energy |    openfermion.CISD    |    openfermion.FCI     |\n",
      "|-------------------------------------------------------------------------------------------------------------------------------------------------------------------------------|\n",
      "|     Energy [Hatree]     |   -2.862757504765487   |  -2.8543033962861633   |   -2.862692305871687   |  -2.8608053530099458   |  -2.8626923701359916   |  -2.8626923701359925   |\n",
      "|-------------------------------------------------------------------------------------------------------------------------------------------------------------------------------|\n",
      "|      relative_error     |      2.27529e-05       |     -0.0029304489      |       -2.24e-08        |     -0.0006591757      |          -0.0          |          -0.0          |\n",
      "|-------------------------------------------------------------------------------------------------------------------------------------------------------------------------------|\n",
      "|  relative_accuracy [%]  |      -4.087263397      |     526.4165317413     |      0.0040326497      |     118.4122192549     |         1e-10          |          0.0           |\n",
      "|===============================================================================================================================================================================|\n"
     ]
    }
   ],
   "source": [
    "helonium = create_helonium(r= sim_r_min, show_energy=True, user_energy=sim_energy_min)"
   ]
  },
  {
   "cell_type": "code",
   "execution_count": null,
   "metadata": {},
   "outputs": [
    {
     "data": {
      "text/plain": [
       "array([False])"
      ]
     },
     "execution_count": 93,
     "metadata": {},
     "output_type": "execute_result"
    }
   ],
   "source": [
    "success_list"
   ]
  },
  {
   "cell_type": "code",
   "execution_count": null,
   "metadata": {},
   "outputs": [
    {
     "data": {
      "text/plain": [
       "<Figure size 1440x7200 with 0 Axes>"
      ]
     },
     "metadata": {},
     "output_type": "display_data"
    },
    {
     "data": {
      "image/png": "[encoded data removed]",
      "text/plain": [
       "<Figure size 288x576 with 3 Axes>"
      ]
     },
     "metadata": {
      "needs_background": "light"
     },
     "output_type": "display_data"
    }
   ],
   "source": [
    "# zoom_index = np.where(groundEnergy_list < -2.6)\n",
    "# plt.figure(figsize = (20, 100))\n",
    "# fig, (ax0, ax1, ax2) = plt.subplots(3, 1)\n",
    "# fig.set_figheight(8)\n",
    "# fig.set_figwidth(4)\n",
    "\n",
    "# plt.subplots_adjust(wspace =0, hspace =0.5)\n",
    "# ax0.plot(R_list, groundEnergy_list)\n",
    "# ax0.set_xlabel(\"Atomic separation[atomic angstrom]\")\n",
    "# ax0.set_ylabel(\"Energy [Hatree]\")\n",
    "\n",
    "# ax1.plot(R_list[zoom_index], groundEnergy_list[zoom_index])\n",
    "# DM_zoom_index = np.where(DM_sd_groundEnergy_list < -2.6)\n",
    "# ax1.plot(DM_sd_R_list[DM_zoom_index], DM_sd_groundEnergy_list[DM_zoom_index])\n",
    "# ax1.set_xlabel(\"Atomic separation[atomic angstrom]\")\n",
    "# ax1.set_ylabel(\"Energy [Hatree]\")\n",
    "# ax1.legend([\"Cirq\", \"Direct Matrix\"])\n",
    "# ax1.plot(R_list[zoom_index], groundEnergy_list[zoom_index])\n",
    "\n",
    "# ax2.plot(R_list[zoom_index], (groundEnergy_list[zoom_index] - DM_sd_groundEnergy_list[zoom_index])/(DM_sd_groundEnergy_list[zoom_index]))\n",
    "# ax2.set_xlabel(\"Atomic separation[atomic angstrom]\")\n",
    "# ax2.set_ylabel(\"Energy [%]\")\n",
    "# plt.show()  "
   ]
  },
  {
   "cell_type": "code",
   "execution_count": null,
   "metadata": {},
   "outputs": [],
   "source": []
  },
  {
   "cell_type": "code",
   "execution_count": null,
   "metadata": {},
   "outputs": [],
   "source": []
  }
 ],
 "metadata": {
  "kernelspec": {
   "display_name": "Python 3 (ipykernel)",
   "language": "python",
   "name": "python3"
  },
  "language_info": {
   "codemirror_mode": {
    "name": "ipython",
    "version": 3
   },
   "file_extension": ".py",
   "mimetype": "text/x-python",
   "name": "python",
   "nbconvert_exporter": "python",
   "pygments_lexer": "ipython3",
   "version": "3.9.5"
  },
  "orig_nbformat": 4,
  "vscode": {
   "interpreter": {
    "hash": "8628c9cfce7aedbed56a3c96e6a1aaec93d1308685d34753d7c38c48d5a1117a"
   }
  }
 },
 "nbformat": 4,
 "nbformat_minor": 2
}
